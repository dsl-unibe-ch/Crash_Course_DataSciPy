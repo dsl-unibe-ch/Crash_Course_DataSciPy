{
 "cells": [
  {
   "cell_type": "code",
   "execution_count": null,
   "id": "89baba00",
   "metadata": {},
   "outputs": [],
   "source": [
    "import numpy as np"
   ]
  },
  {
   "cell_type": "markdown",
   "id": "88850c80",
   "metadata": {},
   "source": [
    "# 3) Accessing subsets of arrays - Demos"
   ]
  },
  {
   "cell_type": "markdown",
   "id": "0671c9f9",
   "metadata": {},
   "source": [
    "## Slicing of arrays"
   ]
  },
  {
   "cell_type": "markdown",
   "id": "d0fd2d28",
   "metadata": {},
   "source": [
    "1D arrays:"
   ]
  },
  {
   "cell_type": "code",
   "execution_count": null,
   "id": "61ce46f8",
   "metadata": {},
   "outputs": [],
   "source": [
    "array_1 = np.array([1, 2, 3, 4, 5, 6, 7, 8, 9, 10])\n",
    "\n",
    "slice_1a = array_1[2:5]\n",
    "slice_1b = array_1[:5]\n",
    "slice_1c = array_1[5::-1]\n",
    "slice_1d = array_1[::2]\n",
    "\n",
    "print(slice_1a)\n",
    "print(slice_1b)\n",
    "print(slice_1c)\n",
    "print(slice_1d)"
   ]
  },
  {
   "cell_type": "markdown",
   "id": "0dfebf51",
   "metadata": {},
   "source": [
    "Images as 2D arrays:"
   ]
  },
  {
   "cell_type": "code",
   "execution_count": null,
   "id": "2f200927",
   "metadata": {},
   "outputs": [],
   "source": [
    "import skimage\n",
    "from matplotlib import pyplot as plt\n",
    "\n",
    "img_path = \"https://praexia.com/wp-content/uploads/2022/01/snake-800x399.jpg\"\n",
    "image_array = skimage.io.imread(img_path, as_gray=True)  # Use `as_gray=True` to convert it to grayscale (no channel dimension)\n",
    "\n",
    "image_array"
   ]
  },
  {
   "cell_type": "code",
   "execution_count": null,
   "id": "3b8e4a73",
   "metadata": {},
   "outputs": [],
   "source": [
    "plt.imshow(image_array, cmap='gray')  # Display the image\n",
    "plt.show()"
   ]
  },
  {
   "cell_type": "code",
   "execution_count": null,
   "id": "45d1f842",
   "metadata": {},
   "outputs": [],
   "source": [
    "img_slice1 = image_array[60:180, 640:760]  # Crop a region from the image\n",
    "plt.imshow(img_slice1, cmap='gray')  # Display the cropped region\n",
    "plt.show()"
   ]
  },
  {
   "cell_type": "code",
   "execution_count": null,
   "id": "d44b284b",
   "metadata": {},
   "outputs": [],
   "source": [
    "img_slice1[:,:] = 0 # Set the cropped region to black\n",
    "plt.imshow(image_array, cmap='gray') # img_slice1 is a view, so changes are reflected in the original image\n",
    "plt.show()"
   ]
  },
  {
   "cell_type": "code",
   "execution_count": null,
   "id": "1a02726e",
   "metadata": {},
   "outputs": [],
   "source": [
    "downsampled_image = image_array[:, ::2]  # Downsample the image by taking every second pixel in the scond dimension (columns, i.e., width)\n",
    "plt.imshow(downsampled_image, cmap='gray')  # Display the downsampled image\n",
    "plt.show()"
   ]
  },
  {
   "cell_type": "markdown",
   "id": "79cc8c33",
   "metadata": {},
   "source": [
    "## Masking and thresholding"
   ]
  },
  {
   "cell_type": "markdown",
   "id": "d93532da",
   "metadata": {},
   "source": [
    "Retrieve the original image:"
   ]
  },
  {
   "cell_type": "code",
   "execution_count": null,
   "id": "57a5520c",
   "metadata": {},
   "outputs": [],
   "source": [
    "image_array = skimage.io.imread(img_path, as_gray=True)  # Load the image from the URL"
   ]
  },
  {
   "cell_type": "markdown",
   "id": "5951f946",
   "metadata": {},
   "source": [
    "Find all bright pixels, i.e. pixels with a value greater than 0.5:"
   ]
  },
  {
   "cell_type": "code",
   "execution_count": null,
   "id": "40583da2",
   "metadata": {},
   "outputs": [],
   "source": [
    "bright_mask = image_array >= 0.7  # Use greater than or equal to 0.5 as a mask\n",
    "\n",
    "region = bright_mask[225:237, 325:337]\n",
    "print(region)  # Print a region of the mask for illustration\n",
    "\n",
    "plt.imshow(region, cmap='gray')  # Display the mask (False = 0 = black, True = 1 = white)\n",
    "plt.show()"
   ]
  },
  {
   "cell_type": "markdown",
   "id": "6c805482",
   "metadata": {},
   "source": [
    "Set those pixels to white:"
   ]
  },
  {
   "cell_type": "code",
   "execution_count": null,
   "id": "d5e5e66a",
   "metadata": {},
   "outputs": [],
   "source": [
    "thresh_img_white = image_array.copy()\n",
    "thresh_img_white[bright_mask] = 1.0  # Set bright pixels to white\n",
    "\n",
    "plt.imshow(image_array, cmap='gray')  # Display the original image again\n",
    "plt.show()\n",
    "plt.imshow(thresh_img_white, cmap='gray')  # Display the modified image"
   ]
  },
  {
   "cell_type": "markdown",
   "id": "d6e0ba8e",
   "metadata": {},
   "source": [
    "Check the effect on the histogram.\n",
    "\n",
    "First the original:"
   ]
  },
  {
   "cell_type": "code",
   "execution_count": null,
   "id": "eab39f5b",
   "metadata": {},
   "outputs": [],
   "source": [
    "linear_values = image_array.flatten()  # Flatten the image array to 1D for histogram\n",
    "plt.hist(linear_values, bins=50, edgecolor='black')  # Create a histogram of pixel values\n",
    "plt.show()  # Show the histogram plot"
   ]
  },
  {
   "cell_type": "markdown",
   "id": "277a66d3",
   "metadata": {},
   "source": [
    "Then the modified image:"
   ]
  },
  {
   "cell_type": "code",
   "execution_count": null,
   "id": "70a8f996",
   "metadata": {},
   "outputs": [],
   "source": [
    "linear_values = thresh_img_white.flatten()  # Flatten the image array to 1D for histogram\n",
    "plt.hist(linear_values, bins=50, edgecolor='black')  # Create a histogram of pixel values\n",
    "plt.show()  # Show the histogram plot"
   ]
  }
 ],
 "metadata": {
  "kernelspec": {
   "display_name": "cp-env02",
   "language": "python",
   "name": "python3"
  },
  "language_info": {
   "codemirror_mode": {
    "name": "ipython",
    "version": 3
   },
   "file_extension": ".py",
   "mimetype": "text/x-python",
   "name": "python",
   "nbconvert_exporter": "python",
   "pygments_lexer": "ipython3",
   "version": "3.11.11"
  }
 },
 "nbformat": 4,
 "nbformat_minor": 5
}
