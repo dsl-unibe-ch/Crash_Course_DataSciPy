{
 "cells": [
  {
   "cell_type": "markdown",
   "metadata": {
    "id": "6LZWsXsoP9xF"
   },
   "source": [
    "# 1) Introduction to NumPy Arrays"
   ]
  },
  {
   "cell_type": "markdown",
   "metadata": {},
   "source": [
    "## NumPy documentation"
   ]
  },
  {
   "cell_type": "markdown",
   "metadata": {},
   "source": [
    "**Note: Numpy has a very good and extensive documentation, which you can find at https://numpy.org/doc/stable/. If you need any further details about numpy arrays, you can always refer to it.**"
   ]
  },
  {
   "cell_type": "markdown",
   "metadata": {},
   "source": [
    "## Motivation for arrays"
   ]
  },
  {
   "cell_type": "markdown",
   "metadata": {},
   "source": [
    "We have seen that for numerical data, we often use Numpy arrays. Why do we need this additional container and why can't we just use Python lists ?\n",
    "\n",
    "Let's illustrate this with an example. Imagine we have a list containing weights in gramms:"
   ]
  },
  {
   "cell_type": "code",
   "execution_count": null,
   "metadata": {
    "executionInfo": {
     "elapsed": 785,
     "status": "ok",
     "timestamp": 1614342463990,
     "user": {
      "displayName": "Guillaume Witz",
      "photoUrl": "https://lh3.googleusercontent.com/a-/AOh14GgT0K2JVYzEsjzsS5nhkUVjUrSIJ5jHzXnBoYrmVf8=s64",
      "userId": "16033870147214403532"
     },
     "user_tz": -60
    },
    "id": "9iY_ZQgrTWCa",
    "tags": []
   },
   "outputs": [],
   "source": [
    "gramms = [5400, 3491, 2591, 14100]"
   ]
  },
  {
   "cell_type": "markdown",
   "metadata": {
    "id": "NvPLOmlMTxbY"
   },
   "source": [
    "Now we want to transform this list into kilogramms. We don't have any other choice than using a for loop (or a comprehension list) to divide each element by 1000:"
   ]
  },
  {
   "cell_type": "code",
   "execution_count": null,
   "metadata": {
    "colab": {
     "base_uri": "https://localhost:8080/"
    },
    "executionInfo": {
     "elapsed": 687,
     "status": "ok",
     "timestamp": 1614342547380,
     "user": {
      "displayName": "Guillaume Witz",
      "photoUrl": "https://lh3.googleusercontent.com/a-/AOh14GgT0K2JVYzEsjzsS5nhkUVjUrSIJ5jHzXnBoYrmVf8=s64",
      "userId": "16033870147214403532"
     },
     "user_tz": -60
    },
    "id": "5nK4mxwlT7ys",
    "outputId": "42055c51-bf26-4294-fb65-2c0a48faed49",
    "tags": []
   },
   "outputs": [],
   "source": [
    "kilogramms = []\n",
    "for i in range(len(gramms)):\n",
    "    new_value = gramms[i]/1000\n",
    "    kilogramms.append(new_value)\n",
    "kilogramms"
   ]
  },
  {
   "cell_type": "markdown",
   "metadata": {
    "id": "RleZZQejUI1c"
   },
   "source": [
    "You can imagine much more complex cases, e.g. where we mix multiple lists, that makes this writing cumbersome and slow. What arrays provide us is **vectorized** computations."
   ]
  },
  {
   "cell_type": "markdown",
   "metadata": {
    "id": "wPNdTPiiTT3A"
   },
   "source": [
    "## Creating an array from a list"
   ]
  },
  {
   "cell_type": "markdown",
   "metadata": {},
   "source": [
    "To see how this works  with NumPy, let's create a Numpy array. First of all, let's import Numpy."
   ]
  },
  {
   "cell_type": "code",
   "execution_count": null,
   "metadata": {
    "executionInfo": {
     "elapsed": 1030,
     "status": "ok",
     "timestamp": 1614342719264,
     "user": {
      "displayName": "Guillaume Witz",
      "photoUrl": "https://lh3.googleusercontent.com/a-/AOh14GgT0K2JVYzEsjzsS5nhkUVjUrSIJ5jHzXnBoYrmVf8=s64",
      "userId": "16033870147214403532"
     },
     "user_tz": -60
    },
    "id": "LzNYiEOyUaQD",
    "tags": []
   },
   "outputs": [],
   "source": [
    "import numpy as np"
   ]
  },
  {
   "cell_type": "markdown",
   "metadata": {
    "id": "_aPAQuXVUxRl"
   },
   "source": [
    "We can easily turn our list from above into an array using the ```np.array``` function:"
   ]
  },
  {
   "cell_type": "code",
   "execution_count": null,
   "metadata": {
    "colab": {
     "base_uri": "https://localhost:8080/"
    },
    "executionInfo": {
     "elapsed": 730,
     "status": "ok",
     "timestamp": 1614342770460,
     "user": {
      "displayName": "Guillaume Witz",
      "photoUrl": "https://lh3.googleusercontent.com/a-/AOh14GgT0K2JVYzEsjzsS5nhkUVjUrSIJ5jHzXnBoYrmVf8=s64",
      "userId": "16033870147214403532"
     },
     "user_tz": -60
    },
    "id": "50BgLjoRU4YZ",
    "outputId": "38a89dcc-12e7-48a9-ffbc-83bb1a5247ed",
    "tags": []
   },
   "outputs": [],
   "source": [
    "gramms_array = np.array(gramms)\n",
    "gramms_array"
   ]
  },
  {
   "cell_type": "markdown",
   "metadata": {},
   "source": [
    "## Vectorized operations"
   ]
  },
  {
   "cell_type": "markdown",
   "metadata": {
    "id": "6nMaz-_DVBhM"
   },
   "source": [
    "**Vectorization** means now that we can operate on the list as **one object**, i.e. we can do mathematics with it as with a single number. In our example:"
   ]
  },
  {
   "cell_type": "code",
   "execution_count": null,
   "metadata": {
    "colab": {
     "base_uri": "https://localhost:8080/"
    },
    "executionInfo": {
     "elapsed": 850,
     "status": "ok",
     "timestamp": 1614342861395,
     "user": {
      "displayName": "Guillaume Witz",
      "photoUrl": "https://lh3.googleusercontent.com/a-/AOh14GgT0K2JVYzEsjzsS5nhkUVjUrSIJ5jHzXnBoYrmVf8=s64",
      "userId": "16033870147214403532"
     },
     "user_tz": -60
    },
    "id": "zG3ZfpPdVNzG",
    "outputId": "e3b6038b-a1bc-41af-8757-42dc6caaa0fb",
    "tags": []
   },
   "outputs": [],
   "source": [
    "kilogramms_array = gramms_array / 1000\n",
    "kilogramms_array"
   ]
  },
  {
   "cell_type": "markdown",
   "metadata": {
    "id": "N2Bl_00LS9ns"
   },
   "source": [
    "As mentioned above, this also works if we need to performe a computation which uses multiple arrays. Let's imagine we have a list of price/$m^2$ and surface for a series of appartments:"
   ]
  },
  {
   "cell_type": "code",
   "execution_count": null,
   "metadata": {
    "executionInfo": {
     "elapsed": 854,
     "status": "ok",
     "timestamp": 1614343056796,
     "user": {
      "displayName": "Guillaume Witz",
      "photoUrl": "https://lh3.googleusercontent.com/a-/AOh14GgT0K2JVYzEsjzsS5nhkUVjUrSIJ5jHzXnBoYrmVf8=s64",
      "userId": "16033870147214403532"
     },
     "user_tz": -60
    },
    "id": "63RxqWJCSj6Q",
    "tags": []
   },
   "outputs": [],
   "source": [
    "price_per_m2 = [6, 10.3, 12.4, 10.6, 5.7, 4.3, 14, 0.5, 0.5, 17.8, 12.7, 16, 2.7, 17.5, 5.2, 7.1, 1.2, 7.2, 14.5, 11.9]\n",
    "surface = [238, 239, 265, 212, 143, 132, 142, 133, 109, 291, 225, 165, 141, 197, 298, 289, 123,  90, 132, 203]"
   ]
  },
  {
   "cell_type": "markdown",
   "metadata": {
    "id": "kONcD-Fo-AzN"
   },
   "source": [
    "Now if we want to calculate the price of the apartment, we can multiply each price/$m^2$ by the surface. We could do that by creating a for loop and filling a new list with the values:"
   ]
  },
  {
   "cell_type": "code",
   "execution_count": null,
   "metadata": {
    "executionInfo": {
     "elapsed": 899,
     "status": "ok",
     "timestamp": 1614343088730,
     "user": {
      "displayName": "Guillaume Witz",
      "photoUrl": "https://lh3.googleusercontent.com/a-/AOh14GgT0K2JVYzEsjzsS5nhkUVjUrSIJ5jHzXnBoYrmVf8=s64",
      "userId": "16033870147214403532"
     },
     "user_tz": -60
    },
    "id": "g2mXTvba-VSH",
    "tags": []
   },
   "outputs": [],
   "source": [
    "price = []\n",
    "for i in range(len(price_per_m2)):\n",
    "    current_price = price_per_m2[i] * surface[i]\n",
    "    price.append(current_price)"
   ]
  },
  {
   "cell_type": "code",
   "execution_count": null,
   "metadata": {
    "colab": {
     "base_uri": "https://localhost:8080/"
    },
    "executionInfo": {
     "elapsed": 656,
     "status": "ok",
     "timestamp": 1614343089966,
     "user": {
      "displayName": "Guillaume Witz",
      "photoUrl": "https://lh3.googleusercontent.com/a-/AOh14GgT0K2JVYzEsjzsS5nhkUVjUrSIJ5jHzXnBoYrmVf8=s64",
      "userId": "16033870147214403532"
     },
     "user_tz": -60
    },
    "id": "18M7PDlS-WPA",
    "outputId": "a581cf21-9483-4ca0-ce5c-f5bf5c849e11",
    "tags": []
   },
   "outputs": [],
   "source": [
    "price"
   ]
  },
  {
   "cell_type": "markdown",
   "metadata": {
    "id": "Ehykz3OdTGog"
   },
   "source": [
    "As you might have guessed, it makes more sense, to once more transform the two lists into arrays:"
   ]
  },
  {
   "cell_type": "code",
   "execution_count": null,
   "metadata": {
    "executionInfo": {
     "elapsed": 922,
     "status": "ok",
     "timestamp": 1614343113706,
     "user": {
      "displayName": "Guillaume Witz",
      "photoUrl": "https://lh3.googleusercontent.com/a-/AOh14GgT0K2JVYzEsjzsS5nhkUVjUrSIJ5jHzXnBoYrmVf8=s64",
      "userId": "16033870147214403532"
     },
     "user_tz": -60
    },
    "id": "2EuNCAor-aZx",
    "tags": []
   },
   "outputs": [],
   "source": [
    "price_per_m2_array = np.array(price_per_m2)\n",
    "surface_array = np.array(surface)"
   ]
  },
  {
   "cell_type": "markdown",
   "metadata": {
    "id": "PlUpfLap-nqy"
   },
   "source": [
    "Instead of having to write a foor loop, Numpy allows us now to just use a standard mathemetical operation where we multiply the two arrays:"
   ]
  },
  {
   "cell_type": "code",
   "execution_count": null,
   "metadata": {
    "executionInfo": {
     "elapsed": 731,
     "status": "ok",
     "timestamp": 1614343127191,
     "user": {
      "displayName": "Guillaume Witz",
      "photoUrl": "https://lh3.googleusercontent.com/a-/AOh14GgT0K2JVYzEsjzsS5nhkUVjUrSIJ5jHzXnBoYrmVf8=s64",
      "userId": "16033870147214403532"
     },
     "user_tz": -60
    },
    "id": "5ThA10V8UTop",
    "tags": []
   },
   "outputs": [],
   "source": [
    "price_array = price_per_m2_array * surface_array\n",
    "price_array"
   ]
  },
  {
   "cell_type": "markdown",
   "metadata": {
    "id": "McdhU9iXUuuA"
   },
   "source": [
    "You see that when multiplying two arrays, **Numpy simply multiplies each element of one array by the equivalent element of the other array**."
   ]
  },
  {
   "cell_type": "markdown",
   "metadata": {
    "id": "0hpAJQGzWaVW"
   },
   "source": [
    "### Advantages of vectorization\n",
    "There are two main advantages to this approach. First it makes the code much **simpler**: we achieved the calculation in a single line, what took a cumbersome for loop with lists (note that it would be slightly more efficient even in plain Python via comprehension lists, but still far from NumPy).\n",
    "\n",
    "Second, it makes our code run much **faster**. When we do a for loop, each operation is done separately, and since Python is dynamically typed (you don't have to say whether a variable is text or numbers) it has to repeatedly carry out verifications. In the Numpy vectorized version, all multiplications can be done **in parallel** because: 1) the array contains only one type of variables so that no controls have to be done and 2) arrays are efficiently stored as blocks in memory so that individual values don't have to be \"searched\" for.\n",
    "\n",
    "With this very simple example, we can compare the execution time using the magic command ```%%timeit```:"
   ]
  },
  {
   "cell_type": "code",
   "execution_count": null,
   "metadata": {
    "colab": {
     "base_uri": "https://localhost:8080/"
    },
    "executionInfo": {
     "elapsed": 704,
     "status": "ok",
     "timestamp": 1614343190191,
     "user": {
      "displayName": "Guillaume Witz",
      "photoUrl": "https://lh3.googleusercontent.com/a-/AOh14GgT0K2JVYzEsjzsS5nhkUVjUrSIJ5jHzXnBoYrmVf8=s64",
      "userId": "16033870147214403532"
     },
     "user_tz": -60
    },
    "id": "cTiAVpCKUjJx",
    "outputId": "93c7a9fa-cce0-48ad-9b93-76fc563928e3",
    "tags": []
   },
   "outputs": [],
   "source": [
    "%%timeit -n 10000 -r 5 \n",
    "price = []\n",
    "for i in range(len(price_per_m2)):\n",
    "    current_price = price_per_m2[i] * surface[i]\n",
    "    price.append(current_price)"
   ]
  },
  {
   "cell_type": "code",
   "execution_count": null,
   "metadata": {
    "colab": {
     "base_uri": "https://localhost:8080/"
    },
    "executionInfo": {
     "elapsed": 494,
     "status": "ok",
     "timestamp": 1614343190511,
     "user": {
      "displayName": "Guillaume Witz",
      "photoUrl": "https://lh3.googleusercontent.com/a-/AOh14GgT0K2JVYzEsjzsS5nhkUVjUrSIJ5jHzXnBoYrmVf8=s64",
      "userId": "16033870147214403532"
     },
     "user_tz": -60
    },
    "id": "fviMiCFSU976",
    "outputId": "ba2d2d80-0932-487c-fb2e-915d1eaf11c9",
    "tags": []
   },
   "outputs": [],
   "source": [
    "%%timeit -n 10000 -r 5\n",
    "price_array = price_per_m2_array * surface_array"
   ]
  },
  {
   "cell_type": "markdown",
   "metadata": {},
   "source": [
    "## Applying functions to arrays"
   ]
  },
  {
   "cell_type": "markdown",
   "metadata": {},
   "source": [
    "As we've seen, we can do operations on arrays of the **same size** or with a **single number**. We will see later that there are exceptions to this rule (called *broadcasting*).\n",
    "\n",
    "We can however also do mathematics with just a single array. Numpy implements many standard mathematical functions that you can directly apply to arrays as if you were dealing with a single number. These always have the same syntax as in regular mathematics $y = f(x)$, albeit here $y$ and $x$ are arrrays. Here a few examples, e.g. in trigonometry:"
   ]
  },
  {
   "cell_type": "code",
   "execution_count": null,
   "metadata": {},
   "outputs": [],
   "source": [
    "np.cos(price_array)"
   ]
  },
  {
   "cell_type": "markdown",
   "metadata": {},
   "source": [
    "... or for exponentials and logarithms:"
   ]
  },
  {
   "cell_type": "code",
   "execution_count": null,
   "metadata": {},
   "outputs": [],
   "source": [
    "np.exp(price_array)"
   ]
  },
  {
   "cell_type": "code",
   "execution_count": null,
   "metadata": {},
   "outputs": [],
   "source": [
    "np.log10(price_array)"
   ]
  },
  {
   "cell_type": "markdown",
   "metadata": {},
   "source": [
    "## Accessing elements by index"
   ]
  },
  {
   "cell_type": "markdown",
   "metadata": {},
   "source": [
    "### 1D arrays"
   ]
  },
  {
   "cell_type": "markdown",
   "metadata": {},
   "source": [
    "As with lists, accessing elements is straight-forward. The standard way to extract information from an array is to use the square parenthesis (bracket) notation. If we want for example to extract the second element of the array we write:"
   ]
  },
  {
   "cell_type": "code",
   "execution_count": null,
   "metadata": {},
   "outputs": [],
   "source": [
    "price_array[1]"
   ]
  },
  {
   "cell_type": "markdown",
   "metadata": {},
   "source": [
    "Remember that **we start counting from 0** in Python, which is why the *second* element has index 1."
   ]
  },
  {
   "cell_type": "markdown",
   "metadata": {},
   "source": [
    "We can use negative indices to count from the end of the array. For example, if we want to access the last element, we can write:"
   ]
  },
  {
   "cell_type": "code",
   "execution_count": null,
   "metadata": {},
   "outputs": [],
   "source": [
    "price_array[-1]"
   ]
  },
  {
   "cell_type": "markdown",
   "metadata": {},
   "source": [
    "### Higher dimensions"
   ]
  },
  {
   "cell_type": "markdown",
   "metadata": {},
   "source": [
    "When working in higher dimensions, NumPy arrays show their potential. We can simply put the indices of each dimension in the square brackets, separated by commas. For example, if we have a 2D array (a matrix) and want to access the element in the first row and second column, we write:"
   ]
  },
  {
   "cell_type": "code",
   "execution_count": null,
   "metadata": {},
   "outputs": [],
   "source": [
    "array_2d = np.array([[1, 2, 3], [4, 5, 6], [7, 8, 9]])\n",
    "array_2d[0, 1]"
   ]
  },
  {
   "cell_type": "markdown",
   "metadata": {},
   "source": [
    "## Array dimensions"
   ]
  },
  {
   "cell_type": "markdown",
   "metadata": {},
   "source": [
    "Arrays are pre-destined for work in **higher dimensions**. Let's check the number of dimensions, the shape, and the size of the following array:\n",
    "\n",
    "(If you want, you can try to understand how this array was created, but it is not key in this the moment.)"
   ]
  },
  {
   "cell_type": "code",
   "execution_count": null,
   "metadata": {},
   "outputs": [],
   "source": [
    "my_array = np.array([[[1, 2, 3], [4, 5, 6], [7, 8, 9]]] * 2)\n",
    "\n",
    "print(\"Number of dimensions:\", my_array.ndim)\n",
    "print(\"Shape:\", my_array.shape)\n",
    "print(\"Size:\", my_array.size)"
   ]
  },
  {
   "cell_type": "markdown",
   "metadata": {
    "id": "pyJZzn1cV0q9"
   },
   "source": [
    "## Array type\n",
    "\n",
    "We have mentioned above that computation is fast because the type of the arrays is known. This means that **all the elements of an array** must have the same type. Numpy implements its own types called ```dtype```. We can access the type of an array using the ```dtype``` attribute:"
   ]
  },
  {
   "cell_type": "code",
   "execution_count": null,
   "metadata": {
    "colab": {
     "base_uri": "https://localhost:8080/"
    },
    "executionInfo": {
     "elapsed": 731,
     "status": "ok",
     "timestamp": 1614343212852,
     "user": {
      "displayName": "Guillaume Witz",
      "photoUrl": "https://lh3.googleusercontent.com/a-/AOh14GgT0K2JVYzEsjzsS5nhkUVjUrSIJ5jHzXnBoYrmVf8=s64",
      "userId": "16033870147214403532"
     },
     "user_tz": -60
    },
    "id": "AOhyeVexVF2m",
    "outputId": "6182ee64-0814-4e53-b3d5-1c77405938a6",
    "tags": []
   },
   "outputs": [],
   "source": [
    "price_per_m2_array.dtype"
   ]
  },
  {
   "cell_type": "markdown",
   "metadata": {
    "id": "lGthedPBBH4u"
   },
   "source": [
    "We see that by default Numpy decided that the price had ```float64``` dtype because the numbers we used had a comma. Notice it also turned the numbers that **didn't** have a comma into floats (like the first element ```6```). Since all elements of an array need to have the same type, Numpy just selects the **most complex one** for the entire array.\n",
    "\n",
    "Let's see what ```dtype``` the surface array has:"
   ]
  },
  {
   "cell_type": "code",
   "execution_count": null,
   "metadata": {
    "colab": {
     "base_uri": "https://localhost:8080/"
    },
    "executionInfo": {
     "elapsed": 986,
     "status": "ok",
     "timestamp": 1614343235366,
     "user": {
      "displayName": "Guillaume Witz",
      "photoUrl": "https://lh3.googleusercontent.com/a-/AOh14GgT0K2JVYzEsjzsS5nhkUVjUrSIJ5jHzXnBoYrmVf8=s64",
      "userId": "16033870147214403532"
     },
     "user_tz": -60
    },
    "id": "NiTip4BVDp7G",
    "outputId": "7949b8ba-627d-4840-8f44-cfba55bec366",
    "tags": []
   },
   "outputs": [],
   "source": [
    "surface_array.dtype"
   ]
  },
  {
   "cell_type": "markdown",
   "metadata": {
    "id": "OeBmGsjVD14p"
   },
   "source": [
    "We **only** used integer numbers in that list, and therefore Numpy can use a \"simpler\" ```dtype``` for that array."
   ]
  },
  {
   "cell_type": "markdown",
   "metadata": {
    "id": "0jaZBMNHFaJ7"
   },
   "source": [
    "Finally let's see the result of our multiplication:"
   ]
  },
  {
   "cell_type": "code",
   "execution_count": null,
   "metadata": {
    "colab": {
     "base_uri": "https://localhost:8080/"
    },
    "executionInfo": {
     "elapsed": 750,
     "status": "ok",
     "timestamp": 1614343241018,
     "user": {
      "displayName": "Guillaume Witz",
      "photoUrl": "https://lh3.googleusercontent.com/a-/AOh14GgT0K2JVYzEsjzsS5nhkUVjUrSIJ5jHzXnBoYrmVf8=s64",
      "userId": "16033870147214403532"
     },
     "user_tz": -60
    },
    "id": "we6JrGvREPpi",
    "outputId": "f10446e4-497c-48ed-b8ce-ca71ffb65702",
    "tags": []
   },
   "outputs": [],
   "source": [
    "price_array.dtype"
   ]
  },
  {
   "cell_type": "markdown",
   "metadata": {},
   "source": [
    "When combining multiple arrays, Numpy always **selects the most complex** ```dtype``` for the output."
   ]
  },
  {
   "cell_type": "markdown",
   "metadata": {},
   "source": [
    "If needed, we can also change the ```dtype``` of an array explicitly using the ```as_type``` method. For example if we want our ```surface_array``` to be a float instead of an integer we can write:"
   ]
  },
  {
   "cell_type": "code",
   "execution_count": null,
   "metadata": {
    "executionInfo": {
     "elapsed": 726,
     "status": "ok",
     "timestamp": 1614343248589,
     "user": {
      "displayName": "Guillaume Witz",
      "photoUrl": "https://lh3.googleusercontent.com/a-/AOh14GgT0K2JVYzEsjzsS5nhkUVjUrSIJ5jHzXnBoYrmVf8=s64",
      "userId": "16033870147214403532"
     },
     "user_tz": -60
    },
    "id": "nTBNNZ0VF3CS",
    "tags": []
   },
   "outputs": [],
   "source": [
    "surface_array_float = surface_array.astype(np.float64)\n",
    "surface_array_float.dtype"
   ]
  },
  {
   "cell_type": "markdown",
   "metadata": {
    "id": "ncEzbShkF994"
   },
   "source": [
    "Notice how we had to create a **new** array: by default, most operations on Numpy arrays are **not done in place** i.e. the array itself is not changed."
   ]
  },
  {
   "cell_type": "markdown",
   "metadata": {
    "id": "T6qT3vkSVaFi"
   },
   "source": [
    "# Exercises"
   ]
  },
  {
   "cell_type": "markdown",
   "metadata": {},
   "source": [
    "1. Create an array with 3 elements and one with 5 elements containing integers\n",
    "\n",
    "2. Try to multiply the two arrays.\n",
    "\n",
    "3. You should get an error message. Do you understand the problem ? Change the size of one of the arrays so that you can multiply them.\n",
    "\n",
    "4. Change the ```dtype``` of the output to float32."
   ]
  },
  {
   "cell_type": "code",
   "execution_count": null,
   "metadata": {},
   "outputs": [],
   "source": [
    "\n",
    "### YOUR CODE HERE\n"
   ]
  },
  {
   "cell_type": "markdown",
   "metadata": {},
   "source": [
    "5. Getting shape and size of an array: follow the instructions in the comments of the cell below."
   ]
  },
  {
   "cell_type": "code",
   "execution_count": null,
   "metadata": {},
   "outputs": [],
   "source": [
    "# a) Guess the shape, number dimensions and size of the arrays below\n",
    "\n",
    "array_1 = np.array([[1, 2, 3], [4, 5, 6], [7, 8, 9]])\n",
    "\n",
    "array_2 = np.array([[1, 2, 3, 4, 5, 6], [7, 8, 9, 10, 11, 12]])\n",
    "\n",
    "array_3 = np.array([1, 2, 3, 4, 5, 6])\n",
    "\n",
    "array_4 = np.array([[[1, 2], [3, 4]], [[5, 6], [7, 8]]])\n",
    "\n",
    "\n",
    "# b) Check your guesses using the appropriate attributes of the array.\n",
    "\n",
    "### YOUR CODE HERE\n"
   ]
  },
  {
   "cell_type": "markdown",
   "metadata": {},
   "source": [
    "6. Accessing elements in arrays: follow the instructions in the comments of the cell below."
   ]
  },
  {
   "cell_type": "code",
   "execution_count": null,
   "metadata": {},
   "outputs": [],
   "source": [
    "# a) Access the element in the second row and third column of array_2d (should be 6)\n",
    "\n",
    "array_2d = np.array([[1, 2, 3], [4, 5, 6], [7, 8, 9]])\n",
    "\n",
    "### YOUR CODE HERE\n",
    "\n",
    "\n",
    "# b) Access the number 7 in array_2d using indexing\n",
    "\n",
    "### YOUR CODE HERE\n",
    "\n",
    "\n",
    "# c) Access the number 5 in array_3d using indexing\n",
    "\n",
    "array_3d = np.array([[[1, 2], [3, 4]], [[5, 6], [7, 8]]])\n",
    "\n",
    "### YOUR CODE HERE\n"
   ]
  },
  {
   "cell_type": "markdown",
   "metadata": {},
   "source": [
    "7. (Optional) Creating and accessing a 2D array\n",
    "\n",
    "- Create the array shown below\n",
    "- Output the dimensions of the array\n",
    "- Access the elements marked in bold (individually or per list) and output them\n",
    "\n",
    "| 11 | 3 |\n",
    "|---|---|\n",
    "| 5 | **16** |\n",
    "| 23 | 10 |\n",
    "| 13 | 14 |\n",
    "| **7** | 28 |"
   ]
  },
  {
   "cell_type": "code",
   "execution_count": null,
   "metadata": {},
   "outputs": [],
   "source": [
    "\n",
    "### YOUR CODE HERE\n"
   ]
  }
 ],
 "metadata": {
  "colab": {
   "authorship_tag": "ABX9TyOOdi0hW1jeN9bnQ0CiR6Tc",
   "collapsed_sections": [],
   "name": "02-Numpy_arrays.ipynb",
   "provenance": [],
   "toc_visible": true
  },
  "kernelspec": {
   "display_name": "cp-env02",
   "language": "python",
   "name": "python3"
  },
  "language_info": {
   "codemirror_mode": {
    "name": "ipython",
    "version": 3
   },
   "file_extension": ".py",
   "mimetype": "text/x-python",
   "name": "python",
   "nbconvert_exporter": "python",
   "pygments_lexer": "ipython3",
   "version": "3.11.11"
  }
 },
 "nbformat": 4,
 "nbformat_minor": 4
}
