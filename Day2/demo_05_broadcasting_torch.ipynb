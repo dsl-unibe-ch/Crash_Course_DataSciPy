{
 "cells": [
  {
   "cell_type": "code",
   "execution_count": null,
   "id": "89baba00",
   "metadata": {},
   "outputs": [],
   "source": [
    "import numpy as np"
   ]
  },
  {
   "cell_type": "markdown",
   "id": "88850c80",
   "metadata": {},
   "source": [
    "# 5) Broadcasting and PyTorch tensors - Demos"
   ]
  },
  {
   "cell_type": "markdown",
   "id": "0671c9f9",
   "metadata": {},
   "source": [
    "## Broadcasting"
   ]
  },
  {
   "cell_type": "markdown",
   "id": "d0fd2d28",
   "metadata": {},
   "source": [
    "Guess the result shape (or error):"
   ]
  },
  {
   "cell_type": "markdown",
   "id": "e45af649",
   "metadata": {},
   "source": [
    "1)"
   ]
  },
  {
   "cell_type": "code",
   "execution_count": null,
   "id": "45cd7a9b",
   "metadata": {},
   "outputs": [],
   "source": [
    "arr1 = np.array([1,2,3])\n",
    "arr2 = np.array([5,5,5])\n",
    "print(\"Shapes:\", arr1.shape, arr2.shape)"
   ]
  },
  {
   "cell_type": "code",
   "execution_count": null,
   "id": "e5f86f48",
   "metadata": {},
   "outputs": [],
   "source": [
    "res = arr1 + arr2\n",
    "print(\"Result of adding arr1 and arr2:\\n\", res)\n",
    "print(\"Shape of the result:\\n\", res.shape)"
   ]
  },
  {
   "cell_type": "markdown",
   "id": "187e6caa",
   "metadata": {},
   "source": [
    "2."
   ]
  },
  {
   "cell_type": "code",
   "execution_count": null,
   "id": "61ce46f8",
   "metadata": {},
   "outputs": [],
   "source": [
    "arr3 = np.ones([3,3])\n",
    "print(\"Shapes:\", arr1.shape, arr3.shape)"
   ]
  },
  {
   "cell_type": "code",
   "execution_count": null,
   "id": "ee7212f8",
   "metadata": {},
   "outputs": [],
   "source": [
    "res = arr1 + arr3\n",
    "print(\"Result of adding arr1 and arr2:\\n\", res)\n",
    "print(\"Shape of the result:\\n\", res.shape)"
   ]
  },
  {
   "cell_type": "markdown",
   "id": "bfd7e931",
   "metadata": {},
   "source": [
    "3."
   ]
  },
  {
   "cell_type": "code",
   "execution_count": null,
   "id": "5a56dc08",
   "metadata": {},
   "outputs": [],
   "source": [
    "arr4 = np.arange(6).reshape(2,3)\n",
    "print(\"Shapes:\", arr1.shape, arr4.shape)"
   ]
  },
  {
   "cell_type": "code",
   "execution_count": null,
   "id": "79327e36",
   "metadata": {},
   "outputs": [],
   "source": [
    "res = arr1 + arr4\n",
    "print(\"Result of adding arr1 and arr4:\\n\", res)\n",
    "print(\"Shape of the result:\\n\", res.shape)"
   ]
  },
  {
   "cell_type": "markdown",
   "id": "09846aa8",
   "metadata": {},
   "source": [
    "4."
   ]
  },
  {
   "cell_type": "code",
   "execution_count": null,
   "id": "bf3be899",
   "metadata": {},
   "outputs": [],
   "source": [
    "arr5 = np.arange(3).reshape([3,1])\n",
    "print(\"Shapes:\", arr1.shape, arr5.shape)"
   ]
  },
  {
   "cell_type": "code",
   "execution_count": null,
   "id": "94d56a8b",
   "metadata": {},
   "outputs": [],
   "source": [
    "res = arr1 + arr5\n",
    "print(\"Result of adding arr1 and arr5:\\n\", res)\n",
    "print(\"Shape of the result:\\n\", res.shape)"
   ]
  },
  {
   "cell_type": "markdown",
   "id": "960d9b0c",
   "metadata": {},
   "source": [
    "5."
   ]
  },
  {
   "cell_type": "code",
   "execution_count": null,
   "id": "f213f1b2",
   "metadata": {},
   "outputs": [],
   "source": [
    "arr6 = np.zeros([3,2])\n",
    "print(\"Shapes:\", arr1.shape, arr6.shape)"
   ]
  },
  {
   "cell_type": "code",
   "execution_count": null,
   "id": "b1cb7af7",
   "metadata": {},
   "outputs": [],
   "source": [
    "res = arr1 + arr6\n",
    "print(\"Result of adding arr1 and arr6:\\n\", res)\n",
    "print(\"Shape of the result:\\n\", res.shape)"
   ]
  },
  {
   "cell_type": "markdown",
   "id": "1c95a8d1",
   "metadata": {},
   "source": [
    "## Torch tensors"
   ]
  },
  {
   "cell_type": "code",
   "execution_count": null,
   "id": "1a02726e",
   "metadata": {},
   "outputs": [],
   "source": [
    "import torch"
   ]
  },
  {
   "cell_type": "markdown",
   "id": "232bfdc6",
   "metadata": {},
   "source": [
    "### Connection to Numpy arrays"
   ]
  },
  {
   "cell_type": "markdown",
   "id": "10b4f4c0",
   "metadata": {},
   "source": [
    "Create a Torch tensor from a NumPy array and print it."
   ]
  },
  {
   "cell_type": "code",
   "execution_count": null,
   "id": "0af8a4c0",
   "metadata": {},
   "outputs": [],
   "source": [
    "my_arr = np.arange(15).reshape(3, 5)\n",
    "my_tensor = torch.tensor(my_arr)\n",
    "print(my_tensor)"
   ]
  },
  {
   "cell_type": "markdown",
   "id": "0091000c",
   "metadata": {},
   "source": [
    "Inspect some properties:"
   ]
  },
  {
   "cell_type": "code",
   "execution_count": null,
   "id": "e92023ef",
   "metadata": {},
   "outputs": [],
   "source": [
    "print(\"Shape:\", my_tensor.shape)\n",
    "print(\"Data type:\", my_tensor.dtype)\n",
    "print(\"Device (NEW):\", my_tensor.device)\n",
    "print(\"Number of dimensions:\", my_tensor.ndim)"
   ]
  },
  {
   "cell_type": "markdown",
   "id": "153d1feb",
   "metadata": {},
   "source": [
    "Perform some calculations:"
   ]
  },
  {
   "cell_type": "code",
   "execution_count": null,
   "id": "88eb5359",
   "metadata": {},
   "outputs": [],
   "source": [
    "print(my_tensor * 3)\n",
    "print(my_tensor + 2)"
   ]
  },
  {
   "cell_type": "markdown",
   "id": "3350600c",
   "metadata": {},
   "source": [
    "Convert back to NumPy:"
   ]
  },
  {
   "cell_type": "code",
   "execution_count": null,
   "id": "5a429e8d",
   "metadata": {},
   "outputs": [],
   "source": [
    "arr_new = my_tensor.numpy()\n",
    "print(\"Converted back to NumPy array:\", type(arr_new), arr_new, sep=\"\\n\")"
   ]
  },
  {
   "cell_type": "markdown",
   "id": "aa8b4b12",
   "metadata": {},
   "source": [
    "### Efficiency advantages of using GPU"
   ]
  },
  {
   "cell_type": "markdown",
   "id": "5117a81f",
   "metadata": {},
   "source": [
    "Put the tensor on the GPU (if available) and time some calculations.\n",
    "\n",
    "Do this on Colab where we are sure to have GPU: https://colab.research.google.com/drive/1qH4OjAQSnudyJZY1z6dWYwv90i8Aa3DX?usp=sharing"
   ]
  }
 ],
 "metadata": {
  "kernelspec": {
   "display_name": "cp-env02",
   "language": "python",
   "name": "python3"
  },
  "language_info": {
   "codemirror_mode": {
    "name": "ipython",
    "version": 3
   },
   "file_extension": ".py",
   "mimetype": "text/x-python",
   "name": "python",
   "nbconvert_exporter": "python",
   "pygments_lexer": "ipython3",
   "version": "3.11.11"
  }
 },
 "nbformat": 4,
 "nbformat_minor": 5
}
