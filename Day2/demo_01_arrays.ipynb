{
 "cells": [
  {
   "cell_type": "code",
   "execution_count": null,
   "id": "89baba00",
   "metadata": {},
   "outputs": [],
   "source": [
    "import numpy as np"
   ]
  },
  {
   "cell_type": "markdown",
   "id": "88850c80",
   "metadata": {},
   "source": [
    "# 1) Introduction to NumPy arrays - Demos"
   ]
  },
  {
   "cell_type": "markdown",
   "id": "0671c9f9",
   "metadata": {},
   "source": [
    "## 1D arrays - arrays as numeric \"blocks\""
   ]
  },
  {
   "cell_type": "markdown",
   "id": "d0fd2d28",
   "metadata": {},
   "source": [
    "Using NumPy to create a one-dimensional array from a list:"
   ]
  },
  {
   "cell_type": "code",
   "execution_count": null,
   "id": "61ce46f8",
   "metadata": {},
   "outputs": [],
   "source": [
    "my_list = [1, 2, 3, 4, 5]\n",
    "my_array = np.array([1, 2, 3, 4, 5])\n",
    "print(\"List:\", my_list)\n",
    "print(\"Numpy Array:\", my_array)"
   ]
  },
  {
   "cell_type": "markdown",
   "id": "4c407062",
   "metadata": {},
   "source": [
    "Reading the data type (was automatically guessed as by the input):"
   ]
  },
  {
   "cell_type": "code",
   "execution_count": null,
   "id": "790a4242",
   "metadata": {},
   "outputs": [],
   "source": [
    "print(\"Data type:\", my_array.dtype)"
   ]
  },
  {
   "cell_type": "markdown",
   "id": "0bc6286c",
   "metadata": {},
   "source": [
    "Defining the same array as float:"
   ]
  },
  {
   "cell_type": "code",
   "execution_count": null,
   "id": "82782bc6",
   "metadata": {},
   "outputs": [],
   "source": [
    "my_array_float = np.array([1, 2, 3, 4, 5], dtype=np.float64)\n",
    "print(\"Data type:\", my_array_float.dtype)\n",
    "print(\"Numpy Array:\", my_array_float)"
   ]
  },
  {
   "cell_type": "markdown",
   "id": "a4c7173d",
   "metadata": {},
   "source": [
    "Basic operations on arrays:"
   ]
  },
  {
   "cell_type": "code",
   "execution_count": null,
   "id": "f71d039f",
   "metadata": {},
   "outputs": [],
   "source": [
    "print(\"Original array:\", my_array)\n",
    "print(\"Doubling the array:\", my_array * 2)\n",
    "print(\"Adding 10 to the array:\", my_array + 10)\n",
    "print(\"Dividing the array by 2:\", my_array / 2)\n",
    "print(\"Subtracting 1 from the array:\", my_array - 1)"
   ]
  },
  {
   "cell_type": "markdown",
   "id": "79cc8c33",
   "metadata": {},
   "source": [
    "## 2D arrays - dimensionality of arrays"
   ]
  },
  {
   "cell_type": "markdown",
   "id": "d93532da",
   "metadata": {},
   "source": [
    "Creating and inspecting two-dimensional array using NumPy:"
   ]
  },
  {
   "cell_type": "code",
   "execution_count": null,
   "id": "57a5520c",
   "metadata": {},
   "outputs": [],
   "source": [
    "my_array_2d = np.array( [[1, 2, 3],\n",
    "                        [4, 5, 6]] )\n",
    "print(\"2D Numpy Array:\\n\", my_array_2d)"
   ]
  },
  {
   "cell_type": "markdown",
   "id": "5951f946",
   "metadata": {},
   "source": [
    "Reading the shape:"
   ]
  },
  {
   "cell_type": "code",
   "execution_count": null,
   "id": "40583da2",
   "metadata": {},
   "outputs": [],
   "source": [
    "print(\"Shape:\", my_array_2d.shape) # rows, columns"
   ]
  },
  {
   "cell_type": "markdown",
   "id": "0d55ac7d",
   "metadata": {},
   "source": [
    "Other properties of arrays:"
   ]
  },
  {
   "cell_type": "code",
   "execution_count": null,
   "id": "f1337b08",
   "metadata": {},
   "outputs": [],
   "source": [
    "print(\"Size (total number of elements):\", my_array_2d.size)\n",
    "print(\"Number of dimensions:\", my_array_2d.ndim)"
   ]
  },
  {
   "cell_type": "markdown",
   "id": "e19e0cc8",
   "metadata": {},
   "source": [
    "Accessing elements by simple indices:"
   ]
  },
  {
   "cell_type": "code",
   "execution_count": null,
   "id": "5b116024",
   "metadata": {},
   "outputs": [],
   "source": [
    "print(\"First row, second column:\", my_array_2d[0, 1])\n",
    "print(\"Second row, second last column:\", my_array_2d[1, -2])"
   ]
  },
  {
   "cell_type": "markdown",
   "id": "8465db52",
   "metadata": {},
   "source": [
    "Using lists as indices:"
   ]
  },
  {
   "cell_type": "code",
   "execution_count": null,
   "id": "58b1a3c8",
   "metadata": {},
   "outputs": [],
   "source": [
    "print(\"First and third elements:\", my_array_2d[1, [0, 2]])"
   ]
  },
  {
   "cell_type": "markdown",
   "id": "8704370f",
   "metadata": {},
   "source": [
    "Setting values in an array by indices:"
   ]
  },
  {
   "cell_type": "code",
   "execution_count": null,
   "id": "9a4f09e8",
   "metadata": {},
   "outputs": [],
   "source": [
    "my_array_2d[0, 1] = 100\n",
    "print(\"Modified array:\\n\", my_array_2d)"
   ]
  }
 ],
 "metadata": {
  "kernelspec": {
   "display_name": "cp-env02",
   "language": "python",
   "name": "python3"
  },
  "language_info": {
   "codemirror_mode": {
    "name": "ipython",
    "version": 3
   },
   "file_extension": ".py",
   "mimetype": "text/x-python",
   "name": "python",
   "nbconvert_exporter": "python",
   "pygments_lexer": "ipython3",
   "version": "3.11.11"
  }
 },
 "nbformat": 4,
 "nbformat_minor": 5
}
