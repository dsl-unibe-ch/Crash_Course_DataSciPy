{
 "cells": [
  {
   "cell_type": "markdown",
   "id": "45b3a1b9",
   "metadata": {},
   "source": [
    "# Supplementary exercise"
   ]
  },
  {
   "cell_type": "markdown",
   "id": "d840ec40",
   "metadata": {},
   "source": [
    "1. Create a NumPy arra of dimensions (3,2,20,10) filled with zeros.\n",
    "\n",
    "2. Set the values at the positions (0,1,5,7), (0,1,11,6) and (0,1,12,7) to one. Do the same for the slice in 0,1,13 and the last three positions in the fourth dimension.\n",
    "\n",
    "3. Extract the subarray at the first position in the first dimension and the second position in the second dimension.\n",
    "\n",
    "4. Create a a copy of the new array. Flip it along the second axis.\n",
    "\n",
    "5. Concatenate the first array and the second array along the second axis and save the result in a new variable.\n",
    "\n",
    "6. Stack the new array twice along a new axis at first position.\n",
    "\n",
    "7. Create an array of size (1,20,20) and values that progress from 0 to one along the first axis (this might be tricky). Concatenate it to the array from (7.) along the first axis, save the result in a new variable.\n",
    "\n",
    "8. Move the first axis to the last position.\n",
    "\n",
    "9. Visualize the result using a suitable plotting library (e.g., Matplotlib).\n",
    "\n",
    "10. Try to understand how you've created the image that you see."
   ]
  }
 ],
 "metadata": {
  "kernelspec": {
   "display_name": "cp-env02",
   "language": "python",
   "name": "python3"
  },
  "language_info": {
   "codemirror_mode": {
    "name": "ipython",
    "version": 3
   },
   "file_extension": ".py",
   "mimetype": "text/x-python",
   "name": "python",
   "nbconvert_exporter": "python",
   "pygments_lexer": "ipython3",
   "version": "3.11.11"
  }
 },
 "nbformat": 4,
 "nbformat_minor": 5
}
