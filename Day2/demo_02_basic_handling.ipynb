{
 "cells": [
  {
   "cell_type": "code",
   "execution_count": null,
   "id": "89baba00",
   "metadata": {},
   "outputs": [],
   "source": [
    "import numpy as np"
   ]
  },
  {
   "cell_type": "markdown",
   "id": "88850c80",
   "metadata": {},
   "source": [
    "# 2) Creation and basic analysis of arrays - Demos"
   ]
  },
  {
   "cell_type": "markdown",
   "id": "0671c9f9",
   "metadata": {},
   "source": [
    "## Creating arrays"
   ]
  },
  {
   "cell_type": "markdown",
   "id": "d0fd2d28",
   "metadata": {},
   "source": [
    "Equally spaced values:"
   ]
  },
  {
   "cell_type": "code",
   "execution_count": null,
   "id": "61ce46f8",
   "metadata": {},
   "outputs": [],
   "source": [
    "array_1 = np.arange(3)  # Create an array with 3 elements\n",
    "array_2 = np.arange(5, 13, 2)  # Create an array starting at 5, ending before 13, with a step of 2\n",
    "array_3 = np.arange(-3, -10, -1)  # Create an array starting at -3, ending before -10, with a step of -1\n",
    "\n",
    "print(\"Array 1:\", array_1)\n",
    "print(\"Array 2:\", array_2)\n",
    "print(\"Array 3:\", array_3)"
   ]
  },
  {
   "cell_type": "code",
   "execution_count": null,
   "id": "50186f34",
   "metadata": {},
   "outputs": [],
   "source": [
    "array_4 = np.linspace(0, 10, 6)  # Create an array with 6 equally spaced values between 0 and 10\n",
    "array_5 = np.linspace(0, 1, 7)  # Create an array with 5 equally spaced values between 0 and 10\n",
    "\n",
    "print(\"Array 4 (linspace 0 to 10):\", array_4)\n",
    "print(\"Array 5 (linspace 0 to 1):\", array_5)"
   ]
  },
  {
   "cell_type": "markdown",
   "id": "4c407062",
   "metadata": {},
   "source": [
    "Fixed values, given shape (1D):"
   ]
  },
  {
   "cell_type": "code",
   "execution_count": null,
   "id": "790a4242",
   "metadata": {},
   "outputs": [],
   "source": [
    "array_1 = np.zeros(5)  # Create an array of zeros with 5 elements\n",
    "array_2 = np.ones(5)  # Create an array of ones with 5 elements\n",
    "array_3 = array_2 * 3  # Create an array filled with the value 7, with 5 elements\n",
    "array_4 = np.full(5, 7)  # Create an array filled with the value 7, with 5 elements\n",
    "\n",
    "print(\"Array of zeros:\", array_1)\n",
    "print(\"Array of ones:\", array_2)\n",
    "print(\"Array filled with 3:\", array_3)\n",
    "print(\"Array filled with 7:\", array_4)"
   ]
  },
  {
   "cell_type": "markdown",
   "id": "38514b1f",
   "metadata": {},
   "source": [
    "Higher dimensions:"
   ]
  },
  {
   "cell_type": "code",
   "execution_count": null,
   "id": "dd237ff5",
   "metadata": {},
   "outputs": [],
   "source": [
    "array_5 = np.ones((2, 3))  # Create a 2D array of ones with shape (2, 3)\n",
    "array_6 = np.ones((3, 3, 2))  # Create a 2D\n",
    "\n",
    "print(\"2D Array of ones (shape 2x3):\\n\", array_5)\n",
    "print(\"3D Array of ones (shape 3x3x2):\\n\", array_6)"
   ]
  },
  {
   "cell_type": "markdown",
   "id": "0bc6286c",
   "metadata": {},
   "source": [
    "Random values:"
   ]
  },
  {
   "cell_type": "code",
   "execution_count": null,
   "id": "82782bc6",
   "metadata": {},
   "outputs": [],
   "source": [
    "array_1 = np.random.randint(0, 100, 5)  # Create an array with 5 random integers between 0 and 10\n",
    "array_2 = np.random.randint(0, 10, (3, 4))  # Create a 2D array with random integers between 0 and 10, shape (3, 4)\n",
    "\n",
    "print(\"Random integers (1D):\", array_1)\n",
    "print(\"Random integers (2D):\\n\", array_2)"
   ]
  },
  {
   "cell_type": "code",
   "execution_count": null,
   "id": "71147871",
   "metadata": {},
   "outputs": [],
   "source": [
    "array_3 = np.random.random(5)  # Create an array with 5 random floats between 0 and 1\n",
    "array_4 = np.random.random((3, 4))  # Create a 2D array with random floats between 0 and 1, shape (3, 4)\n",
    "\n",
    "print(\"Random floats (1D):\", array_3)\n",
    "print(\"Random floats (2D):\\n\", array_4)"
   ]
  },
  {
   "cell_type": "markdown",
   "id": "79cc8c33",
   "metadata": {},
   "source": [
    "## Loading images as arrays and displaying them"
   ]
  },
  {
   "cell_type": "markdown",
   "id": "d93532da",
   "metadata": {},
   "source": [
    "Importing the packages:"
   ]
  },
  {
   "cell_type": "code",
   "execution_count": null,
   "id": "57a5520c",
   "metadata": {},
   "outputs": [],
   "source": [
    "import skimage\n",
    "from matplotlib import pyplot as plt"
   ]
  },
  {
   "cell_type": "markdown",
   "id": "5951f946",
   "metadata": {},
   "source": [
    "Load the file as an image as array:"
   ]
  },
  {
   "cell_type": "code",
   "execution_count": null,
   "id": "40583da2",
   "metadata": {},
   "outputs": [],
   "source": [
    "img_path = \"https://praexia.com/wp-content/uploads/2022/01/snake-800x399.jpg\"\n",
    "image_array = skimage.io.imread(img_path, as_gray=True)  # Load the image from the URL\n",
    "\n",
    "print(\"Data type:\", type(image_array))\n",
    "print(\"Image shape:\", image_array.shape)  # Print the shape of the image array\n",
    "print(\"Image data type:\", image_array.dtype)  # Print the data type of the image"
   ]
  },
  {
   "cell_type": "markdown",
   "id": "d6e0ba8e",
   "metadata": {},
   "source": [
    "Display the image:"
   ]
  },
  {
   "cell_type": "code",
   "execution_count": null,
   "id": "70a8f996",
   "metadata": {},
   "outputs": [],
   "source": [
    "plt.imshow(image_array, cmap='gray')  # Display the image\n",
    "plt.show()  # Show the plot"
   ]
  },
  {
   "cell_type": "markdown",
   "id": "0d55ac7d",
   "metadata": {},
   "source": [
    "## Calculating summary statistics"
   ]
  },
  {
   "cell_type": "code",
   "execution_count": null,
   "id": "f1337b08",
   "metadata": {},
   "outputs": [],
   "source": [
    "print(\"Mean:\", image_array.mean())  # Same as np.mean(image_array)\n",
    "print(\"Standard deviation:\", image_array.std())  # Same as np.std(image_array)\n",
    "print(\"Minimum:\", image_array.min())  # Same as np.min(image_array)\n",
    "print(\"Maximum:\", image_array.max())  # Same as np.max(image_array)"
   ]
  },
  {
   "cell_type": "markdown",
   "id": "e19e0cc8",
   "metadata": {},
   "source": [
    "Extra! Show histogram of pixel values:"
   ]
  },
  {
   "cell_type": "code",
   "execution_count": null,
   "id": "5b116024",
   "metadata": {},
   "outputs": [],
   "source": [
    "linear_values = image_array.flatten()  # Flatten the image array to 1D for histogram\n",
    "plt.hist(linear_values, bins=50, edgecolor='black')  # Create a histogram of pixel values\n",
    "plt.show()  # Show the histogram plot"
   ]
  }
 ],
 "metadata": {
  "kernelspec": {
   "display_name": "cp-env02",
   "language": "python",
   "name": "python3"
  },
  "language_info": {
   "codemirror_mode": {
    "name": "ipython",
    "version": 3
   },
   "file_extension": ".py",
   "mimetype": "text/x-python",
   "name": "python",
   "nbconvert_exporter": "python",
   "pygments_lexer": "ipython3",
   "version": "3.11.11"
  }
 },
 "nbformat": 4,
 "nbformat_minor": 5
}
