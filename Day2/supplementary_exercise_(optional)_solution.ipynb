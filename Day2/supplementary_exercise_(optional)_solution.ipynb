{
 "cells": [
  {
   "cell_type": "markdown",
   "id": "45b3a1b9",
   "metadata": {},
   "source": [
    "# Supplementary exercise"
   ]
  },
  {
   "cell_type": "markdown",
   "id": "d840ec40",
   "metadata": {},
   "source": [
    "1. Create a NumPy arra of dimensions (3,2,20,10) filled with zeros.\n",
    "\n",
    "2. Set the values at the positions (0,1,5,7), (0,1,11,6) and (0,1,12,7) to one. Do the same for the slice in 0,1,13 and the last three positions in the fourth dimension.\n",
    "\n",
    "3. Extract the subarray at the first position in the first dimension and the second position in the second dimension.\n",
    "\n",
    "4. Create a a copy of the new array. Flip it along the second axis.\n",
    "\n",
    "5. Concatenate the first array and the second array along the second axis and save the result in a new variable.\n",
    "\n",
    "6. Stack the new array twice along a new axis at first position.\n",
    "\n",
    "7. Create an array of size (1,20,20) and values that progress from 0 to one along the first axis (this might be tricky). Concatenate it to the array from (7.) along the first axis, save the result in a new variable.\n",
    "\n",
    "8. Move the first axis to the last position.\n",
    "\n",
    "9. Visualize the result using a suitable plotting library (e.g., Matplotlib).\n",
    "\n",
    "10. Try to understand how you've created the image that you see."
   ]
  },
  {
   "cell_type": "code",
   "execution_count": 18,
   "id": "4bc8a809",
   "metadata": {},
   "outputs": [
    {
     "name": "stdout",
     "output_type": "stream",
     "text": [
      "(1, 20, 20) (2, 20, 20)\n"
     ]
    },
    {
     "data": {
      "text/plain": [
       "<matplotlib.image.AxesImage at 0x1b1db461b90>"
      ]
     },
     "execution_count": 18,
     "metadata": {},
     "output_type": "execute_result"
    },
    {
     "data": {
      "image/png": "[encoded data removed]",
      "text/plain": [
       "<Figure size 640x480 with 1 Axes>"
      ]
     },
     "metadata": {},
     "output_type": "display_data"
    }
   ],
   "source": [
    "import numpy as np\n",
    "\n",
    "arr = np.zeros((3,2,20,10))\n",
    "\n",
    "arr[0,1,5,7] = 1\n",
    "arr[0,1,11,6] = 1\n",
    "arr[0,1,12,7] = 1\n",
    "arr[0,1,13, -3:] = 1\n",
    "\n",
    "arr1 = arr[0,1]\n",
    "\n",
    "arr2 = arr1.copy()\n",
    "\n",
    "arr2 = np.flip(arr2, axis = 1)\n",
    "\n",
    "arr_conc = np.concatenate([arr1, arr2], axis=1)\n",
    "\n",
    "arr_st = np.stack([arr_conc, arr_conc], axis=0)\n",
    "\n",
    "arr3 = np.linspace(0,1,20) * np.ones((1,20,20))\n",
    "print(arr3.shape, arr_st.shape)\n",
    "arr4 = np.concatenate([arr_st, arr3], axis=0)\n",
    "\n",
    "arr_final = np.moveaxis(arr4, 0, -1)\n",
    "\n",
    "from matplotlib import pyplot as plt\n",
    "\n",
    "plt.imshow(arr_final)"
   ]
  }
 ],
 "metadata": {
  "kernelspec": {
   "display_name": "cp-env02",
   "language": "python",
   "name": "python3"
  },
  "language_info": {
   "codemirror_mode": {
    "name": "ipython",
    "version": 3
   },
   "file_extension": ".py",
   "mimetype": "text/x-python",
   "name": "python",
   "nbconvert_exporter": "python",
   "pygments_lexer": "ipython3",
   "version": "3.11.11"
  }
 },
 "nbformat": 4,
 "nbformat_minor": 5
}
