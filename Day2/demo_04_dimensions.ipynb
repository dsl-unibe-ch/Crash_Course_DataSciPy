{
 "cells": [
  {
   "cell_type": "code",
   "execution_count": null,
   "id": "89baba00",
   "metadata": {},
   "outputs": [],
   "source": [
    "import numpy as np"
   ]
  },
  {
   "cell_type": "markdown",
   "id": "88850c80",
   "metadata": {},
   "source": [
    "# 4) Navigating through dimensions - Demos"
   ]
  },
  {
   "cell_type": "markdown",
   "id": "0671c9f9",
   "metadata": {},
   "source": [
    "## Getting a feeling of dimensions"
   ]
  },
  {
   "cell_type": "markdown",
   "id": "d0fd2d28",
   "metadata": {},
   "source": [
    "3D and multichannel images and videos:"
   ]
  },
  {
   "cell_type": "code",
   "execution_count": null,
   "id": "61ce46f8",
   "metadata": {},
   "outputs": [],
   "source": [
    "import napari\n",
    "from skimage import io\n",
    "from skimage import data"
   ]
  },
  {
   "cell_type": "code",
   "execution_count": null,
   "id": "f5e31499",
   "metadata": {},
   "outputs": [],
   "source": [
    "v = napari.imshow(data.cells3d()[:,1], name='3D Image', ndisplay=3)"
   ]
  },
  {
   "cell_type": "code",
   "execution_count": null,
   "id": "511d6c5c",
   "metadata": {},
   "outputs": [],
   "source": [
    "v = napari.imshow(data.cells3d()[30], name='2 channels')"
   ]
  },
  {
   "cell_type": "code",
   "execution_count": null,
   "id": "1fc69f6b",
   "metadata": {},
   "outputs": [],
   "source": [
    "v = napari.imshow(np.moveaxis(data.cells3d(),0,1), name='3D and 2 channels')"
   ]
  },
  {
   "cell_type": "code",
   "execution_count": null,
   "id": "8e1504ee",
   "metadata": {},
   "outputs": [],
   "source": [
    "r, g, b = np.moveaxis(data.kidney(), -1, 0)\n",
    "v = napari.Viewer(ndisplay=3)\n",
    "v.add_image(b, name='Blue', colormap='blue', scale=(10, 1, 1), contrast_limits=(800, 3000))\n",
    "v.add_image(r, name='Red', colormap='red', opacity=0.7, scale=(10, 1, 1), contrast_limits=(800, 3000))\n",
    "v.add_image(g, name='Green', colormap='green', opacity=0.4, scale=(10, 1, 1), contrast_limits=(0, 3000))"
   ]
  },
  {
   "cell_type": "code",
   "execution_count": null,
   "id": "b2a60d15",
   "metadata": {},
   "outputs": [],
   "source": [
    "v = napari.imshow(io.imread('media/shark_vid_step2_SHORT.tif'), name='Video')"
   ]
  },
  {
   "cell_type": "markdown",
   "id": "0dfebf51",
   "metadata": {},
   "source": [
    "Effect of higher dimensions:"
   ]
  },
  {
   "cell_type": "code",
   "execution_count": null,
   "id": "2f200927",
   "metadata": {},
   "outputs": [],
   "source": [
    "d_arr = np.arange(1, 10)\n",
    "for d in d_arr:\n",
    "    my_arr = np.zeros([3]*d)\n",
    "    print(f'Array with {d} dimensions, each of size 3 | shape:', my_arr.shape, '# dims:', my_arr.ndim, 'size:', my_arr.size)"
   ]
  },
  {
   "cell_type": "code",
   "execution_count": null,
   "id": "c669dd00",
   "metadata": {},
   "outputs": [],
   "source": [
    "from matplotlib import pyplot as plt\n",
    "\n",
    "plt.plot(d_arr, 3**d_arr, '-')\n",
    "plt.show()"
   ]
  },
  {
   "cell_type": "markdown",
   "id": "f616736d",
   "metadata": {},
   "source": [
    "## Changing the dimensions of an array"
   ]
  },
  {
   "cell_type": "markdown",
   "id": "811d20ae",
   "metadata": {},
   "source": [
    "Reshape:"
   ]
  },
  {
   "cell_type": "code",
   "execution_count": null,
   "id": "45d1f842",
   "metadata": {},
   "outputs": [],
   "source": [
    "arr1 = np.arange(10)\n",
    "print(arr1, \"\\n\")\n",
    "arr2 = arr1.reshape(2, 5)\n",
    "print(arr2)"
   ]
  },
  {
   "cell_type": "markdown",
   "id": "d3210087",
   "metadata": {},
   "source": [
    "Flip 2D:"
   ]
  },
  {
   "cell_type": "code",
   "execution_count": null,
   "id": "9c8e4d8f",
   "metadata": {},
   "outputs": [],
   "source": [
    "print( np.flip(arr2, axis=0) )"
   ]
  },
  {
   "cell_type": "markdown",
   "id": "6240c505",
   "metadata": {},
   "source": [
    "Flip 3D - ( blocks, rows, columns ):"
   ]
  },
  {
   "cell_type": "code",
   "execution_count": null,
   "id": "c478cc09",
   "metadata": {},
   "outputs": [],
   "source": [
    "arr3 = np.arange(12).reshape(2,2,3)\n",
    "\n",
    "print(arr3)\n",
    "print(\"\\naxis 0:\\n\", np.flip(arr3, axis=0))\n",
    "print(\"\\naxis 1:\\n\", np.flip(arr3, axis=1))\n",
    "print(\"\\naxis 2:\\n\", np.flip(arr3, axis=2))"
   ]
  },
  {
   "cell_type": "markdown",
   "id": "0d2eaebc",
   "metadata": {},
   "source": [
    "Concatenate:"
   ]
  },
  {
   "cell_type": "code",
   "execution_count": null,
   "id": "d44b284b",
   "metadata": {},
   "outputs": [],
   "source": [
    "arr4 = np.arange(12).reshape(2,2,3)\n",
    "print(arr4)\n",
    "\n",
    "arr5 = np.concatenate((arr4, arr4), axis=0)\n",
    "print(\"\\nconcatenated along 0:\\n\", arr5)\n",
    "print(\"\\nshape:\", arr5.shape)"
   ]
  },
  {
   "cell_type": "markdown",
   "id": "bab40e75",
   "metadata": {},
   "source": [
    "Stack (**note the new axis!**):"
   ]
  },
  {
   "cell_type": "code",
   "execution_count": null,
   "id": "d6906fa1",
   "metadata": {},
   "outputs": [],
   "source": [
    "arr6 = np.stack((arr4, arr4), axis=0)\n",
    "print(\"\\nstacked along 0:\\n\", arr6)\n",
    "print(\"\\nshape:\", arr6.shape)"
   ]
  },
  {
   "cell_type": "markdown",
   "id": "1c95a8d1",
   "metadata": {},
   "source": [
    "## Aggregations and locations"
   ]
  },
  {
   "cell_type": "code",
   "execution_count": null,
   "id": "1a02726e",
   "metadata": {},
   "outputs": [],
   "source": [
    "my_arr = np.zeros([3, 5], dtype='int')\n",
    "my_arr[1, 2] = 42\n",
    "my_arr[2, 2] = 99\n",
    "my_arr[0, 0] = 1\n",
    "print(my_arr)"
   ]
  },
  {
   "cell_type": "markdown",
   "id": "9ba81fa8",
   "metadata": {},
   "source": [
    "Max along axes:"
   ]
  },
  {
   "cell_type": "code",
   "execution_count": null,
   "id": "0af8a4c0",
   "metadata": {},
   "outputs": [],
   "source": [
    "print(\"Overall max:\", np.max(my_arr))\n",
    "print(\"\\nmax along axis 0:\\n\", np.max(my_arr, axis=0))\n",
    "print(\"\\nmax along axis 1:\\n\", np.max(my_arr, axis=1))"
   ]
  },
  {
   "cell_type": "markdown",
   "id": "4b779dcd",
   "metadata": {},
   "source": [
    "Argmax along axes:"
   ]
  },
  {
   "cell_type": "code",
   "execution_count": null,
   "id": "88eb5359",
   "metadata": {},
   "outputs": [],
   "source": [
    "print(\"Location of max along axis 0:\\n\", np.argmax(my_arr, axis = 0))\n",
    "print(\"\\nLocation of max along axis 1:\\n\", np.argmax(my_arr, axis = 1))"
   ]
  },
  {
   "cell_type": "markdown",
   "id": "0c6c1639",
   "metadata": {},
   "source": [
    "Argwhere:"
   ]
  },
  {
   "cell_type": "code",
   "execution_count": null,
   "id": "78acd85a",
   "metadata": {},
   "outputs": [],
   "source": [
    "print(\"Locations above 0:\\n\", np.argwhere(my_arr > 0))\n",
    "print(\"\\nLocations of 42:\\n\", np.argwhere(my_arr == 42))\n",
    "print(\"\\nLocations divisible by 3:\\n\", np.argwhere((my_arr % 3 == 0) & (my_arr != 0)))"
   ]
  }
 ],
 "metadata": {
  "kernelspec": {
   "display_name": "cp-env02",
   "language": "python",
   "name": "python3"
  },
  "language_info": {
   "codemirror_mode": {
    "name": "ipython",
    "version": 3
   },
   "file_extension": ".py",
   "mimetype": "text/x-python",
   "name": "python",
   "nbconvert_exporter": "python",
   "pygments_lexer": "ipython3",
   "version": "3.11.11"
  }
 },
 "nbformat": 4,
 "nbformat_minor": 5
}
