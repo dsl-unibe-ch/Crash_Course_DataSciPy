{
 "cells": [
  {
   "cell_type": "markdown",
   "metadata": {
    "id": "6LZWsXsoP9xF"
   },
   "source": [
    "# 2) Creation and basic analysis of arrays"
   ]
  },
  {
   "cell_type": "code",
   "execution_count": null,
   "metadata": {},
   "outputs": [],
   "source": [
    "import numpy as np"
   ]
  },
  {
   "cell_type": "markdown",
   "metadata": {},
   "source": [
    "## NumPy documentation"
   ]
  },
  {
   "cell_type": "markdown",
   "metadata": {},
   "source": [
    "**Note: Numpy has a very good and extensive documentation, which you can find at https://numpy.org/doc/stable/. If you need any further details about numpy arrays, you can always refer to it.**"
   ]
  },
  {
   "cell_type": "markdown",
   "metadata": {},
   "source": [
    "## Multiple ways of creating arrays"
   ]
  },
  {
   "cell_type": "markdown",
   "metadata": {},
   "source": [
    "We have seen that we can turn regular lists into arrays with the ```array()``` function. However this becomes quickly impractical for larger arrays. Numpy offers several functions to create particular arrays."
   ]
  },
  {
   "cell_type": "markdown",
   "metadata": {},
   "source": [
    "### Common simple arrays"
   ]
  },
  {
   "cell_type": "markdown",
   "metadata": {},
   "source": [
    "For example an array full of zeros or ones:"
   ]
  },
  {
   "cell_type": "code",
   "execution_count": null,
   "metadata": {},
   "outputs": [],
   "source": [
    "one_array = np.ones(shape=(2,3))\n",
    "one_array"
   ]
  },
  {
   "cell_type": "code",
   "execution_count": null,
   "metadata": {},
   "outputs": [],
   "source": [
    "zero_array = np.zeros(shape=(2,3))\n",
    "zero_array"
   ]
  },
  {
   "cell_type": "markdown",
   "metadata": {},
   "source": [
    "We see here that the two functions take a ```shape``` argument that describes the shape of the output array. Indeed arrays are not just lists but can also be lists of lists!\n",
    "\n",
    "If we obtain an array we can use the same ```shape``` property to find out the shape of an array:"
   ]
  },
  {
   "cell_type": "code",
   "execution_count": null,
   "metadata": {},
   "outputs": [],
   "source": [
    "zero_array.shape"
   ]
  },
  {
   "cell_type": "markdown",
   "metadata": {},
   "source": [
    "Let's check the ```dtype```:"
   ]
  },
  {
   "cell_type": "code",
   "execution_count": null,
   "metadata": {},
   "outputs": [],
   "source": [
    "one_array.dtype"
   ]
  },
  {
   "cell_type": "markdown",
   "metadata": {},
   "source": [
    "By default, Numpy creates float arrays. As previously, if needed, we can adjust this with the ```astype``` method."
   ]
  },
  {
   "cell_type": "markdown",
   "metadata": {},
   "source": [
    "### Complex arrays"
   ]
  },
  {
   "cell_type": "markdown",
   "metadata": {},
   "source": [
    "We are not limited to creating arrays containing ones or zeros. Very common operations involve e.g. the creation of arrays containing regularly arranged numbers. For example a \"from-to-by-step\" list:"
   ]
  },
  {
   "cell_type": "code",
   "execution_count": null,
   "metadata": {},
   "outputs": [],
   "source": [
    "arranged_array = np.arange(0, 10, 2)\n",
    "arranged_array"
   ]
  },
  {
   "cell_type": "markdown",
   "metadata": {},
   "source": [
    "Here also, we can find out what the shape of the array is as we didn't specify it explicitly. Since it's a 1D array we only get one value out:"
   ]
  },
  {
   "cell_type": "code",
   "execution_count": null,
   "metadata": {},
   "outputs": [],
   "source": [
    "arranged_array.shape"
   ]
  },
  {
   "cell_type": "markdown",
   "metadata": {},
   "source": [
    "Or a certain number of equidistant values between boundaries:"
   ]
  },
  {
   "cell_type": "code",
   "execution_count": null,
   "metadata": {},
   "outputs": [],
   "source": [
    "np.linspace(0, 1, 10)"
   ]
  },
  {
   "cell_type": "markdown",
   "metadata": {},
   "source": [
    "### Statistical arrays (optional)"
   ]
  },
  {
   "cell_type": "markdown",
   "metadata": {},
   "source": [
    "Numpy offeres also many options to create arrays filled with numbers drawn from a given distribution. Most of these functions are located in a sub-module called ```np.random```. For example we can draw numbers from a Poisson distribution $P(x = k, \\lambda) = \\frac{\\lambda^ke^{\\lambda}}{k!}$"
   ]
  },
  {
   "cell_type": "code",
   "execution_count": null,
   "metadata": {},
   "outputs": [],
   "source": [
    "poisson = np.random.poisson(lam=5, size=20)\n",
    "poisson"
   ]
  },
  {
   "cell_type": "markdown",
   "metadata": {
    "id": "wPNdTPiiTT3A"
   },
   "source": [
    "## Loading images as arrays and displaying them"
   ]
  },
  {
   "cell_type": "markdown",
   "metadata": {},
   "source": [
    "In the previous chapters, we have learned about Numpy arrays in general. These structures can hold any type of data but they are particularly ideal to store image data. Indeed in many fields such as biomedical imaging or satellite imagery, multi-dimensional data are acquired that can be easily processed as NumPy arrays."
   ]
  },
  {
   "cell_type": "markdown",
   "metadata": {},
   "source": [
    "### Importing data"
   ]
  },
  {
   "cell_type": "markdown",
   "metadata": {},
   "source": [
    "There are many libraries to open image data. Some are more general and some dedicated to specific fields with specific image formats. However, most of them have in common that they import those various image formats as Numpy arrays."
   ]
  },
  {
   "cell_type": "markdown",
   "metadata": {},
   "source": [
    "Here we use the import module of scikit-image which is a general purpose image processing library for Python. We import an image directly from the internet but any local image can also be opened by using its path."
   ]
  },
  {
   "cell_type": "code",
   "execution_count": null,
   "metadata": {},
   "outputs": [],
   "source": [
    "import skimage.io"
   ]
  },
  {
   "cell_type": "markdown",
   "metadata": {},
   "source": [
    "Here we have a fluorescence microscopy image of Saccharomyces cerevisiae with a signal accumulating in the vacuoles."
   ]
  },
  {
   "cell_type": "code",
   "execution_count": null,
   "metadata": {},
   "outputs": [],
   "source": [
    "image = skimage.io.imread('https://cildata.crbs.ucsd.edu/media/images/13901/13901.tif')"
   ]
  },
  {
   "cell_type": "markdown",
   "metadata": {},
   "source": [
    "Printing the image will only show the values on the edges of the image, since there would be too many values to display. However, we can already see that the image is a 2D array of dtype uint16."
   ]
  },
  {
   "cell_type": "code",
   "execution_count": null,
   "metadata": {},
   "outputs": [],
   "source": [
    "image"
   ]
  },
  {
   "cell_type": "markdown",
   "metadata": {},
   "source": [
    "Let's confirm that it was imported as a Numpy array:"
   ]
  },
  {
   "cell_type": "code",
   "execution_count": null,
   "metadata": {},
   "outputs": [],
   "source": [
    "type(image)"
   ]
  },
  {
   "cell_type": "markdown",
   "metadata": {},
   "source": [
    "We see above that the tif file was indeed imported as a Numpy array. In addition we see that the pixels have unsigned (i.e., positive-only) integer 16 bits, a common format for images.\n",
    "\n",
    "We can now check how many pixels and dimensions we have:"
   ]
  },
  {
   "cell_type": "code",
   "execution_count": null,
   "metadata": {},
   "outputs": [],
   "source": [
    "image.shape"
   ]
  },
  {
   "cell_type": "markdown",
   "metadata": {},
   "source": [
    "### Displaying arrays as images"
   ]
  },
  {
   "cell_type": "markdown",
   "metadata": {},
   "source": [
    "The shape tells us that our array has 1024 lines and 1360 columns but no other dimensions. So we have a plain 2D gray-scale image. We can use the ```imshow``` function from the `pypolot` collection of `matplotlib` to display 2D arrays as images:"
   ]
  },
  {
   "cell_type": "code",
   "execution_count": null,
   "metadata": {},
   "outputs": [],
   "source": [
    "from matplotlib import pyplot as plt\n",
    "\n",
    "plt.imshow(image, cmap='gray')"
   ]
  },
  {
   "cell_type": "markdown",
   "metadata": {},
   "source": [
    "In addition to the ```image``` input we also used an *optional* parameter called ```cmap```. It allows us to set a certain colormap, here a gray one. You can find more here: https://matplotlib.org/stable/tutorials/colors/colormaps.html#sequential"
   ]
  },
  {
   "cell_type": "markdown",
   "metadata": {
    "id": "0hpAJQGzWaVW"
   },
   "source": [
    "## Analysing arrays/images (aggregating functions)"
   ]
  },
  {
   "cell_type": "markdown",
   "metadata": {},
   "source": [
    "There are different types of images when it comes to pixel values. Common ranges are 0-255 for 8-bit images, 0-65535 for 16-bit images and 0-1 for float images. In our case we have a 16-bit image, so the pixel values range from 0 to 65535.\n",
    "\n",
    "We can check this using the aggregating functions `min()`, `max()` and `mean()`, as well as `dtype`:"
   ]
  },
  {
   "cell_type": "code",
   "execution_count": null,
   "metadata": {},
   "outputs": [],
   "source": [
    "print(\"Mean:\", np.mean(image))\n",
    "print(\"Range:\", np.min(image), \"-\", np.max(image))\n",
    "print(\"type:\", image.dtype)"
   ]
  },
  {
   "cell_type": "markdown",
   "metadata": {},
   "source": [
    "We can also get an impression of the pixel values by plotting a histogram of the pixel values. This is a very common operation in image analysis. Note that we use the `flatten()` method to turn the 2D array into a 1D array, so that we can plot the histogram of all pixel values at once:"
   ]
  },
  {
   "cell_type": "code",
   "execution_count": null,
   "metadata": {},
   "outputs": [],
   "source": [
    "plt.hist(image.flatten(), bins=100)\n",
    "plt.show()"
   ]
  },
  {
   "cell_type": "markdown",
   "metadata": {},
   "source": [
    "As the image is an array, we can perform operations on all values of the array at once. Like this, we can for example easily change the image to a float array and normalize the pixel values to a range between 0 and 1:"
   ]
  },
  {
   "cell_type": "code",
   "execution_count": null,
   "metadata": {},
   "outputs": [],
   "source": [
    "image_float = image - image.min() # make the values start at 0\n",
    "image_float = image_float / image_float.max() # normalize to 1\n",
    "image_float = image_float.astype(np.float32) # convert to float32\n",
    "\n",
    "print(\"Mean:\", np.mean(image_float))\n",
    "print(\"Range:\", np.min(image_float), \"-\", np.max(image_float))"
   ]
  },
  {
   "cell_type": "markdown",
   "metadata": {},
   "source": [
    "Let's check the pixel values:"
   ]
  },
  {
   "cell_type": "code",
   "execution_count": null,
   "metadata": {},
   "outputs": [],
   "source": [
    "image_float"
   ]
  },
  {
   "cell_type": "markdown",
   "metadata": {},
   "source": [
    "As we can see in the histogram below, the pixel values are now between 0 and 1, but the relative distribution has stayed the same."
   ]
  },
  {
   "cell_type": "code",
   "execution_count": null,
   "metadata": {},
   "outputs": [],
   "source": [
    "plt.hist(image_float.flatten(), bins=100)\n",
    "plt.show()"
   ]
  },
  {
   "cell_type": "markdown",
   "metadata": {},
   "source": [
    "## The dot notation"
   ]
  },
  {
   "cell_type": "markdown",
   "metadata": {},
   "source": [
    "As we have already seen with ```astype()``` for example, Numpy arrays come with a lot of functions attached to them (methods). In particular many of the statistics functions can be called in that way. For example, with the mean, we have two options that yield the same result:"
   ]
  },
  {
   "cell_type": "code",
   "execution_count": null,
   "metadata": {},
   "outputs": [],
   "source": [
    "print(np.mean(image))\n",
    "print(image.mean())"
   ]
  },
  {
   "cell_type": "markdown",
   "metadata": {
    "id": "T6qT3vkSVaFi"
   },
   "source": [
    "# Exercises"
   ]
  },
  {
   "cell_type": "markdown",
   "metadata": {},
   "source": [
    "1. Find out how to generate a list of 10 numbers drawn from a **normal distribution** with a mean of 10 and standard deviation of 2.\n",
    "\n",
    "2. Create a list of 10 numbers evenly spaced between 0 and 90.\n",
    "\n",
    "3. Assuming that the values you obtained in (2) are angles in degrees, find a function that converts degrees to radians and apply it to the array.\n",
    "\n",
    "4. Calculate the standard deviation of the array obtained in (3). Use both a numpy function (```np.myfun```) and a method attached to the array."
   ]
  },
  {
   "cell_type": "code",
   "execution_count": null,
   "metadata": {},
   "outputs": [],
   "source": [
    "\n",
    "### YOUR CODE HERE\n"
   ]
  },
  {
   "cell_type": "markdown",
   "metadata": {},
   "source": [
    "5. Create a 2D array of shape (20, 30) filled with random numbers drawn from a uniform distribution between 0 and 1. Use the ```np.random.uniform()``` function.\n",
    "\n",
    "6. Display the array you created in (5) as an image using ```plt.imshow()``` and a colormap of your choice (though we recommend a sequential colormap like `gray` or `viridis`).\n",
    "\n",
    "7. Find out the mean and the range of the pixel values in the image you created in (5). Use both a numpy function (```np.myfun```) and a method attached to the array.\n",
    "\n",
    "8. Invert the pixel values of the image you created in (5). The range should still be between 0 and 1, but the mean should change. Check the mean before and after the inversion.\n",
    "\n",
    "    *Hint: You can invert the pixel values by subtracting them from 1.*"
   ]
  },
  {
   "cell_type": "code",
   "execution_count": null,
   "metadata": {},
   "outputs": [],
   "source": [
    "\n",
    "### YOUR CODE HERE\n"
   ]
  },
  {
   "cell_type": "markdown",
   "metadata": {},
   "source": [
    "9. (Optional) Have a close look at the individual pixel values and the mean of the images before and after the inversion. What do you observe? Can you explain it? You can also plot the histograms of the pixel values before and after the inversion to visualize the change."
   ]
  }
 ],
 "metadata": {
  "colab": {
   "authorship_tag": "ABX9TyOOdi0hW1jeN9bnQ0CiR6Tc",
   "collapsed_sections": [],
   "name": "02-Numpy_arrays.ipynb",
   "provenance": [],
   "toc_visible": true
  },
  "kernelspec": {
   "display_name": "cp-env02",
   "language": "python",
   "name": "python3"
  },
  "language_info": {
   "codemirror_mode": {
    "name": "ipython",
    "version": 3
   },
   "file_extension": ".py",
   "mimetype": "text/x-python",
   "name": "python",
   "nbconvert_exporter": "python",
   "pygments_lexer": "ipython3",
   "version": "3.11.11"
  }
 },
 "nbformat": 4,
 "nbformat_minor": 4
}
