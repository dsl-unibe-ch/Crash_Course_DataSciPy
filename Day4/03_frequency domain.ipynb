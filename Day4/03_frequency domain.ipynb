{
 "cells": [
  {
   "cell_type": "markdown",
   "id": "65198e4c57ac7690",
   "metadata": {},
   "source": [
    "# Day 4: Mathematical elements of Data Sciense\n",
    "\n",
    "Data Science Lab, University of Bern, 2025\n",
    "\n",
    "Prepared by Dr. Mykhailo Vladymyrov.\n",
    "\n",
    "This work is licensed under a [Creative Commons Attribution-ShareAlike 4.0 International License](https://creativecommons.org/licenses/by-sa/4.0/)\n",
    "\n",
    "# Summary"
   ]
  },
  {
   "cell_type": "markdown",
   "id": "d9bb22d10f1befb1",
   "metadata": {},
   "source": [
    "Main content is currently provided solely as interactive life discussion.\n",
    "We look at a few of more commonly used mathematical concepts in Data Science, such as vector spaces, probability & distributions, frequency domain, and differential calculus. Specifically, we look at those form the perspective of Data Science, and how they can be used in practice to and how we can think of them in a more intuitive way.\n",
    "\n",
    "This notebook is primarily for running the visualizations and the exercises."
   ]
  },
  {
   "cell_type": "markdown",
   "id": "628d937744739fd5",
   "metadata": {},
   "source": [
    "To keep track of the topics suggested for the discussion, in this notebook is also given this list of topics:\n",
    "\n",
    "- frequency domain\n",
    "    - sine, cosine\n",
    "    - Fourier transform\n",
    "    - trends"
   ]
  },
  {
   "cell_type": "markdown",
   "id": "516a266441018468",
   "metadata": {},
   "source": [
    "# Interactive Demo"
   ]
  },
  {
   "cell_type": "markdown",
   "id": "4cf9d88cd2663b8b",
   "metadata": {},
   "source": [
    "# Frequency Domain"
   ]
  },
  {
   "cell_type": "markdown",
   "id": "27de0d4c8402e274",
   "metadata": {},
   "source": [
    "Suggested reading: [Use Frequency More Frequently](https://medium.com/data-science/use-frequency-more-frequently-14715714de38)"
   ]
  },
  {
   "cell_type": "code",
   "execution_count": null,
   "id": "a29faed41a045417",
   "metadata": {
    "ExecuteTime": {
     "end_time": "2025-08-08T16:11:12.854983Z",
     "start_time": "2025-08-08T16:11:11.391403Z"
    }
   },
   "outputs": [],
   "source": [
    "import numpy as np\n",
    "import matplotlib.pyplot as plt\n",
    "from scipy import signal\n",
    "# Create a sample signal\n",
    "import pandas as pd\n",
    "from statsmodels.tsa.seasonal import seasonal_decompose\n"
   ]
  },
  {
   "cell_type": "code",
   "execution_count": null,
   "id": "1306e2cce40ddd04",
   "metadata": {
    "ExecuteTime": {
     "end_time": "2025-08-08T15:52:43.996103Z",
     "start_time": "2025-08-08T15:52:43.982581Z"
    }
   },
   "outputs": [],
   "source": [
    "t = np.linspace(0, 16, 500, endpoint=False)  # time vector"
   ]
  },
  {
   "cell_type": "code",
   "execution_count": null,
   "id": "aea3adc71c81ba02",
   "metadata": {
    "ExecuteTime": {
     "end_time": "2025-08-08T15:52:44.011701Z",
     "start_time": "2025-08-08T15:52:43.998103Z"
    }
   },
   "outputs": [],
   "source": [
    "dt = t[1] - t[0]  # time step"
   ]
  },
  {
   "cell_type": "code",
   "execution_count": null,
   "id": "bd26c3001bd41ea2",
   "metadata": {
    "ExecuteTime": {
     "end_time": "2025-08-08T15:56:06.626733Z",
     "start_time": "2025-08-08T15:56:06.617654Z"
    }
   },
   "outputs": [],
   "source": [
    "100/dt, 16/dt"
   ]
  },
  {
   "cell_type": "code",
   "execution_count": null,
   "id": "1e6d374e99b07e3c",
   "metadata": {
    "ExecuteTime": {
     "end_time": "2025-08-08T16:05:06.519211Z",
     "start_time": "2025-08-08T16:05:06.337645Z"
    }
   },
   "outputs": [],
   "source": [
    "# exmaple: periodic signal sin wave dt*1/100 @ A = 1 + dt/16 @ A=0.2 + noise normal 0.05\n",
    "\n",
    "y1 = 1 * np.sin(2 * np.pi * t/(dt * 100))  # periodic signal\n",
    "y2 = 0.05 * np.sin(2 * np.pi * t/(dt * 6))  # periodic signal\n",
    "y3 = np.random.normal(0, 0.1, t.shape)  # noise\n",
    "y = y1 + y2 + y3  # combined signal\n",
    "\n",
    "plt.plot(t, y)\n"
   ]
  },
  {
   "cell_type": "code",
   "execution_count": null,
   "id": "9d20c2d005ab5b44",
   "metadata": {
    "ExecuteTime": {
     "end_time": "2025-08-08T16:05:08.295048Z",
     "start_time": "2025-08-08T16:05:07.312658Z"
    }
   },
   "outputs": [],
   "source": [
    "# get power spectral density\n",
    "f, Pxx = signal.welch(y, fs=1/dt, nperseg=512)\n",
    "plt.semilogy(f, Pxx)\n",
    "plt.xlabel('Frequency [Hz]')"
   ]
  },
  {
   "cell_type": "markdown",
   "id": "274018bcde0ef7e9",
   "metadata": {},
   "source": [
    "# detrending the signal"
   ]
  },
  {
   "cell_type": "markdown",
   "id": "1e53feb6",
   "metadata": {},
   "source": []
  },
  {
   "cell_type": "code",
   "execution_count": null,
   "id": "7f98afab",
   "metadata": {},
   "outputs": [],
   "source": [
    "n = 120\n",
    "t = np.arange(n)\n",
    "\n",
    "sawtooth_wave = signal.sawtooth(2 * np.pi * t / 30)  # example of a sawtooth wave\n",
    "\n",
    "trend = 10 + 0.05 * (t + sawtooth_wave*20)\n",
    "seasonal = 2 * np.sin(2 * np.pi * t / 12)\n",
    "noise = np.random.normal(0, 0.5, n)\n",
    "y = trend + seasonal + noise\n",
    "\n",
    "\n",
    "# Use a pandas Series with a datetime index (best practice)\n",
    "date_index = pd.date_range(start='2020-01-01', periods=n, freq='M')\n",
    "series = pd.Series(y, index=date_index)\n",
    "\n",
    "# Seasonal decomposition\n",
    "result = seasonal_decompose(series, model='additive', period=12)  # period=12 for yearly seasonality\n",
    "\n",
    "# Detrended signal (remove trend, keep seasonality and noise)\n",
    "detrended = series - result.trend\n",
    "\n",
    "# Plot\n",
    "plt.figure(figsize=(10,6))\n",
    "plt.plot(series, label='Original')\n",
    "plt.plot(result.trend, label='Trend')\n",
    "plt.plot(date_index, trend, '--', label='Trend')\n",
    "plt.plot(detrended, label='Detrended')\n",
    "plt.plot(date_index, seasonal+ noise, '--', label='Seasonal+Noise')\n",
    "plt.legend()\n",
    "plt.title('Detrending with statsmodels.tsa.seasonal_decompose')\n",
    "plt.show()\n"
   ]
  },
  {
   "cell_type": "markdown",
   "id": "0f80d325",
   "metadata": {},
   "source": []
  }
 ],
 "metadata": {
  "kernelspec": {
   "display_name": "Python 3",
   "language": "python",
   "name": "python3"
  },
  "language_info": {
   "codemirror_mode": {
    "name": "ipython",
    "version": 3
   },
   "file_extension": ".py",
   "mimetype": "text/x-python",
   "name": "python",
   "nbconvert_exporter": "python",
   "pygments_lexer": "ipython3",
   "version": "3.12.11"
  }
 },
 "nbformat": 4,
 "nbformat_minor": 5
}
