{
 "cells": [
  {
   "metadata": {},
   "cell_type": "markdown",
   "source": [
    "Main content is currently provided solely as interactive life discussion.\n",
    "We look at a few of more commonly used mathematical concepts in Data Science, such as vector spaces, probability & distributions, frequency domain, and differential calculus. Specifically, we look at those form the perspective of Data Science, and how they can be used in practice to and how we can think of them in a more intuitive way.\n",
    "\n",
    "This notebook is primarily for running the visualizations and the exercises."
   ],
   "id": "4fb7c5927ca05c0"
  },
  {
   "metadata": {},
   "cell_type": "markdown",
   "source": [
    "To keep track of the topics suggested for the discussion, in this notebook is also given this list of topics:\n",
    "\n",
    "- differential calculus:\n",
    "    - slope\n",
    "    - equilibrium - 4 types of zero\n",
    "    - how to calculate the slope in practice\n",
    "    - and how to use it"
   ],
   "id": "39398260971ee98d"
  },
  {
   "metadata": {},
   "cell_type": "markdown",
   "source": "# Interactive Demo",
   "id": "f1c4383bbd23bc6a"
  },
  {
   "metadata": {
    "ExecuteTime": {
     "end_time": "2025-08-11T12:23:05.109661Z",
     "start_time": "2025-08-11T12:23:03.020137Z"
    }
   },
   "cell_type": "code",
   "source": [
    "import numpy as np\n",
    "import matplotlib.pyplot as plt\n",
    "from matplotlib.widgets import Slider\n",
    "from IPython.display import display, HTML\n",
    "\n"
   ],
   "id": "c1eb08f803940ef9",
   "outputs": [],
   "execution_count": 2
  },
  {
   "metadata": {},
   "cell_type": "code",
   "outputs": [],
   "execution_count": null,
   "source": "",
   "id": "399c78b8684279e2"
  }
 ],
 "metadata": {
  "kernelspec": {
   "display_name": "Python 3",
   "language": "python",
   "name": "python3"
  },
  "language_info": {
   "codemirror_mode": {
    "name": "ipython",
    "version": 2
   },
   "file_extension": ".py",
   "mimetype": "text/x-python",
   "name": "python",
   "nbconvert_exporter": "python",
   "pygments_lexer": "ipython2",
   "version": "2.7.6"
  }
 },
 "nbformat": 4,
 "nbformat_minor": 5
}
