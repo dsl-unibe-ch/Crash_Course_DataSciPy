{
 "cells": [
  {
   "cell_type": "markdown",
   "id": "4fb7c5927ca05c0",
   "metadata": {},
   "source": [
    "Main content is currently provided solely as interactive live discussion.\n",
    "We look at a few of more commonly used mathematical concepts in Data Science, such as vector spaces, probability & distributions, frequency domain, and differential calculus. Specifically, we look at those form the perspective of Data Science, and how they can be used in practice to and how we can think of them in a more intuitive way.\n",
    "\n",
    "This notebook is primarily for running the visualizations and the exercises."
   ]
  },
  {
   "cell_type": "markdown",
   "id": "39398260971ee98d",
   "metadata": {},
   "source": [
    "To keep track of the topics suggested for the discussion, in this notebook is also given this list of topics:\n",
    "\n",
    "- differential calculus:\n",
    "    - slope\n",
    "    - equilibrium - 4 types of zero\n",
    "    - how to calculate the slope in practice\n",
    "    - and how to use it"
   ]
  },
  {
   "cell_type": "markdown",
   "id": "f1c4383bbd23bc6a",
   "metadata": {},
   "source": [
    "# Interactive Demo"
   ]
  },
  {
   "cell_type": "code",
   "execution_count": 2,
   "id": "c1eb08f803940ef9",
   "metadata": {
    "ExecuteTime": {
     "end_time": "2025-08-11T12:23:05.109661Z",
     "start_time": "2025-08-11T12:23:03.020137Z"
    }
   },
   "outputs": [],
   "source": [
    "import numpy as np\n",
    "import matplotlib.pyplot as plt\n",
    "from matplotlib.widgets import Slider\n",
    "from IPython.display import display, HTML\n",
    "\n"
   ]
  },
  {
   "cell_type": "code",
   "execution_count": null,
   "id": "399c78b8684279e2",
   "metadata": {},
   "outputs": [],
   "source": []
  }
 ],
 "metadata": {
  "kernelspec": {
   "display_name": "Python 3",
   "language": "python",
   "name": "python3"
  },
  "language_info": {
   "codemirror_mode": {
    "name": "ipython",
    "version": 2
   },
   "file_extension": ".py",
   "mimetype": "text/x-python",
   "name": "python",
   "nbconvert_exporter": "python",
   "pygments_lexer": "ipython2",
   "version": "2.7.6"
  }
 },
 "nbformat": 4,
 "nbformat_minor": 5
}
