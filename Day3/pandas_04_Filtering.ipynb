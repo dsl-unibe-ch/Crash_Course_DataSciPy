{
 "cells": [
  {
   "cell_type": "markdown",
   "id": "9ab96e65",
   "metadata": {},
   "source": [
    "## Part 4: Filtering — Using Conditionals to Filter Rows and Columns"
   ]
  },
  {
   "cell_type": "markdown",
   "id": "b4afc7a1",
   "metadata": {},
   "source": [
    "### 1. Boolean masking"
   ]
  },
  {
   "cell_type": "markdown",
   "id": "9c339182",
   "metadata": {},
   "source": [
    "We start by creating a new small DataFrame with an extra person who shares a last name (`Jones`) so we can demonstrate filtering:"
   ]
  },
  {
   "cell_type": "code",
   "execution_count": null,
   "id": "038a6dc5",
   "metadata": {},
   "outputs": [],
   "source": [
    "import pandas as pd\n",
    "\n",
    "people = {\n",
    "    \"first\": [\"Alice\", \"Bob\", \"Carol\", \"Sarah\"],\n",
    "    \"last\": [\"Smith\", \"Jones\", \"Lee\", \"Jones\"],\n",
    "    \"email\": [\n",
    "        \"alice@example.com\",\n",
    "        \"bob@example.com\",\n",
    "        \"carol@example.com\",\n",
    "        \"sarah@example.com\",\n",
    "    ],\n",
    "    \"uid\": [\"AS100293\", \"BJ240806\", \"CL150510\", \"SJ251203\"],\n",
    "    \"year\": [1993, 2006, 2010, 2003],\n",
    "    \"age\": [32, 19, 15, 22],\n",
    "}\n",
    "df_small = pd.DataFrame(people)"
   ]
  },
  {
   "cell_type": "markdown",
   "id": "6a514594",
   "metadata": {},
   "source": [
    "#### Basic filter: single condition"
   ]
  },
  {
   "cell_type": "code",
   "execution_count": null,
   "id": "6300e5e5",
   "metadata": {},
   "outputs": [],
   "source": [
    "# Create a boolean Series where last name is \"Jones\"\n",
    "mask_jones = (df_small[\"last\"] == \"Jones\")\n",
    "print(mask_jones)  # True/False per row\n",
    "\n",
    "# Apply the mask to get only people with last name Jones\n",
    "print(\"People with last name Jones:\")\n",
    "df_small[mask_jones]"
   ]
  },
  {
   "cell_type": "code",
   "execution_count": null,
   "id": "0d60890a",
   "metadata": {},
   "outputs": [],
   "source": [
    "# You can also do it inline:\n",
    "df_small[df_small[\"last\"] == \"Jones\"]\n",
    "\n",
    "# Or with `.loc`:\n",
    "df_small.loc[df_small[\"last\"] == \"Jones\"]"
   ]
  },
  {
   "cell_type": "markdown",
   "id": "0d6e8a19",
   "metadata": {},
   "source": [
    "#### Combining conditions: AND / OR"
   ]
  },
  {
   "cell_type": "code",
   "execution_count": null,
   "id": "5dd4de5f",
   "metadata": {},
   "outputs": [],
   "source": [
    "# AND: last name Jones and first name Bob\n",
    "both_conditions = df_small[(df_small[\"last\"] == \"Jones\") & (df_small[\"first\"] == \"Bob\")]\n",
    "print(\"Last name Jones AND first name Bob:\")\n",
    "both_conditions"
   ]
  },
  {
   "cell_type": "code",
   "execution_count": null,
   "id": "f5e44f4d",
   "metadata": {},
   "outputs": [],
   "source": [
    "# OR: last name Jones OR year before 2010\n",
    "or_condition = df_small[(df_small[\"last\"] == \"Jones\") | (df_small[\"year\"] == 2010)]\n",
    "print(\"Last name Jones OR born before 2005:\")\n",
    "or_condition"
   ]
  },
  {
   "cell_type": "markdown",
   "id": "3aded49b",
   "metadata": {},
   "source": [
    "> **Important:** Use `&` for logical AND and `|` for OR, and always wrap each comparison in parentheses. Don’t use the Python `and`/`or` here, they don’t work elementwise on Series."
   ]
  },
  {
   "cell_type": "markdown",
   "id": "20c9c3d0",
   "metadata": {},
   "source": [
    "#### Negation"
   ]
  },
  {
   "cell_type": "code",
   "execution_count": null,
   "id": "127e9071",
   "metadata": {},
   "outputs": [],
   "source": [
    "# Opposite of last name Jones\n",
    "not_jones = df_small[~(df_small[\"last\"] == \"Jones\")]\n",
    "print(\"People whose last name is NOT Jones:\")\n",
    "not_jones"
   ]
  },
  {
   "cell_type": "markdown",
   "id": "c946889e",
   "metadata": {},
   "source": [
    "### 2. Filtering the big Stack Overflow survey DataFrame"
   ]
  },
  {
   "cell_type": "markdown",
   "id": "4f02edc2",
   "metadata": {},
   "source": [
    "Assume `df` is the main survey DataFrame already loaded (and, ideally, with `ResponseId` as index). We'll work with compensation and other fields."
   ]
  },
  {
   "cell_type": "markdown",
   "id": "0770a702",
   "metadata": {},
   "source": [
    "#### High salary filter"
   ]
  },
  {
   "cell_type": "code",
   "execution_count": null,
   "id": "9f9e33c8",
   "metadata": {},
   "outputs": [],
   "source": [
    "df = pd.read_csv(\"data/survey_results_public.csv\")"
   ]
  },
  {
   "cell_type": "code",
   "execution_count": null,
   "id": "63edc1cd",
   "metadata": {},
   "outputs": [],
   "source": [
    "# Filter respondents with total compensation greater than 70,000\n",
    "high_salary = df[\"CompTotal\"] > 70000\n",
    "\n",
    "print(\"High earners (CompTotal > 70000) with selected columns:\")\n",
    "df.loc[high_salary, [\"Country\", \"LanguageHaveWorkedWith\", \"CompTotal\"]]"
   ]
  },
  {
   "cell_type": "markdown",
   "id": "d310e2b4",
   "metadata": {},
   "source": [
    "#### Filtering by a list of countries"
   ]
  },
  {
   "cell_type": "code",
   "execution_count": null,
   "id": "6678972a",
   "metadata": {},
   "outputs": [],
   "source": [
    "countries_of_interest = [\"Switzerland\", \"United States of America\", \"Germany\", \"India\", \"Canada\"]\n",
    "\n",
    "print(f\"Respondents from {countries_of_interest}:\")\n",
    "country_mask = df[\"Country\"].isin(countries_of_interest)\n",
    "df.loc[country_mask, \"Country\"]"
   ]
  },
  {
   "cell_type": "markdown",
   "id": "8834f155",
   "metadata": {},
   "source": [
    "You can combine filters, for example high salary **and** specific countries:"
   ]
  },
  {
   "cell_type": "code",
   "execution_count": null,
   "id": "ca9f2d43",
   "metadata": {},
   "outputs": [],
   "source": [
    "print(\"High earners in selected countries:\")\n",
    "df.loc[high_salary & country_mask, [\"Country\", \"LanguageHaveWorkedWith\", \"CompTotal\"]]"
   ]
  },
  {
   "cell_type": "markdown",
   "id": "8742bfa5",
   "metadata": {},
   "source": [
    "### 3. String-based filtering"
   ]
  },
  {
   "cell_type": "markdown",
   "id": "a8c3f710",
   "metadata": {},
   "source": [
    "Many columns (e.g., languages worked with) are stored as semicolon-separated strings. You cannot use `==` to check membership; use `.str.contains`. Handle missing values safely."
   ]
  },
  {
   "cell_type": "code",
   "execution_count": null,
   "id": "fafb368e",
   "metadata": {},
   "outputs": [],
   "source": [
    "# First, create a mask for knowing Python; protect against NaNs by using na=False\n",
    "knows_python = df[\"LanguageHaveWorkedWith\"].str.contains(\"Python\", na=False)\n",
    "\n",
    "# Show some respondents who know Python\n",
    "print(\"Respondents who use Python:\")\n",
    "df.loc[knows_python, \"LanguageHaveWorkedWith\"]"
   ]
  },
  {
   "cell_type": "markdown",
   "id": "ac5e072d",
   "metadata": {},
   "source": [
    "### Exercises for Part 4"
   ]
  },
  {
   "cell_type": "markdown",
   "id": "3aa8b885",
   "metadata": {},
   "source": [
    "1. **Excercise 1:**\n",
    "    - Filter all respondents in the 35–54 range using the `\"Age\"` column. \n",
    "    - Report how many respondents are in that age range.  \n",
    "    - Filter by people in the 35–54 range and from  **Switzerland**.\n",
    "\n",
    "2. **Excercise 2:**\n",
    "    - Filter for people that have worked with the Python language but now with the Java language"
   ]
  },
  {
   "cell_type": "markdown",
   "id": "f54425be",
   "metadata": {},
   "source": [
    "#### Solutions"
   ]
  },
  {
   "cell_type": "code",
   "execution_count": null,
   "id": "e6e9c133",
   "metadata": {},
   "outputs": [],
   "source": [
    "# Exercise 1\n",
    "\n",
    "# Filter respondents whose Age label falls in 35–54 (i.e., \"35-44\" or \"45-54\")\n",
    "age_mask = df[\"Age\"].str.contains(\"35-44\", na=False) | df[\"Age\"].str.contains(\"45-54\", na=False)\n",
    "# or\n",
    "age_mask = df[\"Age\"].str.contains(\"35-44|45-54\", na=False)\n",
    "df.loc[age_mask, \"Age\"]"
   ]
  },
  {
   "cell_type": "code",
   "execution_count": null,
   "id": "c9875c2b",
   "metadata": {},
   "outputs": [],
   "source": [
    "# Further restrict to those in Switzerland\n",
    "df.loc[age_mask & (df[\"Country\"] == \"Switzerland\"), [\"ResponseId\", \"Age\", \"Country\"]]"
   ]
  },
  {
   "cell_type": "code",
   "execution_count": null,
   "id": "004fed8f",
   "metadata": {},
   "outputs": [],
   "source": [
    "# Exercise 2\n",
    "\n",
    "# Mask: has worked with Python\n",
    "worked_python = df[\"LanguageHaveWorkedWith\"].str.contains(\"Python\", na=False)\n",
    "\n",
    "# Mask: has not worked with Java\n",
    "not_worked_java = ~df[\"LanguageHaveWorkedWith\"].str.contains(\"Java\", na=False)\n",
    "\n",
    "# Combined filter\n",
    "df.loc[worked_python & not_worked_java, ['ResponseId', 'LanguageHaveWorkedWith']]"
   ]
  },
  {
   "cell_type": "code",
   "execution_count": null,
   "id": "94bf6c48",
   "metadata": {},
   "outputs": [],
   "source": [
    "# Both languages present in the semicolon-delimited worked-with field\n",
    "worked_both = (\n",
    "    df[\"LanguageHaveWorkedWith\"].str.contains(\"Python\", na=False)\n",
    "    & df[\"LanguageHaveWorkedWith\"].str.contains(\"Java\", na=False)\n",
    ")\n",
    "df.loc[worked_both, ['ResponseId', 'LanguageHaveWorkedWith']]"
   ]
  }
 ],
 "metadata": {
  "kernelspec": {
   "display_name": "sam",
   "language": "python",
   "name": "python3"
  },
  "language_info": {
   "codemirror_mode": {
    "name": "ipython",
    "version": 3
   },
   "file_extension": ".py",
   "mimetype": "text/x-python",
   "name": "python",
   "nbconvert_exporter": "python",
   "pygments_lexer": "ipython3",
   "version": "3.10.0"
  }
 },
 "nbformat": 4,
 "nbformat_minor": 5
}
