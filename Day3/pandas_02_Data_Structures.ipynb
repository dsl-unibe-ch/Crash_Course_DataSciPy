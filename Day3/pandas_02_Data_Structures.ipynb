{
 "cells": [
  {
   "cell_type": "markdown",
   "id": "dca863a9",
   "metadata": {},
   "source": [
    "## Part 2: Basic Data Structures, Series, and Selections"
   ]
  },
  {
   "cell_type": "markdown",
   "id": "0be2a25e",
   "metadata": {},
   "source": [
    "### 1. Motivation: Without Pandas"
   ]
  },
  {
   "cell_type": "markdown",
   "id": "fb41ae3a",
   "metadata": {},
   "source": [
    "In pure Python, a common way to represent tabular data is using dictionaries:  \n",
    "- Keys are column names.  \n",
    "- Values are lists (rows) or nested dictionaries.\n",
    "\n",
    "Example: build a small `people` collection with `first`, `last`, `email`."
   ]
  },
  {
   "cell_type": "code",
   "execution_count": null,
   "id": "8325526c",
   "metadata": {},
   "outputs": [],
   "source": [
    "people = {\n",
    "    \"first\": [\"Alice\", \"Bob\", \"Carol\"],\n",
    "    \"last\": [\"Smith\", \"Jones\", \"Lee\"],\n",
    "    \"email\": [\"alice@example.com\", \"bob@example.com\", \"carol@example.com\"],\n",
    "}"
   ]
  },
  {
   "cell_type": "markdown",
   "id": "fecc4047",
   "metadata": {},
   "source": [
    "This works, but lacks convenient vectorized operations, alignment, and metadata."
   ]
  },
  {
   "cell_type": "markdown",
   "id": "574fb860",
   "metadata": {},
   "source": [
    "### 2. Converting Dict to DataFrame"
   ]
  },
  {
   "cell_type": "code",
   "execution_count": null,
   "id": "d2470699",
   "metadata": {},
   "outputs": [],
   "source": [
    "import pandas as pd\n",
    "\n",
    "df_small = pd.DataFrame(people)\n",
    "df_small"
   ]
  },
  {
   "cell_type": "markdown",
   "id": "304c81eb",
   "metadata": {},
   "source": [
    "* Columns correspond to keys.\n",
    "* Rows are inferred from aligned list lengths."
   ]
  },
  {
   "cell_type": "code",
   "execution_count": null,
   "id": "94846dce",
   "metadata": {},
   "outputs": [],
   "source": [
    "# Similar behaviour for numpy arrays\n",
    "import numpy as np\n",
    "\n",
    "data = np.array([[10, 2, 1993], [24, 8, 2006], [15, 5, 1810]])\n",
    "df_array = pd.DataFrame(data, columns=['day', 'month', 'year'])\n",
    "df_array"
   ]
  },
  {
   "cell_type": "markdown",
   "id": "cab7ba4c",
   "metadata": {},
   "source": [
    "### 3. Series and Column Access"
   ]
  },
  {
   "cell_type": "code",
   "execution_count": null,
   "id": "2bc81ded",
   "metadata": {},
   "outputs": [],
   "source": [
    "# Single column access returns a Series\n",
    "df_small['email']\n",
    "df_small.email  # shorthand, but can conflict"
   ]
  },
  {
   "cell_type": "markdown",
   "id": "cb2ca901",
   "metadata": {},
   "source": [
    "> **Caveat**: attribute access can break if column name clashes with existing DataFrame methods/attributes or if column name has spaces, punctuation, etc.\n",
    "\n",
    "*`df['email']` is unambiguous; `df.email` is syntactic sugar that fails if the column is named e.g. `count` or contains characters not valid as Python identifiers.* ([pandas.pydata.org][6]) (general practice, common in Pandas docs)\n",
    "\n",
    "---\n",
    "\n",
    "[6]: https://pandas.pydata.org/docs/dev/whatsnew/v2.3.0.html?utm_source=chatgpt.com \"What's new in 2.3.0 (June 4, 2025) - Pandas\""
   ]
  },
  {
   "cell_type": "markdown",
   "id": "29184117",
   "metadata": {},
   "source": [
    "### 4. Selecting Multiple Columns and Inspecting Available Columns"
   ]
  },
  {
   "cell_type": "code",
   "execution_count": null,
   "id": "2e1804f4",
   "metadata": {},
   "outputs": [],
   "source": [
    "# Suppose we want first + email only\n",
    "df_small[['first', 'email']]"
   ]
  },
  {
   "cell_type": "code",
   "execution_count": null,
   "id": "bb572478",
   "metadata": {},
   "outputs": [],
   "source": [
    "# List all columns in a DataFrame\n",
    "df_small.columns"
   ]
  },
  {
   "cell_type": "markdown",
   "id": "95518868",
   "metadata": {},
   "source": [
    "### 5. Indexing with `loc` and `iloc` (on the small df)"
   ]
  },
  {
   "cell_type": "code",
   "execution_count": null,
   "id": "b40ef7d0",
   "metadata": {},
   "outputs": [],
   "source": [
    "# .loc uses labels\n",
    "df_small.loc[0]                             # first row by label"
   ]
  },
  {
   "cell_type": "code",
   "execution_count": null,
   "id": "38f34550",
   "metadata": {},
   "outputs": [],
   "source": [
    "df_small.loc[0, 'email']                    # scalar"
   ]
  },
  {
   "cell_type": "code",
   "execution_count": null,
   "id": "d3f8eb49",
   "metadata": {},
   "outputs": [],
   "source": [
    "df_small.loc[[0, 1], ['first', 'email']]    # multiple rows and columns"
   ]
  },
  {
   "cell_type": "code",
   "execution_count": null,
   "id": "33cd4119",
   "metadata": {},
   "outputs": [],
   "source": [
    "# .iloc uses integer positions\n",
    "df_small.iloc[0]         # first row"
   ]
  },
  {
   "cell_type": "code",
   "execution_count": null,
   "id": "8234be74",
   "metadata": {},
   "outputs": [],
   "source": [
    "df_small.iloc[0, 2]      # first row, third column (email)"
   ]
  },
  {
   "cell_type": "markdown",
   "id": "476cb298",
   "metadata": {},
   "source": [
    "### 6. Return to the Big Survey Data"
   ]
  },
  {
   "cell_type": "code",
   "execution_count": null,
   "id": "0c16c10c",
   "metadata": {},
   "outputs": [],
   "source": [
    "# Load the data from a CSV file\n",
    "df = pd.read_csv('data\\survey_results_public.csv')"
   ]
  },
  {
   "cell_type": "code",
   "execution_count": null,
   "id": "a08e6c95",
   "metadata": {},
   "outputs": [],
   "source": [
    "# Re-check shape\n",
    "df.shape"
   ]
  },
  {
   "cell_type": "markdown",
   "id": "84a453f5",
   "metadata": {},
   "source": [
    "Example: explore a column (e.g., \"Employment\") \\\n",
    "NOTE: column names are case-sensitive and must match exactly what the schema shows. \\\n",
    "If the column is \"Employment\", we can do:"
   ]
  },
  {
   "cell_type": "code",
   "execution_count": null,
   "id": "3ea5013a",
   "metadata": {},
   "outputs": [],
   "source": [
    "df.loc[0]                                 # first respondent"
   ]
  },
  {
   "cell_type": "code",
   "execution_count": null,
   "id": "ce794e41",
   "metadata": {},
   "outputs": [],
   "source": [
    "df.loc[0, 'Employment']                   # their answer to Employment"
   ]
  },
  {
   "cell_type": "code",
   "execution_count": null,
   "id": "f6aa9aab",
   "metadata": {},
   "outputs": [],
   "source": [
    "df.loc[[0, 1, 2], 'Employment']           # first three respondents' Employment"
   ]
  },
  {
   "cell_type": "code",
   "execution_count": null,
   "id": "d88f3fa5",
   "metadata": {},
   "outputs": [],
   "source": [
    "df.loc[0:2, 'Employment']                 # slicing; inclusive of 2"
   ]
  },
  {
   "cell_type": "code",
   "execution_count": null,
   "id": "52c86f31",
   "metadata": {},
   "outputs": [],
   "source": [
    "df.loc[0:2, 'Employment':'EdLevel']       # column range selection, inclusive"
   ]
  },
  {
   "cell_type": "markdown",
   "id": "12794e16",
   "metadata": {},
   "source": [
    "> *`.loc[0:2]` is label slicing and **inclusive** of the end; this trips people coming from Python list slicing.* ([pandas.pydata.org][7])\n",
    "\n",
    "---\n",
    "\n",
    "[7]: https://pandas.pydata.org/docs/whatsnew/index.html \"Release notes — pandas 2.3.1 documentation - PyData |\""
   ]
  },
  {
   "cell_type": "markdown",
   "id": "ca5c162f",
   "metadata": {},
   "source": [
    "### Exercise for Part 2"
   ]
  },
  {
   "cell_type": "markdown",
   "id": "3736f78c",
   "metadata": {},
   "source": [
    "In the small df:\n",
    "- Modify the dictionary to add a column `uid` containing a unique identifier for that person, in the form of: **FLDDMMYY**\n",
    "    - **F**: First letter of the first name\n",
    "    - **L**: First letter of the last name\n",
    "    - **DD**: day of birth\n",
    "    - **MM**: month of birth\n",
    "    - **YY**: year of birth\n",
    "\n",
    "(You can use the dates from the numpy array in section 2)\n",
    "\n",
    "In the big survey DataFrame:\n",
    "- Retrieve the rows 10 through 15 and print their `Employment` through `EdLevel` columns (adjust column names if necessary using schema).\n",
    "- Print the last 10 answers from the last column.\n",
    "- Print 5 answers from the exact middle of the dataframe. \n",
    "- (Optional) Count how many respondents answered \"Yes\" when asked if they currently use AI tools in their development process (`AISelect` column).  "
   ]
  },
  {
   "cell_type": "markdown",
   "id": "2568f75c",
   "metadata": {},
   "source": [
    "#### Solution"
   ]
  },
  {
   "cell_type": "code",
   "execution_count": null,
   "id": "82907202",
   "metadata": {},
   "outputs": [],
   "source": [
    "# Modified dict\n",
    "people = {\n",
    "    \"first\": [\"Alice\", \"Bob\", \"Carol\"],\n",
    "    \"last\": [\"Smith\", \"Jones\", \"Lee\"],\n",
    "    \"email\": [\"alice@example.com\", \"bob@example.com\", \"carol@example.com\"],\n",
    "    \"uid\": [\"AS100293\", \"BJ240806\", \"CL150510\"]\n",
    "}\n",
    "\n",
    "# Build DataFrame\n",
    "df_small = pd.DataFrame(people)\n",
    "df_small"
   ]
  },
  {
   "cell_type": "code",
   "execution_count": null,
   "id": "a52b2627",
   "metadata": {},
   "outputs": [],
   "source": [
    "# 1. Rows 10 through 15, columns \"Employment\" through \"EdLevel\" (inclusive)\n",
    "subset_10_15 = df.loc[10:15, \"Employment\":\"EdLevel\"]\n",
    "print(\"Rows 10–15, columns Employment through EdLevel:\")\n",
    "subset_10_15"
   ]
  },
  {
   "cell_type": "code",
   "execution_count": null,
   "id": "2ed39557",
   "metadata": {},
   "outputs": [],
   "source": [
    "# 2. Last 10 answers from the last column\n",
    "df.iloc[65426:65436, 113]   # last column using iloc\n",
    "df.loc[65426:, 'JobSat']    # last column using loc\n",
    "df['JobSat'].tail(10)       # last column using column name"
   ]
  },
  {
   "cell_type": "code",
   "execution_count": null,
   "id": "91fbd493",
   "metadata": {},
   "outputs": [],
   "source": [
    "# 3. Five answers from the exact middle of the DataFrame\n",
    "n_rows = df.shape[0]\n",
    "# Compute center index; if even, take the \"middle\" lower bound\n",
    "center = n_rows // 2\n",
    "# We want 5 rows centered on center: two before, center, two after\n",
    "start = max(center - 2, 0)\n",
    "end = start + 5  # slice is inclusive via .iloc-like logic; with .iloc we do start:end\n",
    "middle_five = df.iloc[start:end]\n",
    "print(f\"\\n5 rows from the middle of the DataFrame (rows {start} to {end-1}):\")\n",
    "print(middle_five)"
   ]
  },
  {
   "cell_type": "code",
   "execution_count": null,
   "id": "4dd7b308",
   "metadata": {},
   "outputs": [],
   "source": [
    "# 4. (Optional) Count how many respondents answered \"Yes\" when asked if they are currently using AI tools in their development process\n",
    "(df[\"AISelect\"] == \"Yes\").sum()"
   ]
  }
 ],
 "metadata": {
  "kernelspec": {
   "display_name": "sam",
   "language": "python",
   "name": "python3"
  },
  "language_info": {
   "codemirror_mode": {
    "name": "ipython",
    "version": 3
   },
   "file_extension": ".py",
   "mimetype": "text/x-python",
   "name": "python",
   "nbconvert_exporter": "python",
   "pygments_lexer": "ipython3",
   "version": "3.10.0"
  }
 },
 "nbformat": 4,
 "nbformat_minor": 5
}
