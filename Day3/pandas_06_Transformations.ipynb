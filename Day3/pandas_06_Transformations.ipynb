{
 "cells": [
  {
   "cell_type": "markdown",
   "id": "f9a77d1b",
   "metadata": {},
   "source": [
    "## Part 6: Transforming Data"
   ]
  },
  {
   "cell_type": "markdown",
   "id": "1a3f2e09",
   "metadata": {},
   "source": [
    "In this section we'll see two data transformation techinques:\n",
    "- Sorting lets you order your data to highlight top values, see trends, or restore a logical sequence.\n",
    "- Most real-world analysis centers on **grouping** observations and computing **aggregate** statistics (mean, median, counts, etc.) rather than peeking at individual rows."
   ]
  },
  {
   "cell_type": "markdown",
   "id": "698f58a1",
   "metadata": {},
   "source": [
    "### 1. Sorting (small DataFrame)"
   ]
  },
  {
   "cell_type": "code",
   "execution_count": null,
   "id": "67938750",
   "metadata": {},
   "outputs": [],
   "source": [
    "import pandas as pd\n",
    "\n",
    "people = {\n",
    "    \"first\": [\"Alice\", \"Bob\", \"Carol\", \"Sarah\", \"Tony\"],\n",
    "    \"last\": [\"Smith\", \"Jones\", \"Lee\", \"Jones\", \"Stark\"],\n",
    "    \"email\": [\n",
    "        \"alice@example.com\",\n",
    "        \"bob@example.com\",\n",
    "        \"carol@example.com\",\n",
    "        \"sarah@example.com\",\n",
    "        \"tony@example.com\"\n",
    "    ],\n",
    "    \"uid\": [\"AS100293\", \"BJ240806\", \"CL150510\", \"SJ251203\", \"TS010100\"],\n",
    "    \"year\": [1993, 2006, 2010, 2003, 2000],\n",
    "    \"age\": [32, 19, 15, 22, 25],\n",
    "}\n",
    "df_small = pd.DataFrame(people)"
   ]
  },
  {
   "cell_type": "code",
   "execution_count": null,
   "id": "1287e86f",
   "metadata": {},
   "outputs": [],
   "source": [
    "# 1a. Sort by a single column (year ascending by default)\n",
    "df_small = df_small.sort_values(by=\"year\")\n",
    "print(\"Sorted by year (oldest → youngest):\")\n",
    "df_small"
   ]
  },
  {
   "cell_type": "code",
   "execution_count": null,
   "id": "ba2e11cb",
   "metadata": {},
   "outputs": [],
   "source": [
    "# 1b. Sort descending\n",
    "df_small = df_small.sort_values(by=\"year\", ascending=False)\n",
    "print(\"\\nSorted by year descending (youngest → oldest):\")\n",
    "df_small"
   ]
  },
  {
   "cell_type": "code",
   "execution_count": null,
   "id": "54e0fa14",
   "metadata": {},
   "outputs": [],
   "source": [
    "# 1c. Sort by last name descending, then year ascending\n",
    "df_small = df_small.sort_values(\n",
    "    by=[\"last\", \"year\"],\n",
    "    ascending=[False, True]\n",
    ")\n",
    "print(\"\\nSorted by last ↓, then year ↑:\")\n",
    "df_small"
   ]
  },
  {
   "cell_type": "code",
   "execution_count": null,
   "id": "7a570b7f",
   "metadata": {},
   "outputs": [],
   "source": [
    "# 1d. Restore the original index order\n",
    "df_small = df_small.sort_index()\n",
    "print(\"\\nRestored original index with sort_index():\")\n",
    "df_small"
   ]
  },
  {
   "cell_type": "code",
   "execution_count": null,
   "id": "c957c421",
   "metadata": {},
   "outputs": [],
   "source": [
    "# 1e. Sorting a Series\n",
    "print(\"\\nYear series sorted:\")\n",
    "df_small[\"year\"].sort_values()"
   ]
  },
  {
   "cell_type": "markdown",
   "id": "2b1efcc4",
   "metadata": {},
   "source": [
    "### 2. Sorting (big DataFrame)"
   ]
  },
  {
   "cell_type": "code",
   "execution_count": null,
   "id": "6a01954e",
   "metadata": {},
   "outputs": [],
   "source": [
    "df = pd.read_csv(\"data/survey_results_public.csv\")\n",
    "schema_df = pd.read_csv(\"data/survey_results_schema.csv\", index_col=\"qname\")"
   ]
  },
  {
   "cell_type": "code",
   "execution_count": null,
   "id": "5c96440c",
   "metadata": {},
   "outputs": [],
   "source": [
    "# 2a. Sort by Country alphabetically\n",
    "df = df.sort_values(by=\"Country\")\n",
    "print(\"First 50 respondents sorted by Country:\")\n",
    "df.head(50)"
   ]
  },
  {
   "cell_type": "code",
   "execution_count": null,
   "id": "51560373",
   "metadata": {},
   "outputs": [],
   "source": [
    "# 2b. Sort by Country then by CompTotal (low → high)\n",
    "df = df.sort_values(by=[\"Country\", \"CompTotal\"])\n",
    "print(\"\\nSample sorted by Country then CompTotal:\")\n",
    "df.head(10)"
   ]
  },
  {
   "cell_type": "code",
   "execution_count": null,
   "id": "c149cf4b",
   "metadata": {},
   "outputs": [],
   "source": [
    "# 2c. Top 10 highest salaries\n",
    "top10_CompTotal = df.nlargest(10, \"CompTotal\")\n",
    "print(\"\\nTop 10 salaries:\")\n",
    "top10_CompTotal[[\"Country\", \"CompTotal\"]]"
   ]
  },
  {
   "cell_type": "code",
   "execution_count": null,
   "id": "c042767d",
   "metadata": {},
   "outputs": [],
   "source": [
    "# 2d. Bottom 10 lowest salaries\n",
    "bottom10_CompTotal = df.nsmallest(10, \"CompTotal\")\n",
    "print(\"\\nBottom 10 salaries:\")\n",
    "bottom10_CompTotal[[\"Country\", \"CompTotal\"]]"
   ]
  },
  {
   "cell_type": "markdown",
   "id": "46572d62",
   "metadata": {},
   "source": [
    "### 3. Basic aggregation on one column"
   ]
  },
  {
   "cell_type": "code",
   "execution_count": null,
   "id": "15c78058",
   "metadata": {},
   "outputs": [],
   "source": [
    "# Median salary across all respondents\n",
    "print(\"Global median salary:\", df[\"CompTotal\"].median())\n",
    "\n",
    "# What if you call df.median()?\n",
    "print(\"\\nAll numeric-column medians:\")\n",
    "df.median(numeric_only=True)"
   ]
  },
  {
   "cell_type": "markdown",
   "id": "c9d80f43",
   "metadata": {},
   "source": [
    "> **Note:** `.median()` ignores NaNs.  Calling `df.median(numeric_only=True)` returns a Series of medians for every numeric column."
   ]
  },
  {
   "cell_type": "markdown",
   "id": "f87c4647",
   "metadata": {},
   "source": [
    "### 4. Quick summary with `.describe()`"
   ]
  },
  {
   "cell_type": "code",
   "execution_count": null,
   "id": "0aded87e",
   "metadata": {},
   "outputs": [],
   "source": [
    "# Quick summary with `.describe()` on the entire DataFrame\n",
    "df.describe()"
   ]
  },
  {
   "cell_type": "code",
   "execution_count": null,
   "id": "3337806d",
   "metadata": {},
   "outputs": [],
   "source": [
    "# Quick summary of the \"Salary\" column\n",
    "df[\"CompTotal\"].describe()"
   ]
  },
  {
   "cell_type": "markdown",
   "id": "6312a49c",
   "metadata": {},
   "source": [
    "* **count**: number of non‐missing values\n",
    "* **mean**: average (sensitive to outliers)\n",
    "* **50%** quantile = **median**\n",
    "* **std**, **min**, **max**, and other percentiles"
   ]
  },
  {
   "cell_type": "code",
   "execution_count": null,
   "id": "ab958dd1",
   "metadata": {},
   "outputs": [],
   "source": [
    "# Compare count vs. value_counts\n",
    "print(\"Non-null Salary count:\", df[\"CompTotal\"].count())\n",
    "print(\"Value counts of a categorical column (e.g. Age):\")\n",
    "print(df[\"Age\"].value_counts().head())\n",
    "\n",
    "# Example: AISelect usage\n",
    "print(\"\\nAISelect question (code lookup):\")\n",
    "print(schema_df.loc[\"AISelect\", \"question\"])\n",
    "\n",
    "print(\"\\nResponse counts for AISelect:\")\n",
    "print(df[\"AISelect\"].value_counts(dropna=False))\n",
    "\n",
    "print(\"\\nRelative frequencies of AISelect:\")\n",
    "print(df[\"AISelect\"].value_counts(normalize=True).head())"
   ]
  },
  {
   "cell_type": "markdown",
   "id": "e9bec922",
   "metadata": {},
   "source": [
    "### 5. GroupBy by country"
   ]
  },
  {
   "cell_type": "code",
   "execution_count": null,
   "id": "979dcf40",
   "metadata": {},
   "outputs": [],
   "source": [
    "# Quick alternative to get country counts:\n",
    "df[\"Country\"].value_counts().head()"
   ]
  },
  {
   "cell_type": "code",
   "execution_count": null,
   "id": "cfbf7901",
   "metadata": {},
   "outputs": [],
   "source": [
    "# The GroupBy object\n",
    "country_grp = df.groupby(\"Country\")\n",
    "\n",
    "# You can pull out a single country’s subframe:\n",
    "swiss = country_grp.get_group(\"Switzerland\")\n",
    "print(\"\\nFirst rows for Switzerland:\")\n",
    "swiss.head(3)"
   ]
  },
  {
   "cell_type": "code",
   "execution_count": null,
   "id": "97f3b6ed",
   "metadata": {},
   "outputs": [],
   "source": [
    "# This is equivalent to a mask:\n",
    "mask = df[\"Country\"] == \"Switzerland\"\n",
    "print(\"\\nSame via boolean mask:\")\n",
    "df.loc[mask].head(3)"
   ]
  },
  {
   "cell_type": "markdown",
   "id": "d3e51fab",
   "metadata": {},
   "source": [
    "### 6. Aggregating within groups"
   ]
  },
  {
   "cell_type": "markdown",
   "id": "e7dd2971",
   "metadata": {},
   "source": [
    "#### 6.1 Value counts of AISelect by country"
   ]
  },
  {
   "cell_type": "code",
   "execution_count": null,
   "id": "2146c263",
   "metadata": {},
   "outputs": [],
   "source": [
    "# AISelect counts per country (multi‐indexed Series)\n",
    "ai_by_ctry = country_grp[\"AISelect\"].value_counts()\n",
    "ai_by_ctry.head(10)"
   ]
  },
  {
   "cell_type": "code",
   "execution_count": null,
   "id": "41e9bb44",
   "metadata": {},
   "outputs": [],
   "source": [
    "# To select Switzerland’s AISelect breakdown:\n",
    "print(\"\\nAISelect counts in Switzerland:\")\n",
    "ai_by_ctry.loc[\"Switzerland\"]"
   ]
  },
  {
   "cell_type": "markdown",
   "id": "4acf8ee2",
   "metadata": {},
   "source": [
    "#### 6.2 Median salary per country"
   ]
  },
  {
   "cell_type": "code",
   "execution_count": null,
   "id": "88ae9086",
   "metadata": {},
   "outputs": [],
   "source": [
    "med_salary_by_ctry = country_grp[\"CompTotal\"].median()\n",
    "print(\"\\nMedian salary by country:\")\n",
    "print(med_salary_by_ctry.head(10))\n",
    "\n",
    "# Specific country:\n",
    "print(\"\\nSwitzerland median salary:\", med_salary_by_ctry.loc[\"Switzerland\"])"
   ]
  },
  {
   "cell_type": "markdown",
   "id": "bc6566b7",
   "metadata": {},
   "source": [
    "#### 6.3 Multiple aggregations with `.agg()`"
   ]
  },
  {
   "cell_type": "code",
   "execution_count": null,
   "id": "9317c51a",
   "metadata": {},
   "outputs": [],
   "source": [
    "# Compute both mean and median salary by country\n",
    "salary_stats = country_grp[\"CompTotal\"].agg([\"mean\", \"median\"]).sort_values(\"median\", ascending=False)\n",
    "print(\"\\nSalary mean & median by country:\")\n",
    "print(salary_stats.head(10))"
   ]
  },
  {
   "cell_type": "markdown",
   "id": "eff36098",
   "metadata": {},
   "source": [
    "#### 6.4 Grouping Gotcha: Summing Boolean Masks by Group"
   ]
  },
  {
   "cell_type": "code",
   "execution_count": null,
   "id": "4f7ea517",
   "metadata": {},
   "outputs": [],
   "source": [
    "# Mask for Python users in India\n",
    "filt = df[\"Country\"] == \"India\"\n",
    "df.loc[filt, \"LanguageHaveWorkedWith\"].str.contains(\"Python\", na=False)"
   ]
  },
  {
   "cell_type": "markdown",
   "id": "a712cec3",
   "metadata": {},
   "source": [
    "you get a Series of `True`/`False` for India, and can do:"
   ]
  },
  {
   "cell_type": "code",
   "execution_count": null,
   "id": "e2314f37",
   "metadata": {},
   "outputs": [],
   "source": [
    "(df.loc[filt, \"LanguageHaveWorkedWith\"].str.contains(\"Python\", na=False)).sum()"
   ]
  },
  {
   "cell_type": "markdown",
   "id": "5894ec24",
   "metadata": {},
   "source": [
    "to count them. But if you try directly on the `GroupBy`:"
   ]
  },
  {
   "cell_type": "code",
   "execution_count": null,
   "id": "d9c9ef68",
   "metadata": {},
   "outputs": [],
   "source": [
    "country_grp[\"LanguageWorkedWith\"].str.contains(\"Python\", na=False).sum() # IT RETURNS AN ERROR"
   ]
  },
  {
   "cell_type": "markdown",
   "id": "15707feb",
   "metadata": {},
   "source": [
    "you’ll get an `AttributeError`, because `country_grp[\"...\"]` is a grouped object, not a Series."
   ]
  },
  {
   "cell_type": "code",
   "execution_count": null,
   "id": "b719deb6",
   "metadata": {},
   "outputs": [],
   "source": [
    "country_grp[\"LanguageHaveWorkedWith\"].apply(lambda s: s.str.contains(\"Python\", na=False).sum())"
   ]
  },
  {
   "cell_type": "markdown",
   "id": "22027b2d",
   "metadata": {},
   "source": [
    "#### Together Exercises\n",
    "> **How to compute, for each country, the percentage of respondents who know Python?**"
   ]
  },
  {
   "cell_type": "code",
   "execution_count": null,
   "id": "4110e2fd",
   "metadata": {},
   "outputs": [],
   "source": [
    "# 1. Number of respondents per country\n",
    "country_respondents = df[\"Country\"].value_counts()  \n",
    "\n",
    "\n",
    "# 2. Number of Python users per country\n",
    "country_knows_python = country_grp[\"LanguageHaveWorkedWith\"].apply(lambda s: s.str.contains(\"Python\", na=False).sum())\n",
    "\n",
    "# 3. Combine into one DataFrame\n",
    "python_stats = pd.concat(\n",
    "      [country_respondents, country_knows_python],\n",
    "      axis=\"columns\",\n",
    "      sort=False,\n",
    ")\n",
    "python_stats.columns = [\"NumRespondents\", \"NumKnowsPython\"]\n",
    "\n",
    "# 4. Compute percentage\n",
    "python_stats[\"PctKnowsPython\"] = (\n",
    "      python_stats[\"NumKnowsPython\"] / python_stats[\"NumRespondents\"] * 100\n",
    ")\n",
    "\n",
    "# 5. Sort and display\n",
    "python_stats = python_stats.sort_values(\"PctKnowsPython\", ascending=False)\n",
    "python_stats[python_stats['NumRespondents'] > 10].head(20)"
   ]
  },
  {
   "cell_type": "markdown",
   "id": "fd6e03cf",
   "metadata": {},
   "source": [
    "or:"
   ]
  },
  {
   "cell_type": "code",
   "execution_count": null,
   "id": "998fb853",
   "metadata": {},
   "outputs": [],
   "source": [
    "country_grp['LanguageHaveWorkedWith'].apply( lambda x: x.str.contains('Python').sum() / len(x) * 100 )"
   ]
  },
  {
   "cell_type": "markdown",
   "id": "be60d164",
   "metadata": {},
   "source": [
    "### Exercises for Part 6"
   ]
  },
  {
   "cell_type": "markdown",
   "id": "e02ba619",
   "metadata": {},
   "source": [
    "#### Exercise 6.1\n",
    "- For each country in the list `[\"Switzerland\", \"Germany\", \"United States of America\", \"China\", \"France\", \"Italy\"]`, compute:\n",
    "  - The percentage of respondents that answered “Yes” to `AISelect`.\n",
    "  - The median `Salary`.\n",
    "- Present the results in a DataFrame with columns:  \n",
    "  `Country | PctAIUsers | AvgSalary`.\n",
    "\n",
    "#### Exercise 6.2\n",
    "1. **Step 1**\n",
    "   - Compute the **mean** and **median** `Salary` for each country.  \n",
    "   - Store the result in a DataFrame with columns: `Country | MeanSalary | MedianSalary | NRespondents`.\n",
    "2. **Step 2**  \n",
    "   - Restrict to the **top 10 countries by** `NRespondents`.  \n",
    "   - Reset the index so `Country` is a column.\n",
    "\n",
    "#### Exercise 6.3\n",
    "1. **Step 1**  \n",
    "   - Using the existing `\"Age\"` column (e.g. `\"25-34 years old\"`), group respondents by bracket.  \n",
    "   - For each bracket compute:\n",
    "     - `AvgSalary` (mean `Salary`),  \n",
    "     - `PctKnowsPython` (percentage who know Python, based on your boolean column).\n",
    "     - Create a DataFrame:  \n",
    "     ```\n",
    "     AgeBracket | AvgSalary | PctKnowsPython | NRespondents\n",
    "     ```\n",
    "2. **Step 2**  \n",
    "   - Count how many respondents fall into each `\"Age\"` bracket."
   ]
  },
  {
   "cell_type": "markdown",
   "id": "a204bd4d",
   "metadata": {},
   "source": [
    "#### Solutions"
   ]
  },
  {
   "cell_type": "code",
   "execution_count": null,
   "id": "abb547ff",
   "metadata": {},
   "outputs": [],
   "source": [
    "# Compute knows_Python:\n",
    "df[\"knows_Python\"] = df[\"Language\"].str.contains(\"Python\", na=False)\n",
    "\n",
    "### Exercise 6.1\n",
    "\n",
    "# 1. Subset to the three countries\n",
    "countries = [\"Switzerland\", \"Germany\", \"United States of America\", \"France\", \"Italy\"]\n",
    "sub = df[df[\"Country\"].isin(countries)]\n",
    "\n",
    "# 2. Group by Country\n",
    "grp = sub.groupby(\"Country\")\n",
    "\n",
    "# 3. Compute % of “Yes” in AISelect and average Salary\n",
    "pct_ai = grp[\"AISelect\"].apply(lambda s: (s.str.strip().str.lower() == \"yes\").mean() * 100)\n",
    "avg_sal = grp[\"Salary\"].median()\n",
    "\n",
    "# 4. Combine into a DataFrame\n",
    "sol6_1 = pd.concat([pct_ai, avg_sal], axis=1)\n",
    "sol6_1.columns = [\"PctAIUsers\", \"AvgSalary\"]\n",
    "\n",
    "sol6_1"
   ]
  },
  {
   "cell_type": "code",
   "execution_count": null,
   "id": "7d8dded1",
   "metadata": {},
   "outputs": [],
   "source": [
    "### Exercise 6.2\n",
    "\n",
    "# Step 1: aggregate Salary by country\n",
    "salary_stats = (\n",
    "    df.groupby(\"Country\")[\"Salary\"]\n",
    "      .agg([\"mean\", \"median\", \"count\"])#.agg(MeanSalary=\"mean\", MedianSalary=\"median\", NRespondents=\"count\")\n",
    ")\n",
    "\n",
    "# Step 2: restrict to top 10 by NRespondents and reset index\n",
    "top10 = (salary_stats.nlargest(10, \"count\").reset_index())\n",
    "top10 = top10.rename(columns={\"mean\": \"MeanSalary\", \"median\": \"MedianSalary\", \"count\": \"NRespondents\"})\n",
    "top10"
   ]
  },
  {
   "cell_type": "code",
   "execution_count": null,
   "id": "11354f42",
   "metadata": {},
   "outputs": [],
   "source": [
    "### Exercise 6.3\n",
    "age_grp = df.groupby(\"Age\")\n",
    "\n",
    "# 1. Median salary by age bracket\n",
    "median_salary = age_grp[\"Salary\"].median().rename(\"MedianSalary\")\n",
    "\n",
    "# 2. Number of Python users per bracket\n",
    "num_python = age_grp[\"knows_Python\"].sum().rename(\"NumKnowsPython\")\n",
    "\n",
    "# 3. Number of respondents per bracket\n",
    "n_respondents = age_grp[\"Age\"].count().rename(\"NRespondents\")\n",
    "\n",
    "# 4. Combine into one DataFrame\n",
    "age_stats = pd.concat(\n",
    "    [median_salary, num_python, n_respondents],\n",
    "    axis=1\n",
    ")\n",
    "\n",
    "age_stats"
   ]
  }
 ],
 "metadata": {
  "kernelspec": {
   "display_name": "sam",
   "language": "python",
   "name": "python3"
  },
  "language_info": {
   "codemirror_mode": {
    "name": "ipython",
    "version": 3
   },
   "file_extension": ".py",
   "mimetype": "text/x-python",
   "name": "python",
   "nbconvert_exporter": "python",
   "pygments_lexer": "ipython3",
   "version": "3.10.0"
  }
 },
 "nbformat": 4,
 "nbformat_minor": 5
}
