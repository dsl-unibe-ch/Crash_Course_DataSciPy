{
 "cells": [
  {
   "cell_type": "markdown",
   "id": "187d3e09",
   "metadata": {},
   "source": [
    "## Part 7: Cleaning Data & Casting"
   ]
  },
  {
   "cell_type": "markdown",
   "id": "192346cd",
   "metadata": {},
   "source": [
    "We'll create a small DataFrame that purposely contains **missing values** of different kinds:\n",
    "- Python `None`\n",
    "- `np.nan`\n",
    "- Custom placeholders: `\"NA\"` and `\"Missing\"`\n",
    "\n",
    "Then we’ll explore `dropna`, `replace`, `isna`, `fillna`, and type casting."
   ]
  },
  {
   "cell_type": "code",
   "execution_count": null,
   "id": "77076d6a",
   "metadata": {},
   "outputs": [],
   "source": [
    "import pandas as pd\n",
    "import numpy as np\n",
    "\n",
    "df_small = pd.DataFrame({\n",
    "    \"first\": [\"Alice\", \"Bob\", np.nan, \"Carol\", None],\n",
    "    \"last\": [\"Smith\", \"Jones\", None, \"Lee\", \"Jones\"],\n",
    "    \"email\": [\n",
    "        \"alice@example.com\",\n",
    "        np.nan,\n",
    "        None,\n",
    "        \"carol@example.com\",\n",
    "        \"Missing\",\n",
    "    ],\n",
    "    \"uid\": [\"AS100293\", \"BJ240806\", np.nan, \"NA\", \"SJ251203\"],\n",
    "    \"year\": [1993, 2006, None, np.nan, 2003],\n",
    "    \"age\": [32, 19, np.nan, None, 22],\n",
    "    # \"empty_col\": [np.nan, np.nan, np.nan, np.nan, np.nan],\n",
    "})\n",
    "df_small"
   ]
  },
  {
   "cell_type": "markdown",
   "id": "c468427a",
   "metadata": {},
   "source": [
    "### 1. Dropping missing values with `dropna`"
   ]
  },
  {
   "cell_type": "code",
   "execution_count": null,
   "id": "810d3977",
   "metadata": {},
   "outputs": [],
   "source": [
    "# Default: drop rows (axis='index') with ANY missing value\n",
    "df_any = df_small.dropna()\n",
    "df_any"
   ]
  },
  {
   "cell_type": "code",
   "execution_count": null,
   "id": "c382661b",
   "metadata": {},
   "outputs": [],
   "source": [
    "# Explicitly: rows with ANY missing\n",
    "df_any2 = df_small.dropna(axis=\"index\", how=\"any\")\n",
    "df_any2"
   ]
  },
  {
   "cell_type": "code",
   "execution_count": null,
   "id": "2bc77953",
   "metadata": {},
   "outputs": [],
   "source": [
    "# Rows with ALL values missing only\n",
    "df_allrows = df_small.dropna(axis=\"index\", how=\"all\")\n",
    "df_allrows"
   ]
  },
  {
   "cell_type": "code",
   "execution_count": null,
   "id": "7920dba5",
   "metadata": {},
   "outputs": [],
   "source": [
    "# Drop columns where ALL values are missing (our 'empty_col')\n",
    "df_drop_allcols = df_small.dropna(axis=\"columns\", how=\"all\")\n",
    "df_drop_allcols"
   ]
  },
  {
   "cell_type": "markdown",
   "id": "8c8c4b34",
   "metadata": {},
   "source": [
    "> ⚠️ If you do `dropna(axis=\"columns\", how=\"any\")` you’ll likely drop **almost every column** (because most real columns have at least one missing). That can leave you with an empty (or nearly empty) DataFrame."
   ]
  },
  {
   "cell_type": "code",
   "execution_count": null,
   "id": "72088276",
   "metadata": {},
   "outputs": [],
   "source": [
    "# Drop rows where a specific subset has missing values\n",
    "df_email_req = df_small.dropna(subset=[\"email\"])\n",
    "df_email_req"
   ]
  },
  {
   "cell_type": "code",
   "execution_count": null,
   "id": "a1a0fa75",
   "metadata": {},
   "outputs": [],
   "source": [
    "# Multiple required columns, drop only if ALL of the listed are missing\n",
    "df_uid_or_email_req = df_small.dropna(how=\"all\", subset=[\"uid\", \"email\"])\n",
    "df_uid_or_email_req"
   ]
  },
  {
   "cell_type": "markdown",
   "id": "bcd2a51f",
   "metadata": {},
   "source": [
    "### 2. Custom missing values → real NaNs"
   ]
  },
  {
   "cell_type": "code",
   "execution_count": null,
   "id": "82c9f7e7",
   "metadata": {},
   "outputs": [],
   "source": [
    "# Replace custom placeholders with real NaNs\n",
    "df_clean = df_small.replace({\"NA\": np.nan, \"Missing\": np.nan})\n",
    "df_clean"
   ]
  },
  {
   "cell_type": "code",
   "execution_count": null,
   "id": "fc3c61cd",
   "metadata": {},
   "outputs": [],
   "source": [
    "# Where are the NaNs now?\n",
    "df_clean.isna()"
   ]
  },
  {
   "cell_type": "markdown",
   "id": "bf2572c5",
   "metadata": {},
   "source": [
    "### 3. Filling missing values with `fillna`"
   ]
  },
  {
   "cell_type": "code",
   "execution_count": null,
   "id": "6c9f3afd",
   "metadata": {},
   "outputs": [],
   "source": [
    "# Example: fill missing strings with a flag\n",
    "df_filled_str = df_clean.fillna(\"MISSING\")\n",
    "df_filled_str"
   ]
  },
  {
   "cell_type": "code",
   "execution_count": null,
   "id": "3f76e56e",
   "metadata": {},
   "outputs": [],
   "source": [
    "# For numeric columns, a numeric fill is often more useful (e.g., 0 or -1)\n",
    "df_filled_num = df_clean.copy()\n",
    "df_filled_num[\"year\"] = df_filled_num[\"year\"].fillna(-1)\n",
    "df_filled_num"
   ]
  },
  {
   "cell_type": "markdown",
   "id": "85b82f2a",
   "metadata": {},
   "source": [
    "### 4. Dtypes and why `mean()` may fail"
   ]
  },
  {
   "cell_type": "code",
   "execution_count": null,
   "id": "56a762e8",
   "metadata": {},
   "outputs": [],
   "source": [
    "# Check dtypes (note: attribute, not a method)\n",
    "df_clean.dtypes"
   ]
  },
  {
   "cell_type": "code",
   "execution_count": null,
   "id": "a1f994e8",
   "metadata": {},
   "outputs": [],
   "source": [
    "# This will raise a TypeError because 'age' is still strings/NaN, not numbers:\n",
    "# df_clean[\"age\"].mean()"
   ]
  },
  {
   "cell_type": "markdown",
   "id": "73d89fc7",
   "metadata": {},
   "source": [
    "> `age` contains strings (e.g., `\"32\"`) and NaNs. You cannot compute a numeric mean on `object` dtype."
   ]
  },
  {
   "cell_type": "markdown",
   "id": "d5818d14",
   "metadata": {},
   "source": [
    "### 5. Casting to numeric"
   ]
  },
  {
   "cell_type": "markdown",
   "id": "bf5ba7b9",
   "metadata": {},
   "source": [
    "* Casting directly to `int` fails if there are NaNs.\n",
    "* Use `float` (or `to_numeric`) instead, then compute the mean."
   ]
  },
  {
   "cell_type": "code",
   "execution_count": null,
   "id": "1089ec0e",
   "metadata": {},
   "outputs": [],
   "source": [
    "# Safe numeric conversion\n",
    "df_clean[\"age_num\"] = pd.to_numeric(df_clean[\"age\"], errors=\"coerce\")  # strings -> numbers, others -> NaN\n",
    "df_clean.dtypes"
   ]
  },
  {
   "cell_type": "code",
   "execution_count": null,
   "id": "6ad74228",
   "metadata": {},
   "outputs": [],
   "source": [
    "# Fails: cannot cast NaNs to int directly\n",
    "# df_cast[\"age_num\"] = df_cast[\"age_num\"].astype(int)   # ValueError\n",
    "\n",
    "# Works: floats can hold NaN\n",
    "df_clean[\"age_num\"] = df_clean[\"age_num\"].astype(float)\n",
    "df_clean.dtypes"
   ]
  },
  {
   "cell_type": "code",
   "execution_count": null,
   "id": "0a16024c",
   "metadata": {},
   "outputs": [],
   "source": [
    "# Now you can compute numeric stats\n",
    "df_clean[\"age_num\"].mean()"
   ]
  },
  {
   "cell_type": "markdown",
   "id": "12fe3ebb",
   "metadata": {},
   "source": [
    "### 6. Handling custom missing values when reading CSVs"
   ]
  },
  {
   "cell_type": "markdown",
   "id": "e36aa3ff",
   "metadata": {},
   "source": [
    "Suppose we save the dataframe we created earlier with missing values to file:"
   ]
  },
  {
   "cell_type": "code",
   "execution_count": null,
   "id": "48607959",
   "metadata": {},
   "outputs": [],
   "source": [
    "df_small.to_csv(\"data/test_df.csv\", index=False)"
   ]
  },
  {
   "cell_type": "markdown",
   "id": "6626d804",
   "metadata": {},
   "source": [
    "You can normalize placeholders at load time:"
   ]
  },
  {
   "cell_type": "code",
   "execution_count": null,
   "id": "a2bd34e8",
   "metadata": {},
   "outputs": [],
   "source": [
    "na_vals = [\"NA\", \"Missing\"]\n",
    "df_loaded = pd.read_csv(\"data/test_df.csv\", na_values=na_vals)\n",
    "df_loaded"
   ]
  },
  {
   "cell_type": "markdown",
   "id": "239c4233",
   "metadata": {},
   "source": [
    "This will automatically treat those strings as `NaN` on import."
   ]
  },
  {
   "cell_type": "markdown",
   "id": "faff0294",
   "metadata": {},
   "source": [
    "### Exercises for Part 7"
   ]
  },
  {
   "cell_type": "markdown",
   "id": "426187c6",
   "metadata": {},
   "source": [
    "#### Exercise 7.1:\n",
    "1. For all columns in the big dataset, compute the **number** and **percentage** of missing values.\n",
    "2. Show the **top 10** columns by missingness."
   ]
  },
  {
   "cell_type": "markdown",
   "id": "266192a4",
   "metadata": {},
   "source": [
    "#### Exercise 7.2:\n",
    "1. Convert the `CompTotal` (salary) to numeric.\n",
    "2. Drop missing values.\n",
    "3. Filter all rows with a salary greater than 10 millions.\n",
    "4. Compute the mean.\n",
    "5. Create a copy with missing `CompTotal` filled by the global median.  \n",
    "6. Compute the mean salary on the filled copy and compare.\n",
    "7. Count how many salaries were missing before the fill.\n"
   ]
  },
  {
   "cell_type": "markdown",
   "id": "905cddc7",
   "metadata": {},
   "source": [
    "#### Solutions"
   ]
  },
  {
   "cell_type": "code",
   "execution_count": null,
   "id": "58ecc7f8",
   "metadata": {},
   "outputs": [],
   "source": [
    "df = pd.read_csv(\"data/survey_results_public.csv\")\n",
    "\n",
    "# Exercise 7.1\n",
    "\n",
    "n_rows = len(df)\n",
    "missing_counts = df.isna().sum()\n",
    "missing_pct = (missing_counts / n_rows) * 100\n",
    "\n",
    "missing_summary = (\n",
    "    pd.DataFrame({\"n_missing\": missing_counts, \"pct_missing\": missing_pct})\n",
    "    .sort_values(\"pct_missing\", ascending=False)\n",
    ")\n",
    "\n",
    "print(\"Top 10 columns by missingness:\")\n",
    "missing_summary.head(10)"
   ]
  },
  {
   "cell_type": "code",
   "execution_count": null,
   "id": "2d7b9824",
   "metadata": {},
   "outputs": [],
   "source": [
    "# Exercise 7.2\n",
    "\n",
    "df[\"Salary\"] = pd.to_numeric(df[\"CompTotal\"], errors=\"coerce\")\n",
    "df[\"Salary\"] = df[\"CompTotal\"].astype(float)\n",
    "\n",
    "# How many were missing?\n",
    "n_missing_before = df[\"Salary\"].isna().sum()\n",
    "n_total = len(df)\n",
    "\n",
    "# 2. mean salary with missing rows removed\n",
    "mean_drop = df[\"Salary\"].dropna().mean()\n",
    "\n",
    "# 3. fill missing with the GLOBAL median salary\n",
    "global_median = df[\"Salary\"].median()  # ignores NaN\n",
    "df_filled = df.copy()\n",
    "df_filled[\"Salary_filled\"] = df_filled[\"Salary\"].fillna(global_median)\n",
    "\n",
    "# 4. mean after fill\n",
    "mean_fill = df_filled[\"Salary_filled\"].mean()\n",
    "\n",
    "print(f\"Total rows: {n_total:,}\")\n",
    "print(f\"Missing Salary before fill: {n_missing_before:,}\")\n",
    "print(f\"Mean Salary (drop NAs): {mean_drop:,.2f}\")\n",
    "print(f\"Global median used for fill: {global_median:,.2f}\")\n",
    "print(f\"Mean Salary (global-median fill): {mean_fill:,.2f}\")\n",
    "\n",
    "print(\"We need to clean this column..\")"
   ]
  }
 ],
 "metadata": {
  "kernelspec": {
   "display_name": "sam",
   "language": "python",
   "name": "python3"
  },
  "language_info": {
   "codemirror_mode": {
    "name": "ipython",
    "version": 3
   },
   "file_extension": ".py",
   "mimetype": "text/x-python",
   "name": "python",
   "nbconvert_exporter": "python",
   "pygments_lexer": "ipython3",
   "version": "3.10.0"
  }
 },
 "nbformat": 4,
 "nbformat_minor": 5
}
