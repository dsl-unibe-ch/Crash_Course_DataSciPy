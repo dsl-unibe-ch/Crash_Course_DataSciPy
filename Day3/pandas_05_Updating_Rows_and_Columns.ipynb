{
 "cells": [
  {
   "cell_type": "markdown",
   "id": "1880f699",
   "metadata": {},
   "source": [
    "## Part 5: Updating Rows and Columns"
   ]
  },
  {
   "cell_type": "markdown",
   "id": "91422dfe",
   "metadata": {},
   "source": [
    "Changing labels and values is how we clean and enrich data. This section shows patterns for renaming, mass-updating, safe assignment, and applying transformations.\n",
    "\n",
    "---"
   ]
  },
  {
   "cell_type": "markdown",
   "id": "eea28e05",
   "metadata": {},
   "source": [
    "### 1. Renaming columns in `df_small`"
   ]
  },
  {
   "cell_type": "code",
   "execution_count": null,
   "id": "137697d8",
   "metadata": {},
   "outputs": [],
   "source": [
    "import pandas as pd\n",
    "\n",
    "people = {\n",
    "    \"first\": [\"Alice\", \"Bob\", \"Carol\", \"Sarah\"],\n",
    "    \"last\": [\"Smith\", \"Jones\", \"Lee\", \"Jones\"],\n",
    "    \"email\": [\n",
    "        \"alice@example.com\",\n",
    "        \"bob@example.com\",\n",
    "        \"carol@example.com\",\n",
    "        \"sarah@example.com\",\n",
    "    ],\n",
    "    \"uid\": [\"AS100293\", \"BJ240806\", \"CL150510\", \"SJ251203\"],\n",
    "    \"year\": [1993, 2006, 2010, 2003],\n",
    "    \"age\": [32, 19, 15, 22],\n",
    "}\n",
    "df_small = pd.DataFrame(people)"
   ]
  },
  {
   "cell_type": "code",
   "execution_count": null,
   "id": "acbd22ef",
   "metadata": {},
   "outputs": [],
   "source": [
    "# 1a. Directly replace all column names\n",
    "df_small.columns = [\"first_name\", \"last_name\", \"email_address\", \"id_code\", \"byear\", \"age_2025\"]\n",
    "print(\"After assigning new column list:\")\n",
    "print(df_small.columns)\n",
    "\n",
    "# 1b. Uppercase all column names via list comprehension\n",
    "df_small.columns = [col.upper() for col in df_small.columns]\n",
    "print(\"\\nAfter uppercasing column names:\")\n",
    "print(df_small.columns)\n",
    "\n",
    "# 1c. Modify names more flexibly: replace underscores with spaces (simulate if needed)\n",
    "# First set back to some with underscores to demo\n",
    "df_small.columns = [col.replace(\"_\", \" \") for col in df_small.columns]\n",
    "print(\"\\nAfter replacing underscores with spaces:\")\n",
    "print(df_small.columns)\n",
    "\n",
    "# 1d. Rename only some columns (partial) using .rename\n",
    "df_small = df_small.rename(columns={\"FIRST NAME\": \"first\", \"LAST NAME\": \"last\"})\n",
    "print(\"\\nAfter selective rename:\")\n",
    "print(df_small.columns)"
   ]
  },
  {
   "cell_type": "markdown",
   "id": "c594630b",
   "metadata": {},
   "source": [
    "---"
   ]
  },
  {
   "cell_type": "markdown",
   "id": "d68420f2",
   "metadata": {},
   "source": [
    "### 2. Updating row values safely"
   ]
  },
  {
   "cell_type": "code",
   "execution_count": null,
   "id": "4f800d86",
   "metadata": {},
   "outputs": [],
   "source": [
    "# Update entire row 1 (zero-based index) with new data using .loc\n",
    "df_small.loc[1] = [\"Robert\", \"Jones\", \"robert@example.com\", \"RJ010100\", 2000, 25]\n",
    "print(\"After replacing all of row 1:\")\n",
    "df_small"
   ]
  },
  {
   "cell_type": "code",
   "execution_count": null,
   "id": "ce7acdb1",
   "metadata": {},
   "outputs": [],
   "source": [
    "# Update only some columns in a row\n",
    "df_small.loc[2, [\"email\"]] = [\"carol.modified@example.com\"]\n",
    "print(\"\\nAfter updating only email for row 2:\")\n",
    "df_small"
   ]
  },
  {
   "cell_type": "code",
   "execution_count": null,
   "id": "34f51c70",
   "metadata": {},
   "outputs": [],
   "source": [
    "# Update a single value using .at\n",
    "df_small.at[0, \"last\"] = \"Smythe\"\n",
    "print(\"\\nAfter changing Alice's last name via .at:\")\n",
    "df_small"
   ]
  },
  {
   "cell_type": "markdown",
   "id": "92a49102",
   "metadata": {},
   "source": [
    "**Warning:**\n",
    "\n",
    "Avoid chained assignment like this (can produce `SettingWithCopyWarning` and unreliable behavior):"
   ]
  },
  {
   "cell_type": "code",
   "execution_count": null,
   "id": "bfaae4bd",
   "metadata": {},
   "outputs": [],
   "source": [
    "mask = df_small[\"last\"] == \"Jones\"\n",
    "# This is unsafe / may not persist:\n",
    "df_small[mask][\"last\"] = \"J.\""
   ]
  },
  {
   "cell_type": "markdown",
   "id": "825d1a81",
   "metadata": {},
   "source": [
    "Correct:"
   ]
  },
  {
   "cell_type": "code",
   "execution_count": null,
   "id": "e28e8411",
   "metadata": {},
   "outputs": [],
   "source": [
    "df_small.loc[mask, \"last\"] = \"J.\""
   ]
  },
  {
   "cell_type": "markdown",
   "id": "361c3c9f",
   "metadata": {},
   "source": [
    "### 3. String methods on Series"
   ]
  },
  {
   "cell_type": "code",
   "execution_count": null,
   "id": "85e25473",
   "metadata": {},
   "outputs": [],
   "source": [
    "# Uppercase/lowercase transformations safely\n",
    "df_small[\"email\"] = df_small[\"email\"].str.lower()  # vectorized lowercase\n",
    "print(\"\\nEmails after lowercasing:\")\n",
    "df_small[\"email\"]"
   ]
  },
  {
   "cell_type": "markdown",
   "id": "fbc6ec41",
   "metadata": {},
   "source": [
    "### 4. apply / applymap / map"
   ]
  },
  {
   "cell_type": "code",
   "execution_count": null,
   "id": "99443413",
   "metadata": {},
   "outputs": [],
   "source": [
    "# apply on a Series: length of each email\n",
    "email_lengths = df_small[\"email\"].apply(len)\n",
    "print(\"\\nLength of each email (Series.apply):\")\n",
    "email_lengths"
   ]
  },
  {
   "cell_type": "code",
   "execution_count": null,
   "id": "32da47c9",
   "metadata": {},
   "outputs": [],
   "source": [
    "# apply with a user-defined function\n",
    "def shout(email):\n",
    "    return email.upper()"
   ]
  },
  {
   "cell_type": "code",
   "execution_count": null,
   "id": "e6df5657",
   "metadata": {},
   "outputs": [],
   "source": [
    "print(\"\\nEmail shouted via apply:\")\n",
    "print(df_small[\"email\"].apply(shout))\n",
    "\n",
    "# with lambda\n",
    "print(\"\\nEmail first 5 chars using lambda:\")\n",
    "print(df_small[\"email\"].apply(lambda x: x[:5]))\n",
    "\n",
    "# Difference: df.apply(len) applies to each column (Series) -> gives number of non-null entries per column\n",
    "print(\"\\nUsing df.apply(len):\")\n",
    "print(df_small.apply(len))\n",
    "\n",
    "# applymap applies to every element of the DataFrame\n",
    "print(\"\\nApplying str.lower to every string cell (applymap):\")\n",
    "print(df_small.applymap(lambda x: x.lower() if isinstance(x, str) else x))"
   ]
  },
  {
   "cell_type": "markdown",
   "id": "eb838bff",
   "metadata": {},
   "source": [
    "### 5. map (elementwise with a mapping dict)"
   ]
  },
  {
   "cell_type": "code",
   "execution_count": null,
   "id": "9808e730",
   "metadata": {},
   "outputs": [],
   "source": [
    "# Suppose we want to abbreviate first names\n",
    "df_small[\"first_abbrev\"] = df_small[\"first\"].map({\"Alice\": \"A.\", \"Robert\": \"R.\", \"Carol\": \"C.\"})\n",
    "print(\"\\nAfter mapping first names to abbreviations:\")\n",
    "print(df_small[[\"first\", \"first_abbrev\"]])\n",
    "\n",
    "# Note: unmapped values become NaN; to avoid that, you can fill or use replace\n",
    "df_small[\"first_abbrev_fallback\"] = df_small[\"first\"].replace({\"Alice\": \"A.\", \"Robert\": \"R.\", \"Carol\": \"C.\"})\n",
    "print(\"\\nUsing replace (no NaNs for unmatched since exact replacements):\")\n",
    "print(df_small[[\"first\", \"first_abbrev_fallback\"]])"
   ]
  },
  {
   "cell_type": "markdown",
   "id": "7b3e0d08",
   "metadata": {},
   "source": [
    "### 6. Big DataFrame: rename column and use map"
   ]
  },
  {
   "cell_type": "code",
   "execution_count": null,
   "id": "d039ebae",
   "metadata": {},
   "outputs": [],
   "source": [
    "df = pd.read_csv(\"data/survey_results_public.csv\")\n",
    "\n",
    "# Rename 'CompTotal' to 'Salary'\n",
    "df = df.rename(columns={\"CompTotal\": \"Salary\"})\n",
    "print(\"Columns after renaming compensation:\")\n",
    "print([c for c in df.columns if \"Salary\" in c])\n",
    "\n",
    "# Example map usage: create a simplified label for some countries\n",
    "country_abbrev = {\n",
    "    \"United States of America\": \"US\",\n",
    "    \"Switzerland\": \"CH\",\n",
    "    \"Germany\": \"DE\",\n",
    "    \"India\": \"IN\",\n",
    "    \"Canada\": \"CA\",\n",
    "}\n",
    "df[\"country_code\"] = df[\"Country\"].map(country_abbrev)\n",
    "print(\"\\nSample country codes:\")\n",
    "print(df.loc[df[\"country_code\"].notna(), [\"Country\", \"country_code\"]].head())"
   ]
  },
  {
   "cell_type": "markdown",
   "id": "b6f84551",
   "metadata": {},
   "source": [
    "### 7. Combine first & last into a full name, then split back"
   ]
  },
  {
   "cell_type": "code",
   "execution_count": null,
   "id": "e2e55109",
   "metadata": {},
   "outputs": [],
   "source": [
    "# Combine into full_name\n",
    "df_small[\"full_name\"] = df_small[\"first\"] + \" \" + df_small[\"last\"]\n",
    "print(\"After combining:\")\n",
    "print(df_small)\n",
    "\n",
    "# Drop the original first & last columns\n",
    "df_small.drop(columns=[\"first\", \"last\"], inplace=True)\n",
    "print(\"\\nAfter dropping first & last:\")\n",
    "print(df_small)\n",
    "\n",
    "# Split full_name back into first & last\n",
    "df_small[[\"first\", \"last\"]] = df_small[\"full_name\"].str.split(\" \", expand=True)\n",
    "print(\"\\nAfter splitting full_name:\")\n",
    "print(df_small)\n",
    "\n"
   ]
  },
  {
   "cell_type": "markdown",
   "id": "7544a138",
   "metadata": {},
   "source": [
    "### 8. Appending rows & the ignore\\_index=True quirk"
   ]
  },
  {
   "cell_type": "code",
   "execution_count": null,
   "id": "31f8c7f9",
   "metadata": {},
   "outputs": [],
   "source": [
    "# Error: trying to append a dict without specifying the index\n",
    "df_small.append({\"first\": \"Tony\"}, ignore_index=True)"
   ]
  },
  {
   "cell_type": "code",
   "execution_count": null,
   "id": "129d5b56",
   "metadata": {},
   "outputs": [],
   "source": [
    "# Correct: using pd.concat\n",
    "new_row = pd.DataFrame([{\"first\": \"Tony\"}])\n",
    "\n",
    "# Method 1: Concatenate, resetting the index\n",
    "df_small = pd.concat([df_small, new_row], ignore_index=True)\n",
    "print(df_small)\n",
    "\n",
    "# Method 2: Using .loc to append a new row\n",
    "new_idx = len(df_small)  # next index\n",
    "df_small.loc[new_idx] = {\"first\": \"Tony\"}"
   ]
  },
  {
   "cell_type": "markdown",
   "id": "7a552638",
   "metadata": {},
   "source": [
    "### 9. Appending another DataFrame"
   ]
  },
  {
   "cell_type": "code",
   "execution_count": null,
   "id": "866834e8",
   "metadata": {},
   "outputs": [],
   "source": [
    "# Create a smaller DataFrame with same columns\n",
    "new_people = pd.DataFrame({\n",
    "    \"first\": [\"Diana\", \"Eli\"],\n",
    "    \"last\":  [\"Prince\", \"Musk\"],\n",
    "    \"email\": [\"diana@themiscira.com\", \"eli@space.com\"],\n",
    "    \"full_name\": [\"Diana Prince\", \"Eli Musk\"],\n",
    "})\n",
    "\n",
    "# Append new_people to df_small (resetting index for a clean result)\n",
    "df_small = df_small.append(new_people, ignore_index=True)\n",
    "print(\"\\nCombined DataFrame:\")\n",
    "df_small"
   ]
  },
  {
   "cell_type": "markdown",
   "id": "10e24916",
   "metadata": {},
   "source": [
    "### 10. Removing rows by index and by condition"
   ]
  },
  {
   "cell_type": "code",
   "execution_count": null,
   "id": "ead3ae70",
   "metadata": {},
   "outputs": [],
   "source": [
    "# Remove a row by its index label, e.g., drop index 1\n",
    "df_small = df_small.drop(index=1)\n",
    "print(\"\\nAfter dropping index=1:\")\n",
    "print(df_small)\n",
    "\n",
    "# Remove rows where last name == \"Lee\"\n",
    "mask_lee = df_small[\"last\"] == \"Lee\"\n",
    "df_no_lee = df_small.drop(index=df_small[mask_lee].index)\n",
    "print(\"\\nAfter dropping rows where last == 'Lee':\")\n",
    "df_no_lee"
   ]
  },
  {
   "cell_type": "markdown",
   "id": "ec3d3d69",
   "metadata": {},
   "source": [
    "### Exercise for Part 5"
   ]
  },
  {
   "cell_type": "markdown",
   "id": "f486875b",
   "metadata": {},
   "source": [
    "#### Exercise 5.1\n",
    "- Transform every column name so that it starts with an uppercase letter (e.g. `first` → `First`, `email` → `Email`).\n",
    "- Replace each name and last name with the first letter followed by a dot using `apply()`.\n",
    "- Extract the domain (after the `@`) from each email.\n",
    "\n",
    "#### Exercise 5.2\n",
    "- Create an `Adult` column to be `True` when the numeric age is **> 18**, and `False` otherwise (including NaN ages)."
   ]
  }
 ],
 "metadata": {
  "language_info": {
   "name": "python"
  }
 },
 "nbformat": 4,
 "nbformat_minor": 5
}
