{
 "cells": [
  {
   "cell_type": "markdown",
   "id": "4c5206c6",
   "metadata": {},
   "source": [
    "## Part 8: Seaborn"
   ]
  },
  {
   "cell_type": "markdown",
   "id": "d374d764",
   "metadata": {},
   "source": [
    "Seaborn is a high-level plotting library built on top of Matplotlib. It gives sane defaults, nice themes, and quick one-liners for common plots (histograms, scatter, line plots, pairplots, …).  \n",
    "We’ll use it to visualize results from our Stack Overflow survey analysis."
   ]
  },
  {
   "cell_type": "code",
   "execution_count": null,
   "id": "d180a8a5",
   "metadata": {},
   "outputs": [],
   "source": [
    "import seaborn as sns\n",
    "import matplotlib.pyplot as plt\n",
    "\n",
    "sns.set_theme()"
   ]
  },
  {
   "cell_type": "markdown",
   "id": "a2b499b0",
   "metadata": {},
   "source": [
    "### 1. Toy dataset import"
   ]
  },
  {
   "cell_type": "code",
   "execution_count": null,
   "id": "d5ac86fc",
   "metadata": {},
   "outputs": [],
   "source": [
    "print(sns.get_dataset_names())\n",
    "crash_df = sns.load_dataset(\"car_crashes\")\n",
    "crash_df"
   ]
  },
  {
   "cell_type": "code",
   "execution_count": null,
   "id": "89871051",
   "metadata": {},
   "outputs": [],
   "source": [
    "sns.histplot(crash_df['not_distracted'])\n",
    "sns.histplot(crash_df['not_distracted'], kde=True)\n",
    "sns.histplot(crash_df['not_distracted'], kde=False, bins=25)"
   ]
  },
  {
   "cell_type": "markdown",
   "id": "e561dadc",
   "metadata": {},
   "source": [
    "### 2. Jointplot"
   ]
  },
  {
   "cell_type": "code",
   "execution_count": null,
   "id": "510725a6",
   "metadata": {},
   "outputs": [],
   "source": [
    "sns.jointplot(x='speeding', y='alcohol', data=crash_df, kind='kde') # or hex or reg"
   ]
  },
  {
   "cell_type": "markdown",
   "id": "797e31e0",
   "metadata": {},
   "source": [
    "### 3. Pairplot: releationship between each pair of features"
   ]
  },
  {
   "cell_type": "code",
   "execution_count": null,
   "id": "ef350851",
   "metadata": {},
   "outputs": [],
   "source": [
    "sns.pairplot(crash_df)"
   ]
  },
  {
   "cell_type": "code",
   "execution_count": null,
   "id": "6c6bd8e1",
   "metadata": {},
   "outputs": [],
   "source": [
    "peng_df = sns.load_dataset(\"penguins\")\n",
    "peng_df"
   ]
  },
  {
   "cell_type": "code",
   "execution_count": null,
   "id": "6d287263",
   "metadata": {},
   "outputs": [],
   "source": [
    "sns.pairplot(peng_df, hue='sex')"
   ]
  },
  {
   "cell_type": "code",
   "execution_count": null,
   "id": "c98d71a7",
   "metadata": {},
   "outputs": [],
   "source": [
    "# Many styles and customizations\n",
    "\n",
    "sns.set_style(\"white\") # or whitegrid or dark or darkgrid or ticks\n",
    "sns.set_context(\"notebook\") # or paper or talk or poster\n",
    "sns.despine(left=True, bottom=True)  # remove left and bottom spines"
   ]
  },
  {
   "cell_type": "markdown",
   "id": "bbada645",
   "metadata": {},
   "source": [
    "### 4. Bar plot: categorical data"
   ]
  },
  {
   "cell_type": "code",
   "execution_count": null,
   "id": "898b59db",
   "metadata": {},
   "outputs": [],
   "source": [
    "sns.barplot(x='sex', y='body_mass_g', data=peng_df) # estimator=np.median\n",
    "sns.barplot(x='sex', y='body_mass_g', data=peng_df, hue='sex')"
   ]
  },
  {
   "cell_type": "markdown",
   "id": "ac66763e",
   "metadata": {},
   "source": [
    "### 5. Plots on the big dataset"
   ]
  },
  {
   "cell_type": "code",
   "execution_count": null,
   "id": "c9018227",
   "metadata": {},
   "outputs": [],
   "source": [
    "df[\"YearsCode\"]\n",
    "df[\"YearsCode\"].dropna()\n",
    "df[\"YearsCode\"].value_counts()"
   ]
  },
  {
   "cell_type": "code",
   "execution_count": null,
   "id": "9bf59ffd",
   "metadata": {},
   "outputs": [],
   "source": [
    "years = (df[\"YearsCode\"].replace({\"Less than 1 year\": 0, \"More than 50 years\": 50})).astype(float)\n",
    "\n",
    "# Basic plot\n",
    "sns.histplot(years)\n",
    "\n",
    "# Bins tuning\n",
    "sns.histplot(years, bins=10)\n",
    "\n",
    "# KDE plotting\n",
    "sns.histplot(years, kde=True)\n",
    "\n",
    "# Figure size\n",
    "plt.figure(figsize=(10,4))\n",
    "sns.histplot(years, bins=5)\n",
    "plt.show()"
   ]
  },
  {
   "cell_type": "code",
   "execution_count": null,
   "id": "ef3b01cf",
   "metadata": {},
   "outputs": [],
   "source": [
    "salaries = df['Salary'].astype(float)\n",
    "\n",
    "list(salaries.nlargest(200))\n",
    "\n",
    "salaries = salaries.apply(lambda x: 1_000_000 if x > 1_000_000 else x)\n",
    "# or drop the ones bigger than 1_000_000\n",
    "salaries = salaries[salaries < 1_000_000]\n",
    "\n",
    "sns.histplot(salaries)"
   ]
  },
  {
   "cell_type": "markdown",
   "id": "350ad33a",
   "metadata": {},
   "source": [
    "### 6. Jointplot"
   ]
  },
  {
   "cell_type": "markdown",
   "id": "9711cf40",
   "metadata": {},
   "source": [
    "Pick two numeric variables that make sense together.\n",
    "If you’ve created the `salaries` and `years` (of coding) variables, a simple joint scatter works:"
   ]
  },
  {
   "cell_type": "code",
   "execution_count": null,
   "id": "d2bc0726",
   "metadata": {},
   "outputs": [],
   "source": [
    "sns.jointplot(x=salaries, y=years, kind=\"scatter\", height=10) # or kde"
   ]
  },
  {
   "cell_type": "markdown",
   "id": "b600d5e5",
   "metadata": {},
   "source": [
    "### 7. Scatter Plot: AI Adoption vs. Average Salary"
   ]
  },
  {
   "cell_type": "markdown",
   "id": "0403f186",
   "metadata": {},
   "source": [
    "*(from Exercise 6.1 – `sol6_1`)*"
   ]
  },
  {
   "cell_type": "code",
   "execution_count": null,
   "id": "0eaef03f",
   "metadata": {},
   "outputs": [],
   "source": [
    "# Ensure Country is a column, not index\n",
    "sol6_1 = sol6_1.reset_index().rename(columns={\"index\": \"Country\"})\n",
    "\n",
    "plt.figure(figsize=(6, 4))\n",
    "sns.scatterplot(\n",
    "    data=sol6_1,\n",
    "    x=\"PctAIUsers\", # What to plot on the x axis\n",
    "    y=\"AvgSalary\",  # What to plot on the y axis\n",
    "    hue=\"Country\",  # Color by country\n",
    "    s=100,          # Size of points\n",
    "    palette=\"deep\"  # What colors to use for different countries\n",
    ")\n",
    "plt.title(\"AI Adoption (%) vs. Average Salary\")\n",
    "plt.xlabel(\"Percent AI Users\")\n",
    "plt.ylabel(\"Average Salary (USD)\")\n",
    "plt.legend(title=\"Country\")\n",
    "plt.tight_layout()\n",
    "plt.show()"
   ]
  },
  {
   "cell_type": "markdown",
   "id": "31f5bfaf",
   "metadata": {},
   "source": [
    "### 8. Line Plot: Mean & Median Salary for Top 10 Countries"
   ]
  },
  {
   "cell_type": "markdown",
   "id": "1c8ce6bd",
   "metadata": {},
   "source": [
    "*(from Exercise 6.2 – `top10`)*"
   ]
  },
  {
   "cell_type": "code",
   "execution_count": null,
   "id": "9c896763",
   "metadata": {},
   "outputs": [],
   "source": [
    "# 'top10' has columns Country, MeanSalary, MedianSalary, NRespondents\n",
    "\n",
    "age_stats.index = age_stats.index.str.replace(\"Under 18 years old\", \"0-18 years_old\")\n",
    "age_stats = age_stats.sort_index()\n",
    "\n",
    "plt.figure(figsize=(8, 4))\n",
    "# sns.lineplot(\n",
    "#     data=age_stats,\n",
    "#     x=\"Age\",\n",
    "#     y=\"MedianSalary\",\n",
    "#     marker=\"o\",\n",
    "#     label=\"Median Salary\"\n",
    "# )\n",
    "sns.lineplot(\n",
    "    data=age_stats,\n",
    "    x=\"Age\",\n",
    "    y=\"NumKnowsPython\",\n",
    "    marker=\"s\",\n",
    "    label=\"# Knows Python\"\n",
    ")\n",
    "plt.xticks(rotation=90)\n",
    "plt.title(\"Mean vs. Median Salary (Top 10 Countries by Respondents)\")\n",
    "plt.xlabel(\"Age\")\n",
    "# plt.ylabel(\"Salary\")\n",
    "plt.legend()\n",
    "plt.tight_layout()\n",
    "plt.show()"
   ]
  },
  {
   "cell_type": "markdown",
   "id": "011656ab",
   "metadata": {},
   "source": [
    "### 9. Histogram: Distribution of Python Adoption by Age Bracket"
   ]
  },
  {
   "cell_type": "markdown",
   "id": "b3516e13",
   "metadata": {},
   "source": [
    "*(from Exercise 6.3 – `age_stats`)*"
   ]
  },
  {
   "cell_type": "code",
   "execution_count": null,
   "id": "13325ef3",
   "metadata": {},
   "outputs": [],
   "source": [
    "age_stats"
   ]
  },
  {
   "cell_type": "code",
   "execution_count": null,
   "id": "da5284f9",
   "metadata": {},
   "outputs": [],
   "source": [
    "# prepare for plotting\n",
    "age_stats_plot = (\n",
    "    age_stats\n",
    "      .reset_index()\n",
    "      .rename(columns={\"index\": \"Age\"})\n",
    ")\n",
    "\n",
    "plt.figure(figsize=(8,4))\n",
    "sns.barplot(\n",
    "    data=age_stats_plot,\n",
    "    x=\"Age\",\n",
    "    y=\"NRespondents\",\n",
    "    hue=\"Age\",\n",
    "    palette=\"Blues_d\",\n",
    ")\n",
    "plt.xticks(rotation=45)\n",
    "plt.title(\"Number of Respondents per Age Bracket\")\n",
    "plt.xlabel(\"Age Bracket\")\n",
    "plt.ylabel(\"Respondent Count\")\n",
    "plt.tight_layout()\n",
    "plt.show()\n"
   ]
  },
  {
   "cell_type": "markdown",
   "id": "7551fea6",
   "metadata": {},
   "source": [
    "### 10. Pairplot: Salary & Python Adoption by Age Bracket"
   ]
  },
  {
   "cell_type": "markdown",
   "id": "6e345231",
   "metadata": {},
   "source": [
    "*(from Exercise 6.3 – `age_stats`)*"
   ]
  },
  {
   "cell_type": "code",
   "execution_count": null,
   "id": "b38d171e",
   "metadata": {},
   "outputs": [],
   "source": [
    "age_stats_plot"
   ]
  },
  {
   "cell_type": "code",
   "execution_count": null,
   "id": "1b62d9b8",
   "metadata": {},
   "outputs": [],
   "source": [
    "sns.pairplot(\n",
    "    age_stats_plot[[\"MedianSalary\", \"NumKnowsPython\", \"NRespondents\"]],\n",
    "    diag_kind=\"hist\"\n",
    ")\n",
    "plt.suptitle(\"Pairwise Relationships\\nSalary & Python Adoption by Age\", y=1.02)\n",
    "plt.show()"
   ]
  },
  {
   "cell_type": "markdown",
   "id": "0137f450",
   "metadata": {},
   "source": [
    "**Takeaways:**\n",
    "\n",
    "* **Scatter plots** reveal relationships (e.g., higher salary ↔ AI adoption).\n",
    "* **Line plots** are ideal for comparing metrics across ordered categories.\n",
    "* **Histograms** show distributions of a single variable.\n",
    "* **Pairplots** give a quick overview of all pairwise correlations among multiple numeric metrics."
   ]
  }
 ],
 "metadata": {
  "language_info": {
   "name": "python"
  }
 },
 "nbformat": 4,
 "nbformat_minor": 5
}
