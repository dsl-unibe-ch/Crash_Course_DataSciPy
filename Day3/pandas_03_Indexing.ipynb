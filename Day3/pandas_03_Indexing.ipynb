{
 "cells": [
  {
   "cell_type": "markdown",
   "id": "6be3ae9a",
   "metadata": {},
   "source": [
    "## Part 3: Indexes, Lookup by Key, and Sorting"
   ]
  },
  {
   "cell_type": "markdown",
   "id": "5224672c",
   "metadata": {},
   "source": [
    "### 1. Adding an integer identifier & using a unique `uid` as the index"
   ]
  },
  {
   "cell_type": "markdown",
   "id": "e5a56115",
   "metadata": {},
   "source": [
    "We’ll start with the small DataFrame from before (`df_small`) which already has a unique `uid` column (e.g., `AS150190`). We'll also add a simple integer identifier, then set `uid` as the index."
   ]
  },
  {
   "cell_type": "code",
   "execution_count": null,
   "id": "ce1d627d",
   "metadata": {},
   "outputs": [],
   "source": [
    "import pandas as pd\n",
    "\n",
    "df_small = pd.DataFrame({\n",
    "    \"first\": [\"Alice\", \"Bob\", \"Carol\"],\n",
    "    \"last\": [\"Smith\", \"Jones\", \"Lee\"],\n",
    "    \"email\": [\"alice@example.com\", \"bob@example.com\", \"carol@example.com\"],\n",
    "    \"uid\": [\"AS100293\", \"BJ240806\", \"CL150510\"],\n",
    "})\n",
    "\n",
    "# Build DataFrame\n",
    "df_small = pd.DataFrame(people)"
   ]
  },
  {
   "cell_type": "code",
   "execution_count": null,
   "id": "0c210e9c",
   "metadata": {},
   "outputs": [],
   "source": [
    "# Show current frame\n",
    "print(\"Before setting index:\")\n",
    "df_small"
   ]
  },
  {
   "cell_type": "code",
   "execution_count": null,
   "id": "de362a7e",
   "metadata": {},
   "outputs": [],
   "source": [
    "# Set uid as the index\n",
    "df_small.set_index(\"uid\", inplace=True)\n",
    "\n",
    "# Inspect the index\n",
    "print(\"\\nAfter setting uid as index:\")\n",
    "print(\"\\nIndex object:\", df_small.index)\n",
    "df_small"
   ]
  },
  {
   "cell_type": "markdown",
   "id": "ad6d02ea",
   "metadata": {},
   "source": [
    "**Key points:**\n",
    "\n",
    "* `set_index(\"uid\", inplace=True)` makes the `uid` column become the DataFrame’s index, replacing the default integer index.\n",
    "* You can inspect what the current index is via `df.index`.\n",
    "\n",
    "---"
   ]
  },
  {
   "cell_type": "markdown",
   "id": "bc4c7fde",
   "metadata": {},
   "source": [
    "### 2. Accessing rows via `.loc` vs `.iloc` after changing the index"
   ]
  },
  {
   "cell_type": "markdown",
   "id": "5e9738cc",
   "metadata": {},
   "source": [
    "With `uid` as the index, you can no longer use integer labels with `.loc` directly (e.g., `.loc[0]` will fail), but `.iloc` (position-based) still works."
   ]
  },
  {
   "cell_type": "code",
   "execution_count": null,
   "id": "4108f7c1",
   "metadata": {},
   "outputs": [],
   "source": [
    "# Example: access by uid with .loc\n",
    "print(\"Row by uid via .loc:\")\n",
    "print(df_small.loc['BJ240806'])\n",
    "\n",
    "# .iloc by position still works (e.g., first row)\n",
    "print(\"\\nRow by position via .iloc:\")\n",
    "print(df_small.iloc[0])"
   ]
  },
  {
   "cell_type": "markdown",
   "id": "59ba94ee",
   "metadata": {},
   "source": [
    "### 3. Resetting the index if it was modified accidentally"
   ]
  },
  {
   "cell_type": "markdown",
   "id": "28a47cce",
   "metadata": {},
   "source": [
    "If you ever want to revert and bring the index back as a column:"
   ]
  },
  {
   "cell_type": "code",
   "execution_count": null,
   "id": "4cbbd818",
   "metadata": {},
   "outputs": [],
   "source": [
    "# Reset index back to default integer index\n",
    "df_small = df_small.reset_index()\n",
    "print(\"After reset_index:\")\n",
    "df_small"
   ]
  },
  {
   "cell_type": "markdown",
   "id": "092a3a70",
   "metadata": {},
   "source": [
    "### 4. Setting the index on the big survey DataFrame on load"
   ]
  },
  {
   "cell_type": "markdown",
   "id": "c40acf68",
   "metadata": {},
   "source": [
    "When reading the large Stack Overflow survey results, we can directly set a meaningful unique identifier as the index. The column `ResponseId` uniquely identifies each respondent."
   ]
  },
  {
   "cell_type": "code",
   "execution_count": null,
   "id": "c1c69f37",
   "metadata": {},
   "outputs": [],
   "source": [
    "# Read with ResponseId as index right away\n",
    "df = pd.read_csv('data/survey_results_public.csv', index_col=\"ResponseId\")\n",
    "\n",
    "# Quick check\n",
    "print(\"Index name and sample:\")\n",
    "print(df.index.name, \"— first 5 indices:\")\n",
    "print(df.index[:5])"
   ]
  },
  {
   "cell_type": "markdown",
   "id": "e7b72282",
   "metadata": {},
   "source": [
    "Now selections by respondent ID can be done with `.loc[...]` using their ResponseId.\n",
    "\n",
    "---"
   ]
  },
  {
   "cell_type": "markdown",
   "id": "a89788ff",
   "metadata": {},
   "source": [
    "### 5. Real-world schema lookup example"
   ]
  },
  {
   "cell_type": "markdown",
   "id": "55b9b6d8",
   "metadata": {},
   "source": [
    "Suppose you want to understand what the question code `AISelect` means in the schema, and you have `schema_df` loaded from the schema CSV.\n",
    "\n",
    "First, set its index to the question name field (commonly `qname`), so lookups are simple:"
   ]
  },
  {
   "cell_type": "code",
   "execution_count": null,
   "id": "79ff6a56",
   "metadata": {},
   "outputs": [],
   "source": [
    "# Load schema with index set to question names\n",
    "schema_df = pd.read_csv('data/survey_results_schema.csv', index_col=\"qname\")\n",
    "\n",
    "# Lookup the full entry for 'AISelect'\n",
    "print(\"Schema entry for AISelect:\")\n",
    "schema_df.loc[\"AISelect\"]"
   ]
  },
  {
   "cell_type": "code",
   "execution_count": null,
   "id": "5440b86c",
   "metadata": {},
   "outputs": [],
   "source": [
    "# Another code we may not know: \"Check\"\n",
    "print(\"\\nSchema entry for 'Check':\")\n",
    "schema_df.loc[\"Check\"]"
   ]
  },
  {
   "cell_type": "code",
   "execution_count": null,
   "id": "8158fa80",
   "metadata": {},
   "outputs": [],
   "source": [
    "# If the question text is truncated in display, access the full field explicitly\n",
    "print(\"\\nFull question text for 'Check':\")\n",
    "print(schema_df.loc[\"Check\", \"question\"])"
   ]
  },
  {
   "cell_type": "markdown",
   "id": "eda65ee3",
   "metadata": {},
   "source": [
    "**Why this helps:**\n",
    "By setting `qname` as the index, you can directly do `schema_df.loc[...]` to resolve what each coded column in the main survey means, making interpretation and downstream labeling far easier.\n",
    "\n",
    "---"
   ]
  },
  {
   "cell_type": "markdown",
   "id": "5fd83ef2",
   "metadata": {},
   "source": [
    "### 6. Sorting alphabetically (ascending and descending) in place"
   ]
  },
  {
   "cell_type": "markdown",
   "id": "9cb32f4b",
   "metadata": {},
   "source": [
    "You can sort a DataFrame by an axis (e.g., index or a column). Here are examples:"
   ]
  },
  {
   "cell_type": "code",
   "execution_count": null,
   "id": "970717a2",
   "metadata": {},
   "outputs": [],
   "source": [
    "# Sort schema_df by its index (qname) alphabetically ascending\n",
    "schema_df.sort_index(ascending=True, inplace=True)\n",
    "print(\"First few qnames after ascending sort:\")\n",
    "print(schema_df.index[:5])\n",
    "\n",
    "# Sort schema_df by index descending\n",
    "schema_df.sort_index(ascending=False, inplace=True)\n",
    "print(\"\\nFirst few qnames after descending sort:\")\n",
    "print(schema_df.index[:5])"
   ]
  },
  {
   "cell_type": "markdown",
   "id": "66b261f5",
   "metadata": {},
   "source": [
    "*Note:* `inplace=True` modifies the DataFrame directly. Newer pandas practice often prefers assignment (e.g., `schema_df = schema_df.sort_index(...)`) because some `inplace` behaviors are being discouraged for clarity."
   ]
  },
  {
   "cell_type": "markdown",
   "id": "e6e1da4c",
   "metadata": {},
   "source": [
    "### Exercise for Part 3\n",
    "\n",
    "1. Sort the people in `df_small` by date of birth so that the **oldest** person appears first and the **youngest** last (i.e., ascending by date).\n",
    "2. After sorting, print:\n",
    "   - The first row (should be the oldest person).\n",
    "   - The last row (youngest person)."
   ]
  }
 ],
 "metadata": {
  "language_info": {
   "name": "python"
  }
 },
 "nbformat": 4,
 "nbformat_minor": 5
}
