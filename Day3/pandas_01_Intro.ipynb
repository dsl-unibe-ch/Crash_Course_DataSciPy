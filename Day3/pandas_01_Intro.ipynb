{
 "cells": [
  {
   "cell_type": "markdown",
   "id": "b59144f3",
   "metadata": {},
   "source": [
    "## Part 1: Getting Started with Pandas and the Stack Overflow Survey Dataset"
   ]
  },
  {
   "cell_type": "markdown",
   "id": "ebf9a19f",
   "metadata": {},
   "source": [
    "### 1. Setup and Installation"
   ]
  },
  {
   "cell_type": "markdown",
   "id": "416ac519",
   "metadata": {},
   "source": [
    "We'll assume you have Python ≥3.10 (Pandas 2.x requires 3.10+). \n",
    "Install via pip:"
   ]
  },
  {
   "cell_type": "code",
   "execution_count": null,
   "id": "92adf25c",
   "metadata": {},
   "outputs": [],
   "source": [
    "!pip install --upgrade pandas"
   ]
  },
  {
   "cell_type": "markdown",
   "id": "e107ac93",
   "metadata": {},
   "source": [
    "Or, if using conda:\n",
    "\n",
    "```bash\n",
    "conda install pandas\n",
    "```\n",
    "\n",
    "Verify the version so we know what behavior to expect (current stable series is 2.3.x as of mid-2025; Pandas 2.0 introduced breaking changes from 1.x and removed deprecated APIs, so older tutorials may mention things that no longer exist)."
   ]
  },
  {
   "cell_type": "code",
   "execution_count": null,
   "id": "d5b630d3",
   "metadata": {},
   "outputs": [],
   "source": [
    "import pandas as pd\n",
    "print(pd.__version__)  # Expect 2.2.x / 2.3.x; warn if <2.0"
   ]
  },
  {
   "cell_type": "markdown",
   "id": "d7c4b89f",
   "metadata": {},
   "source": [
    "**Note:** Pandas 2.0+ enforces previously deprecated behavior from 1.x, so if the code uses deprecated things (e.g., references to `.ix` or reliance on certain implicit dtype coercions) so you may need slight adaptation.\n",
    "\n",
    "---"
   ]
  },
  {
   "cell_type": "markdown",
   "id": "7e7795db",
   "metadata": {},
   "source": [
    "### 2. Download and prepare the Stack Overflow 2024 Survey data"
   ]
  },
  {
   "cell_type": "markdown",
   "id": "6aa46098",
   "metadata": {},
   "source": [
    "1. Go to the official Stack Overflow Developer Survey page and download the **2024** full data set (CSV).  \n",
    "   - The public results file is named `survey_results_public.csv`.  \n",
    "   - There's a companion schema file (e.g., `survey_results_schema.py`) which maps column codes to human-readable questions.\n",
    "\n",
    "2. Unzip the downloaded archive and rename the extracted folder to `data` in your working directory.\n",
    "\n",
    "3. Confirm that inside `data/` you have at least:\n",
    "   - `survey_results_public.csv`\n",
    "   - `survey_results_schema.py`\n",
    "   - `README` (explains the files and structure)\n",
    "\n",
    "*The dataset comes from the official 2024 survey; it has \\~65,000 responses and the public CSV is one respondent per row and each column is an answer.* ([survey.stackoverflow.co][1], [Kaggle][2])\n",
    "\n",
    "---\n",
    "\n",
    "[1]: https://survey.stackoverflow.co/?utm_source=chatgpt.com \"Stack Overflow Annual Developer Survey\"\n",
    "[2]: https://www.kaggle.com/code/dima806/stack-overflow-survey-salaries-2023-vs-2024/input?utm_source=chatgpt.com \"Stack Overflow Survey salaries 2023 vs 2024 - Kaggle\""
   ]
  },
  {
   "cell_type": "markdown",
   "id": "4c3e34fd",
   "metadata": {},
   "source": [
    "### 3. CSV vs Excel (Why we’re using CSV here)"
   ]
  },
  {
   "cell_type": "markdown",
   "id": "6d3a45ab",
   "metadata": {},
   "source": [
    "- **CSV** is plain text with delimiter-separated values. It's lightweight, universally readable, and ideal for data interchange between systems.  \n",
    "- **Excel** (`.xlsx`, `.xls`) is a richer binary/XML format supporting multiple sheets, formatting, formulas, etc., but requires more complex parsing and proprietary support.  \n",
    "- For large-scale programmatic analysis and reproducibility, CSV is preferred because it's simple, version-control friendly, and doesn’t embed presentation metadata.\n",
    "\n",
    "*References for the distinctions:* ([DataCamp][3], [GeeksforGeeks][4], [Spreadsheet Planet][5])\n",
    "\n",
    "---\n",
    "\n",
    "[3]: https://www.datacamp.com/blog/csv-vs-excel?utm_source=chatgpt.com \"CSV vs Excel: Making the Right Choice for Your Data Projects\"\n",
    "[4]: https://www.geeksforgeeks.org/excel/difference-between-csv-and-excel/?utm_source=chatgpt.com \"Difference Between CSV and Excel - GeeksforGeeks\"\n",
    "[5]: https://spreadsheetplanet.com/csv-vs-xlsx-files/?utm_source=chatgpt.com \"CSV vs. XLSX Files - What's the Difference? - Spreadsheet Planet\""
   ]
  },
  {
   "cell_type": "markdown",
   "id": "57367e44",
   "metadata": {},
   "source": [
    "### 4. First Pandas Usage"
   ]
  },
  {
   "cell_type": "code",
   "execution_count": null,
   "id": "886ad767",
   "metadata": {},
   "outputs": [],
   "source": [
    "import pandas as pd  # standard alias"
   ]
  },
  {
   "cell_type": "code",
   "execution_count": null,
   "id": "98eb08f0",
   "metadata": {},
   "outputs": [],
   "source": [
    "df = pd.read_csv('data/survey_results_public.csv')"
   ]
  },
  {
   "cell_type": "code",
   "execution_count": null,
   "id": "04352222",
   "metadata": {},
   "outputs": [],
   "source": [
    "# Number of rows and columns\n",
    "print(df.shape)\n",
    "\n",
    "# Summary of types, non-null counts\n",
    "df.info()"
   ]
  },
  {
   "cell_type": "markdown",
   "id": "5110b5fd",
   "metadata": {},
   "source": [
    "Sometimes the default display truncates columns/rows. Adjust:"
   ]
  },
  {
   "cell_type": "code",
   "execution_count": null,
   "id": "c9271c0f",
   "metadata": {},
   "outputs": [],
   "source": [
    "pd.set_option('display.max\\_columns', 114)  # show more columns horizontally\n",
    "pd.set_option('display.max\\_rows', 80)     # show more rows if needed"
   ]
  },
  {
   "cell_type": "markdown",
   "id": "bc0c2fff",
   "metadata": {},
   "source": [
    "Viewing data slices"
   ]
  },
  {
   "cell_type": "code",
   "execution_count": null,
   "id": "f5afd089",
   "metadata": {},
   "outputs": [],
   "source": [
    "df.head()        # first 5 rows\n",
    "df.head(10)      # first 10 rows\n",
    "df.tail()        # last 5 rows"
   ]
  },
  {
   "cell_type": "markdown",
   "id": "39949e53",
   "metadata": {},
   "source": [
    "---"
   ]
  },
  {
   "cell_type": "markdown",
   "id": "2e81179d",
   "metadata": {},
   "source": [
    "### Exercise for Part 1\n",
    "\n",
    "There is an additional .csv file in the data folder.  \n",
    "\n",
    "1. Load the schema file into a DataFrame.\n",
    "2. Answer the following:\n",
    "\n",
    "   * How many rows and columns does the schema DataFrame have?\n",
    "   * Inspect the first few rows to understand its structure. What are the key fields/columns it contains, and what do they mean in context of the survey?\n",
    "   * Are there any missing values in the schema? Identify which column(s), if any, have missing entries and how many."
   ]
  }
 ],
 "metadata": {
  "language_info": {
   "name": "python"
  }
 },
 "nbformat": 4,
 "nbformat_minor": 5
}
