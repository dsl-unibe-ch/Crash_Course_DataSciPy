{
 "cells": [
  {
   "cell_type": "markdown",
   "id": "f7288c46-6ddd-4b89-9eef-9e3fc8130c9a",
   "metadata": {},
   "source": [
    "# Repeating and controlling\n",
    "\n",
    "In the previous chapter, we have recovered lists of files that we might potentially want to import for analysis. Of course we could manually import each file using `file[0]`, `file[1]` etc. but that's not efficient and can be done with **loops**. Also we may want to analyze files that have specific properties, in which case we'll have to impose **conditions**. The syntax of loops and conditions is very similar and we treat them here together."
   ]
  },
  {
   "cell_type": "markdown",
   "id": "d209024c",
   "metadata": {},
   "source": [
    "## For loops\n",
    "\n",
    "Let's create again a list of files. Here we want to point to the notebook folder, so we can use the `Path` object to get the current working directory:"
   ]
  },
  {
   "cell_type": "code",
   "execution_count": 2,
   "id": "efd88915-0da0-42de-92e9-9e7309c9e852",
   "metadata": {},
   "outputs": [
    {
     "data": {
      "text/plain": [
       "PosixPath('/Users/gw18g940/GoogleDrive/DSL/Trainings/Crash_Course_DataSciPy/Day1')"
      ]
     },
     "execution_count": 2,
     "metadata": {},
     "output_type": "execute_result"
    }
   ],
   "source": [
    "from pathlib import Path\n",
    "\n",
    "current_folder = Path.cwd()\n",
    "current_folder"
   ]
  },
  {
   "cell_type": "markdown",
   "id": "76ae6935-6462-4b0f-926d-ed5e70908a82",
   "metadata": {},
   "source": [
    "And we create again a list of contents:"
   ]
  },
  {
   "cell_type": "code",
   "execution_count": 3,
   "id": "948adf92-b495-4faa-82f9-799d6a9294d4",
   "metadata": {},
   "outputs": [
    {
     "data": {
      "text/plain": [
       "[PosixPath('/Users/gw18g940/GoogleDrive/DSL/Trainings/Crash_Course_DataSciPy/Day1/06-Flow_control.ipynb'),\n",
       " PosixPath('/Users/gw18g940/GoogleDrive/DSL/Trainings/Crash_Course_DataSciPy/Day1/environment.yml'),\n",
       " PosixPath('/Users/gw18g940/GoogleDrive/DSL/Trainings/Crash_Course_DataSciPy/Day1/03-Functions_packages.ipynb'),\n",
       " PosixPath('/Users/gw18g940/GoogleDrive/DSL/Trainings/Crash_Course_DataSciPy/Day1/myfolder'),\n",
       " PosixPath('/Users/gw18g940/GoogleDrive/DSL/Trainings/Crash_Course_DataSciPy/Day1/README.md'),\n",
       " PosixPath('/Users/gw18g940/GoogleDrive/DSL/Trainings/Crash_Course_DataSciPy/Day1/05-File_handling.ipynb'),\n",
       " PosixPath('/Users/gw18g940/GoogleDrive/DSL/Trainings/Crash_Course_DataSciPy/Day1/02-Variables.ipynb'),\n",
       " PosixPath('/Users/gw18g940/GoogleDrive/DSL/Trainings/Crash_Course_DataSciPy/Day1/newfolder'),\n",
       " PosixPath('/Users/gw18g940/GoogleDrive/DSL/Trainings/Crash_Course_DataSciPy/Day1/01-Notebooks.ipynb'),\n",
       " PosixPath('/Users/gw18g940/GoogleDrive/DSL/Trainings/Crash_Course_DataSciPy/Day1/04-Data_structures.ipynb')]"
      ]
     },
     "execution_count": 3,
     "metadata": {},
     "output_type": "execute_result"
    }
   ],
   "source": [
    "files_in_folder = list(current_folder.iterdir())\n",
    "files_in_folder"
   ]
  },
  {
   "cell_type": "markdown",
   "id": "97707595-b75f-4143-98c7-b77584204979",
   "metadata": {},
   "source": [
    "Let's say we now want to find the extension of each of these files: we need to *traverse* the full list and apply the `suffix` function to each element:"
   ]
  },
  {
   "cell_type": "code",
   "execution_count": 5,
   "id": "8a5b4a43",
   "metadata": {},
   "outputs": [
    {
     "data": {
      "text/plain": [
       "'.ipynb'"
      ]
     },
     "execution_count": 5,
     "metadata": {},
     "output_type": "execute_result"
    }
   ],
   "source": [
    "files_in_folder[0].suffix"
   ]
  },
  {
   "cell_type": "markdown",
   "id": "cba743af",
   "metadata": {},
   "source": [
    "We can now write:"
   ]
  },
  {
   "cell_type": "code",
   "execution_count": 8,
   "id": "708e9ada-afcc-4035-953a-9cb4e857a7fe",
   "metadata": {},
   "outputs": [],
   "source": [
    "for f in files_in_folder:\n",
    "    mysuffix = f.suffix"
   ]
  },
  {
   "cell_type": "markdown",
   "id": "6f239667-b845-4fb4-a97e-c384305c42f7",
   "metadata": {},
   "source": [
    "As you can see, ```for``` loops are written in a relatively \"natural\" way in Python, stating that \"for each element `f` in `files_in_folder` execute the following lines\". Note that:\n",
    "1. `f` just stands for the currently selected element from `files_in_folder`.\n",
    "2. The for loop starts with the ```for``` statement\n",
    "3. The list used for iteration is specified, here ```files_in_folder```\n",
    "4. Like function definition, the for loop definition ends with ```:```\n",
    "5. The content of the loop is **indented**\n",
    "\n",
    "You can also note that when we execute the cell nothing happens. This is because no graphical output is generated fro for loops. If we want to see the actual value we have to use the ```print()``` function:"
   ]
  },
  {
   "cell_type": "code",
   "execution_count": 9,
   "id": "26da6647-eb9c-45df-8b55-d5c1e89baa19",
   "metadata": {},
   "outputs": [
    {
     "name": "stdout",
     "output_type": "stream",
     "text": [
      ".ipynb\n"
     ]
    }
   ],
   "source": [
    "for f in files_in_folder:\n",
    "    mysuffix = f.suffix\n",
    "print(mysuffix)"
   ]
  },
  {
   "cell_type": "markdown",
   "id": "3daaacb3-9cb5-4429-bb62-272aecd50115",
   "metadata": {},
   "source": [
    "Only the last value is printed because we put the ```print()``` function outside the loop. If we want to see each value we have to **indent** the ```print()``` call so that it is included in the loop:"
   ]
  },
  {
   "cell_type": "code",
   "execution_count": 10,
   "id": "9cbf3a6e-fa16-4933-bf5c-0ee4dbe5a6a3",
   "metadata": {},
   "outputs": [
    {
     "name": "stdout",
     "output_type": "stream",
     "text": [
      ".ipynb\n",
      ".yml\n",
      ".ipynb\n",
      "\n",
      ".md\n",
      ".ipynb\n",
      ".ipynb\n",
      "\n",
      ".ipynb\n",
      ".ipynb\n"
     ]
    }
   ],
   "source": [
    "for f in files_in_folder:\n",
    "    mysuffix = f.suffix\n",
    "    print(mysuffix)"
   ]
  },
  {
   "cell_type": "markdown",
   "id": "89eb9d8b-4965-4323-aeb8-b449af0e54d0",
   "metadata": {},
   "source": [
    "### Looping using a range\n",
    "\n",
    "Often we don't want to loop over the content of a list but just want to do some operation N times or for indexes from 0 to N. To do that, we can use the built-in ```range()``` function that just does this: it provides numbers within a certainrange. The function doesn't really produce a list per se but can be used as if it were one. For example:"
   ]
  },
  {
   "cell_type": "code",
   "execution_count": 11,
   "id": "e9ae12a9-5ea1-4ddb-85b2-8e2231512811",
   "metadata": {},
   "outputs": [
    {
     "name": "stdout",
     "output_type": "stream",
     "text": [
      "0\n",
      "1\n",
      "2\n",
      "3\n",
      "4\n",
      "5\n",
      "6\n",
      "7\n"
     ]
    }
   ],
   "source": [
    "for x in range(8):\n",
    "    print(x)"
   ]
  },
  {
   "cell_type": "markdown",
   "id": "02f7e8e7-7f0c-4b32-882b-65ab519601b0",
   "metadata": {},
   "source": [
    "Note that as always the first index is not 0 but 8. Of course we could use these indexes to access specific parts of a list. Coming back to the previous example, we might want to calculate the square only of the three first numbers:"
   ]
  },
  {
   "cell_type": "code",
   "execution_count": 12,
   "id": "cbe31ad4-10ac-4d9a-a120-1a1bbef0a11f",
   "metadata": {},
   "outputs": [
    {
     "name": "stdout",
     "output_type": "stream",
     "text": [
      "1\n",
      "4\n",
      "9\n"
     ]
    }
   ],
   "source": [
    "mylist = [1, 2, 3]\n",
    "\n",
    "for i in range(3):\n",
    "    result = mylist[i] ** 2\n",
    "    print(result)"
   ]
  },
  {
   "cell_type": "markdown",
   "id": "5046fae5-ce3b-47a6-985b-88d3eb19e80e",
   "metadata": {},
   "source": [
    "With ```mylist[x]``` we simply use the numbers generated by ```range()``` as indexes of our list."
   ]
  },
  {
   "cell_type": "markdown",
   "id": "971fca25-c1db-4bc0-a7c7-c192aa011c98",
   "metadata": {},
   "source": [
    "## Using conditions\n",
    "\n",
    "\n",
    "### ```if``` statement\n",
    "\n",
    "Now that we catch the extension of each file, we can run our workflow *only if the extension is really ipynb*! For this we need another very common statement in programming languages, which is the ```if``` statement. Let's do a simple example first:"
   ]
  },
  {
   "cell_type": "code",
   "execution_count": 13,
   "id": "bfb28c8c-425f-4007-b2da-5d03bfee5dc4",
   "metadata": {},
   "outputs": [],
   "source": [
    "a = 3"
   ]
  },
  {
   "cell_type": "code",
   "execution_count": 14,
   "id": "543cd38d-efc6-4f48-b157-b844dea158e1",
   "metadata": {},
   "outputs": [],
   "source": [
    "if a > 4:\n",
    "    print('Large')"
   ]
  },
  {
   "cell_type": "code",
   "execution_count": 15,
   "id": "812d8a76-50ef-47ed-8fec-cf09ead0d09e",
   "metadata": {},
   "outputs": [
    {
     "name": "stdout",
     "output_type": "stream",
     "text": [
      "Small\n"
     ]
    }
   ],
   "source": [
    "if a < 4:\n",
    "    print('Small')"
   ]
  },
  {
   "cell_type": "markdown",
   "id": "f71de884-beb7-4d07-9cd0-ec08abc7ae31",
   "metadata": {},
   "source": [
    "We see that the structure of the ```if``` statement is very similar to that of functions and ```for``` loops:\n",
    "- a condition is stated and ends with ```:```\n",
    "- the block executed only if the statement is *True* is *indented*\n",
    "\n",
    "In some cases, we want to execute a different block code when the ```if``` statement is *False*. For that we need to use the ```else``` statement which has the same structure:"
   ]
  },
  {
   "cell_type": "code",
   "execution_count": 16,
   "id": "6a5cc9a1-c0a2-4857-abf6-0ea6d10e549a",
   "metadata": {},
   "outputs": [
    {
     "name": "stdout",
     "output_type": "stream",
     "text": [
      "Large\n"
     ]
    }
   ],
   "source": [
    "a = 10\n",
    "\n",
    "if a < 4:\n",
    "    print('Small')\n",
    "else:\n",
    "    print('Large')"
   ]
  },
  {
   "cell_type": "markdown",
   "id": "c8d3bfde-c870-49f9-a78d-8f678220e658",
   "metadata": {},
   "source": [
    "You can even add multiple sub-cases with ```elif```:"
   ]
  },
  {
   "cell_type": "code",
   "execution_count": 17,
   "id": "b43c37ee-b1bc-42c8-93b1-f7dad1de0c2c",
   "metadata": {},
   "outputs": [
    {
     "name": "stdout",
     "output_type": "stream",
     "text": [
      "Intermediate\n"
     ]
    }
   ],
   "source": [
    "a = 10\n",
    "\n",
    "if a < 4:\n",
    "    print('Small')\n",
    "elif a < 20:\n",
    "    print('Intermediate')\n",
    "else:\n",
    "    print('Large')"
   ]
  },
  {
   "cell_type": "markdown",
   "id": "76e84c99-ff91-4b3a-bbff-af1b2e58ae48",
   "metadata": {},
   "source": [
    "## Back to files\n",
    "\n",
    "So now we want to add an ```if``` statement in our routine, that will check the file format. Let's see if we can come up with a check e.g.:"
   ]
  },
  {
   "cell_type": "code",
   "execution_count": 18,
   "id": "0e02b74d-17c3-48ab-b72f-af33bbd7a9a7",
   "metadata": {},
   "outputs": [
    {
     "data": {
      "text/plain": [
       "PosixPath('/Users/gw18g940/GoogleDrive/DSL/Trainings/Crash_Course_DataSciPy/Day1/03-Functions_packages.ipynb')"
      ]
     },
     "execution_count": 18,
     "metadata": {},
     "output_type": "execute_result"
    }
   ],
   "source": [
    "files_in_folder[2]"
   ]
  },
  {
   "cell_type": "code",
   "execution_count": 20,
   "id": "f4e7004c-0238-4eb6-8bcc-ef7ee8cedca3",
   "metadata": {},
   "outputs": [
    {
     "data": {
      "text/plain": [
       "True"
      ]
     },
     "execution_count": 20,
     "metadata": {},
     "output_type": "execute_result"
    }
   ],
   "source": [
    "files_in_folder[2].suffix == '.ipynb'"
   ]
  },
  {
   "cell_type": "code",
   "execution_count": 21,
   "id": "5080df5f-4b59-45bb-a918-3630ffe8f88d",
   "metadata": {},
   "outputs": [
    {
     "data": {
      "text/plain": [
       "PosixPath('/Users/gw18g940/GoogleDrive/DSL/Trainings/Crash_Course_DataSciPy/Day1/environment.yml')"
      ]
     },
     "execution_count": 21,
     "metadata": {},
     "output_type": "execute_result"
    }
   ],
   "source": [
    "files_in_folder[1]"
   ]
  },
  {
   "cell_type": "code",
   "execution_count": 22,
   "id": "7a555d0e-3569-4bfd-b029-3861a3a3f615",
   "metadata": {},
   "outputs": [
    {
     "data": {
      "text/plain": [
       "False"
      ]
     },
     "execution_count": 22,
     "metadata": {},
     "output_type": "execute_result"
    }
   ],
   "source": [
    "files_in_folder[1].suffix == '.ipynb'"
   ]
  },
  {
   "cell_type": "markdown",
   "id": "5afee610-4b88-4501-a1b8-cfd00a9049ff",
   "metadata": {},
   "source": [
    "So we can compare our suffix to the string ```.ipynb``` and that should work:"
   ]
  },
  {
   "cell_type": "code",
   "execution_count": 23,
   "id": "62a32dae-320a-4583-8c82-0c1b67750fea",
   "metadata": {},
   "outputs": [
    {
     "name": "stdout",
     "output_type": "stream",
     "text": [
      "/Users/gw18g940/GoogleDrive/DSL/Trainings/Crash_Course_DataSciPy/Day1/06-Flow_control.ipynb\n",
      "Is notebook file\n",
      "/Users/gw18g940/GoogleDrive/DSL/Trainings/Crash_Course_DataSciPy/Day1/environment.yml\n",
      "Is NOT notebook file\n",
      "/Users/gw18g940/GoogleDrive/DSL/Trainings/Crash_Course_DataSciPy/Day1/03-Functions_packages.ipynb\n",
      "Is notebook file\n",
      "/Users/gw18g940/GoogleDrive/DSL/Trainings/Crash_Course_DataSciPy/Day1/myfolder\n",
      "Is NOT notebook file\n",
      "/Users/gw18g940/GoogleDrive/DSL/Trainings/Crash_Course_DataSciPy/Day1/README.md\n",
      "Is NOT notebook file\n",
      "/Users/gw18g940/GoogleDrive/DSL/Trainings/Crash_Course_DataSciPy/Day1/05-File_handling.ipynb\n",
      "Is notebook file\n",
      "/Users/gw18g940/GoogleDrive/DSL/Trainings/Crash_Course_DataSciPy/Day1/02-Variables.ipynb\n",
      "Is notebook file\n",
      "/Users/gw18g940/GoogleDrive/DSL/Trainings/Crash_Course_DataSciPy/Day1/newfolder\n",
      "Is NOT notebook file\n",
      "/Users/gw18g940/GoogleDrive/DSL/Trainings/Crash_Course_DataSciPy/Day1/01-Notebooks.ipynb\n",
      "Is notebook file\n",
      "/Users/gw18g940/GoogleDrive/DSL/Trainings/Crash_Course_DataSciPy/Day1/04-Data_structures.ipynb\n",
      "Is notebook file\n"
     ]
    }
   ],
   "source": [
    "for f in files_in_folder:\n",
    "    \n",
    "    print(f)\n",
    "    if f.suffix == '.ipynb':\n",
    "        print('Is notebook file')\n",
    "    else:\n",
    "        print('Is NOT notebook file')"
   ]
  },
  {
   "cell_type": "markdown",
   "id": "6760548d-9dbc-4bd3-8869-8ee5aa176e47",
   "metadata": {},
   "source": [
    "## Complete routine\n",
    "\n",
    "So now we can finally go through all files, check the extension and execute the workflow only if the file is csv file: "
   ]
  },
  {
   "cell_type": "code",
   "execution_count": 24,
   "id": "91af7bad-bab0-4ae7-ad47-d101f09ff029",
   "metadata": {},
   "outputs": [],
   "source": [
    "keep_files = []\n",
    "\n",
    "for f in files_in_folder:\n",
    "    \n",
    "    if f.suffix == '.ipynb':\n",
    "        \n",
    "        keep_files.append(f)"
   ]
  },
  {
   "cell_type": "code",
   "execution_count": 26,
   "id": "1b275ec3-1bc6-4ba9-9835-6f1be5afdf90",
   "metadata": {},
   "outputs": [
    {
     "data": {
      "text/plain": [
       "[PosixPath('/Users/gw18g940/GoogleDrive/DSL/Trainings/Crash_Course_DataSciPy/Day1/06-Flow_control.ipynb'),\n",
       " PosixPath('/Users/gw18g940/GoogleDrive/DSL/Trainings/Crash_Course_DataSciPy/Day1/03-Functions_packages.ipynb'),\n",
       " PosixPath('/Users/gw18g940/GoogleDrive/DSL/Trainings/Crash_Course_DataSciPy/Day1/05-File_handling.ipynb'),\n",
       " PosixPath('/Users/gw18g940/GoogleDrive/DSL/Trainings/Crash_Course_DataSciPy/Day1/02-Variables.ipynb'),\n",
       " PosixPath('/Users/gw18g940/GoogleDrive/DSL/Trainings/Crash_Course_DataSciPy/Day1/01-Notebooks.ipynb'),\n",
       " PosixPath('/Users/gw18g940/GoogleDrive/DSL/Trainings/Crash_Course_DataSciPy/Day1/04-Data_structures.ipynb')]"
      ]
     },
     "execution_count": 26,
     "metadata": {},
     "output_type": "execute_result"
    }
   ],
   "source": [
    "keep_files"
   ]
  },
  {
   "cell_type": "markdown",
   "id": "f7b86016-7732-424f-a488-8d032dc4cda1",
   "metadata": {},
   "source": [
    "## Exercise\n",
    "\n",
    "Here's a list of numbers. Create two new lists, one containing numbers larger than 50 the other smaller than 50, using a for loop and if statements.\n",
    "\n",
    "exercise_list = [53, 2, 9, 21, 35, 97, 46, 101, 43]"
   ]
  }
 ],
 "metadata": {
  "kernelspec": {
   "display_name": "DSPy2025",
   "language": "python",
   "name": "python3"
  },
  "language_info": {
   "codemirror_mode": {
    "name": "ipython",
    "version": 3
   },
   "file_extension": ".py",
   "mimetype": "text/x-python",
   "name": "python",
   "nbconvert_exporter": "python",
   "pygments_lexer": "ipython3",
   "version": "3.12.11"
  }
 },
 "nbformat": 4,
 "nbformat_minor": 5
}
