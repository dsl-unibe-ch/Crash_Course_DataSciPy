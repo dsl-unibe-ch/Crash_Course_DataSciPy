{
 "cells": [
  {
   "cell_type": "markdown",
   "id": "f7288c46-6ddd-4b89-9eef-9e3fc8130c9a",
   "metadata": {},
   "source": [
    "# File handling\n",
    "\n",
    "Data are often stored in multiple files or folders that need to be read. Python has several modules and functions to help handling files and especially file paths that will save you a lot of manual work. We review some of those functionalities."
   ]
  },
  {
   "cell_type": "markdown",
   "id": "cbe59a7c-dd47-4622-b218-477262e951ff",
   "metadata": {},
   "source": [
    "## Pathlib\n",
    "\n",
    "Whenever you want to read a file, you need to specify its location on your computer. You can usually do that in a relative or absolute manner:\n",
    "\n",
    "- relative: indicate the location of the file *respective* to your current location (usually the location of the notebook)\n",
    "- absolute: indicate the full path of your file on your system\n",
    "\n",
    "You can often specify a path using a simple string, but this can be tedious, as you will for example of the construct paths of subfolders \"manually\". We highly recommend to use the ```pathlib``` module which provides a lot of very useful tools to handle path names, extensions etc.\n",
    "\n",
    "First we use the ```Path``` object to define the path of the folder containing data. For example we might want to specify that the location is \"right here\" using a dot:"
   ]
  },
  {
   "cell_type": "code",
   "execution_count": 2,
   "id": "b812aece-19ae-4815-80b8-cab77a295d36",
   "metadata": {},
   "outputs": [],
   "source": [
    "from pathlib import Path"
   ]
  },
  {
   "cell_type": "code",
   "execution_count": 3,
   "id": "b5dc31db-63b6-4063-a8e7-042b8f7c1a18",
   "metadata": {},
   "outputs": [],
   "source": [
    "folder = Path('.')"
   ]
  },
  {
   "cell_type": "markdown",
   "id": "79d69582-6ae6-4c84-918b-6e49a9f075ae",
   "metadata": {},
   "source": [
    "```folder``` is not just a string containing '.' but an actual object that is much more useful. For example we can ask for the absolute path:"
   ]
  },
  {
   "cell_type": "code",
   "execution_count": 15,
   "id": "902a4a18-14cb-4048-8493-9d7d08831597",
   "metadata": {},
   "outputs": [],
   "source": [
    "folder = folder.absolute()"
   ]
  },
  {
   "cell_type": "markdown",
   "id": "03ce67de-9625-4f05-951d-ed3622f2cced",
   "metadata": {},
   "source": [
    "or we can ask if the defined path is a folder:"
   ]
  },
  {
   "cell_type": "code",
   "execution_count": 16,
   "id": "6c6ee5bb-e2be-449f-9d88-eb15671dae04",
   "metadata": {},
   "outputs": [
    {
     "data": {
      "text/plain": [
       "True"
      ]
     },
     "execution_count": 16,
     "metadata": {},
     "output_type": "execute_result"
    }
   ],
   "source": [
    "folder.is_dir()"
   ]
  },
  {
   "cell_type": "code",
   "execution_count": 17,
   "id": "e0c76c57-6e73-4276-a480-fd8be902b906",
   "metadata": {},
   "outputs": [
    {
     "data": {
      "text/plain": [
       "False"
      ]
     },
     "execution_count": 17,
     "metadata": {},
     "output_type": "execute_result"
    }
   ],
   "source": [
    "folder.is_file()"
   ]
  },
  {
   "cell_type": "markdown",
   "id": "fc7d5e3c-d019-4acf-82b5-efde836261e7",
   "metadata": {},
   "source": [
    "There are also many usueful functions to handle the path itself. For example if you have a folder and a file name, you can simply join them with:"
   ]
  },
  {
   "cell_type": "code",
   "execution_count": 19,
   "id": "985d05d3-c40e-41f6-8d4d-37de952081df",
   "metadata": {},
   "outputs": [
    {
     "data": {
      "text/plain": [
       "PosixPath('/Users/gw18g940/GoogleDrive/DSL/Trainings/Crash_Course_DataSciPy/Day1/myfile.txt')"
      ]
     },
     "execution_count": 19,
     "metadata": {},
     "output_type": "execute_result"
    }
   ],
   "source": [
    "folder.joinpath('myfile.txt')"
   ]
  },
  {
   "cell_type": "markdown",
   "id": "00f87404-355a-4980-9988-9080acc5e613",
   "metadata": {},
   "source": [
    "This spares you the hassle of adding slashes, making sure your code will work on an other OS etc."
   ]
  },
  {
   "cell_type": "markdown",
   "id": "b353c863-a362-4f4e-ab7d-2939abbda369",
   "metadata": {},
   "source": [
    "### Listing files\n",
    "\n",
    "Now we can use methods attached to this path object to explore its contents. For example we can check the folder contents with ```iterdir```"
   ]
  },
  {
   "cell_type": "code",
   "execution_count": 20,
   "id": "8d66d332-f4cc-46fd-9a3f-7749b08e22c0",
   "metadata": {},
   "outputs": [],
   "source": [
    "files_in_folder = folder.iterdir()"
   ]
  },
  {
   "cell_type": "markdown",
   "id": "b5294b99-6194-4a2c-b01a-423b42992e4e",
   "metadata": {},
   "source": [
    "As you can see, the returned object is a *generator*. We haven't seen yet this object which is very specific to Python. It is a sort of a list whose contents can be queried one after the other, for example using the ```next``` statement:"
   ]
  },
  {
   "cell_type": "code",
   "execution_count": 21,
   "id": "3cab5f9a-1a7b-4d47-bfbd-e1568e54b55d",
   "metadata": {},
   "outputs": [
    {
     "data": {
      "text/plain": [
       "PosixPath('/Users/gw18g940/GoogleDrive/DSL/Trainings/Crash_Course_DataSciPy/Day1/06-Flow_control.ipynb')"
      ]
     },
     "execution_count": 21,
     "metadata": {},
     "output_type": "execute_result"
    }
   ],
   "source": [
    "next(files_in_folder)"
   ]
  },
  {
   "cell_type": "markdown",
   "id": "61eba9a9-3db2-48e4-946b-80211315361c",
   "metadata": {},
   "source": [
    "For the moment we just transform this generator into a regular list:"
   ]
  },
  {
   "cell_type": "code",
   "execution_count": 22,
   "id": "6568a98f-8cd4-42ea-869e-dcc2e3a278c8",
   "metadata": {},
   "outputs": [
    {
     "data": {
      "text/plain": [
       "[PosixPath('/Users/gw18g940/GoogleDrive/DSL/Trainings/Crash_Course_DataSciPy/Day1/06-Flow_control.ipynb'),\n",
       " PosixPath('/Users/gw18g940/GoogleDrive/DSL/Trainings/Crash_Course_DataSciPy/Day1/environment.yml'),\n",
       " PosixPath('/Users/gw18g940/GoogleDrive/DSL/Trainings/Crash_Course_DataSciPy/Day1/03-Functions_packages.ipynb'),\n",
       " PosixPath('/Users/gw18g940/GoogleDrive/DSL/Trainings/Crash_Course_DataSciPy/Day1/README.md'),\n",
       " PosixPath('/Users/gw18g940/GoogleDrive/DSL/Trainings/Crash_Course_DataSciPy/Day1/05-File_handling.ipynb'),\n",
       " PosixPath('/Users/gw18g940/GoogleDrive/DSL/Trainings/Crash_Course_DataSciPy/Day1/02-Variables.ipynb'),\n",
       " PosixPath('/Users/gw18g940/GoogleDrive/DSL/Trainings/Crash_Course_DataSciPy/Day1/01-Notebooks.ipynb'),\n",
       " PosixPath('/Users/gw18g940/GoogleDrive/DSL/Trainings/Crash_Course_DataSciPy/Day1/04-Data_structures.ipynb')]"
      ]
     },
     "execution_count": 22,
     "metadata": {},
     "output_type": "execute_result"
    }
   ],
   "source": [
    "files_in_folder = folder.iterdir()\n",
    "\n",
    "files_in_folder = list(files_in_folder)\n",
    "\n",
    "files_in_folder"
   ]
  },
  {
   "cell_type": "markdown",
   "id": "3b92246e-8b8f-4087-a85b-4a80e24d580c",
   "metadata": {},
   "source": [
    "### Investigating files\n",
    "\n",
    "Our goal will be to analyze all the notebook files in that folder. However we will need to do some clean-up first as some of the files should be discarded.\n",
    "\n",
    "Again, each of the elements of ```files_in_folder``` is a ```Path``` object and we can get multiple features such as: \n",
    "- the folder the file belongs to:"
   ]
  },
  {
   "cell_type": "code",
   "execution_count": 23,
   "id": "1f71d7c9-6a5f-4c26-8cda-a523ad6cba78",
   "metadata": {},
   "outputs": [
    {
     "data": {
      "text/plain": [
       "PosixPath('/Users/gw18g940/GoogleDrive/DSL/Trainings/Crash_Course_DataSciPy/Day1')"
      ]
     },
     "execution_count": 23,
     "metadata": {},
     "output_type": "execute_result"
    }
   ],
   "source": [
    "files_in_folder[0].parent"
   ]
  },
  {
   "cell_type": "markdown",
   "id": "f62f7566-c986-42e0-a024-47df6398051e",
   "metadata": {},
   "source": [
    "- the name of the file:"
   ]
  },
  {
   "cell_type": "code",
   "execution_count": 24,
   "id": "7819cb2d-63b1-4674-a821-f5b26aca81af",
   "metadata": {},
   "outputs": [
    {
     "data": {
      "text/plain": [
       "'06-Flow_control.ipynb'"
      ]
     },
     "execution_count": 24,
     "metadata": {},
     "output_type": "execute_result"
    }
   ],
   "source": [
    "files_in_folder[0].name"
   ]
  },
  {
   "cell_type": "markdown",
   "id": "0d3a2ec7-d92f-480d-a98b-04d3dfe6da57",
   "metadata": {},
   "source": [
    "- the two parts of the file: name and extension:"
   ]
  },
  {
   "cell_type": "code",
   "execution_count": 25,
   "id": "96fd65f5-8e22-483f-80a5-d6bc98476b60",
   "metadata": {},
   "outputs": [
    {
     "data": {
      "text/plain": [
       "'06-Flow_control'"
      ]
     },
     "execution_count": 25,
     "metadata": {},
     "output_type": "execute_result"
    }
   ],
   "source": [
    "files_in_folder[0].stem"
   ]
  },
  {
   "cell_type": "code",
   "execution_count": 26,
   "id": "aada4772-1805-4a37-93d4-426f8fe13942",
   "metadata": {},
   "outputs": [
    {
     "data": {
      "text/plain": [
       "'.ipynb'"
      ]
     },
     "execution_count": 26,
     "metadata": {},
     "output_type": "execute_result"
    }
   ],
   "source": [
    "files_in_folder[0].suffix"
   ]
  },
  {
   "cell_type": "markdown",
   "id": "601ca230-757d-40c2-b3d3-d69853f97759",
   "metadata": {},
   "source": [
    "While all these elements could be recovered from a path represented as a simple string, the ```Path``` object just makes this massively easier, so we definitely recommend to use it!"
   ]
  },
  {
   "cell_type": "markdown",
   "id": "73564e95-9d9f-400f-9cb6-065e782e784d",
   "metadata": {},
   "source": [
    "## Other functions and modules\n",
    "\n",
    "A few other functionalities are useful to know. For example you can directly find files containing certain sub-texts using the `glob` function:"
   ]
  },
  {
   "cell_type": "code",
   "execution_count": 28,
   "id": "57d10d95",
   "metadata": {},
   "outputs": [
    {
     "data": {
      "text/plain": [
       "<generator object Path.glob at 0x105766790>"
      ]
     },
     "execution_count": 28,
     "metadata": {},
     "output_type": "execute_result"
    }
   ],
   "source": [
    "folder.glob('*.ipynb')"
   ]
  },
  {
   "cell_type": "markdown",
   "id": "e244724e",
   "metadata": {},
   "source": [
    "The `os` module can also be very useful. It gives you a lot of information about your system, includng current location etc. For example:"
   ]
  },
  {
   "cell_type": "code",
   "execution_count": 29,
   "id": "7c04ad69",
   "metadata": {},
   "outputs": [
    {
     "data": {
      "text/plain": [
       "'/Users/gw18g940/GoogleDrive/DSL/Trainings/Crash_Course_DataSciPy/Day1'"
      ]
     },
     "execution_count": 29,
     "metadata": {},
     "output_type": "execute_result"
    }
   ],
   "source": [
    "import os\n",
    "\n",
    "os.getcwd()"
   ]
  },
  {
   "cell_type": "markdown",
   "id": "d8a084fb",
   "metadata": {},
   "source": [
    "Here we can see that the current location is the folder where this notebook is located. Naturally, we can transform the returned path into a `Path` object to further manipulate it:"
   ]
  },
  {
   "cell_type": "code",
   "execution_count": 31,
   "id": "f699f91a",
   "metadata": {},
   "outputs": [
    {
     "data": {
      "text/plain": [
       "PosixPath('/Users/gw18g940/GoogleDrive/DSL/Trainings/Crash_Course_DataSciPy/Day1')"
      ]
     },
     "execution_count": 31,
     "metadata": {},
     "output_type": "execute_result"
    }
   ],
   "source": [
    "Path(os.getcwd())"
   ]
  },
  {
   "cell_type": "markdown",
   "id": "afe2f929",
   "metadata": {},
   "source": [
    "We can also create new directories using the `mkdir` method:"
   ]
  },
  {
   "cell_type": "code",
   "execution_count": 33,
   "id": "66a0ea3b",
   "metadata": {},
   "outputs": [],
   "source": [
    "newfolder = folder.joinpath('newfolder')\n",
    "newfolder.mkdir(parents=True, exist_ok=True)"
   ]
  },
  {
   "cell_type": "markdown",
   "id": "3de00f39",
   "metadata": {},
   "source": [
    "## Exeracise\n",
    "\n",
    "1. Create a Path object that points ot the main course reposiitory on your computer (the one containing the Da1, Day2 etc. folders).\n",
    "2. Create a list of the contents of that directory.\n",
    "3. For a few of the files, check if they are files or directories.\n",
    "4. Create a new folder in that directory called `myfolder`."
   ]
  },
  {
   "cell_type": "markdown",
   "id": "d98d944f",
   "metadata": {},
   "source": []
  }
 ],
 "metadata": {
  "kernelspec": {
   "display_name": "DSPy2025",
   "language": "python",
   "name": "python3"
  },
  "language_info": {
   "codemirror_mode": {
    "name": "ipython",
    "version": 3
   },
   "file_extension": ".py",
   "mimetype": "text/x-python",
   "name": "python",
   "nbconvert_exporter": "python",
   "pygments_lexer": "ipython3",
   "version": "3.12.11"
  }
 },
 "nbformat": 4,
 "nbformat_minor": 5
}
