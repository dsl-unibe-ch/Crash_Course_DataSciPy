{
 "cells": [
  {
   "cell_type": "markdown",
   "id": "66ce7a2d-ac19-4dbf-9690-e6ccfe41b4cf",
   "metadata": {},
   "source": [
    "# Variables\n",
    "\n",
    "In the first chapter we just have seen how we could execute a simple code like ```a = 5```. What happens there is the definition of a variable, a symbol containing a value. This is the same principle as when we define a variable in mathematics: it's a representation of a number that can take different values and that we can re-use across equations. Just like in mathematics we can define variables of different nature. For example we can define that a variable is an integer, or a matrix or even a function.\n",
    "\n",
    "As you have seen above, Python has a very natural way of defining variables, just like in mathematics:"
   ]
  },
  {
   "cell_type": "code",
   "execution_count": 1,
   "id": "a5f45def-9bf7-4a6a-a000-f068cc84d802",
   "metadata": {},
   "outputs": [],
   "source": [
    "a = 3"
   ]
  },
  {
   "cell_type": "markdown",
   "id": "6a062da5-000e-4ec2-b2c7-4cc9e541b5c7",
   "metadata": {},
   "source": [
    "Note that this is different from many other languages where often variables have to be defined *before* giving them a value."
   ]
  },
  {
   "cell_type": "markdown",
   "id": "be2f1926-ca1b-4dbb-a687-4b52c1848605",
   "metadata": {},
   "source": [
    "If a variable has been defined and we just add it to a cell end execute, we get:"
   ]
  },
  {
   "cell_type": "code",
   "execution_count": 3,
   "id": "0e707ec1-816c-4eb3-868f-7981c09e0544",
   "metadata": {},
   "outputs": [
    {
     "data": {
      "text/plain": [
       "3"
      ]
     },
     "execution_count": 3,
     "metadata": {},
     "output_type": "execute_result"
    }
   ],
   "source": [
    "a"
   ]
  },
  {
   "cell_type": "markdown",
   "id": "2ea635b0-bb5f-4ffb-a956-6df964776c3b",
   "metadata": {},
   "source": [
    "We see that now we get an *output* with the value ```3```. Most variables display an output when they are not involved in an operation. For example the line ```a = 3``` didn't have an output.\n",
    "\n",
    "Now we can define other variables in a new cell. Note that we can put as **many lines** of commands as we want in a single cell. Each command just need to be on a new line."
   ]
  },
  {
   "cell_type": "code",
   "execution_count": 2,
   "id": "bd710972-659a-493c-9494-4f5b5b988ce5",
   "metadata": {},
   "outputs": [],
   "source": [
    "b = 5\n",
    "c = 2"
   ]
  },
  {
   "cell_type": "markdown",
   "id": "481a39ad-ba13-4622-b7f1-6d9fec4debac",
   "metadata": {},
   "source": [
    "As variables are defined for the entire notebook we can combine information that comes from multiple cells. Here we do some basic mathematics:"
   ]
  },
  {
   "cell_type": "code",
   "execution_count": 3,
   "id": "d0dfab15-7155-4799-b2ba-39bc72034b44",
   "metadata": {},
   "outputs": [
    {
     "data": {
      "text/plain": [
       "8"
      ]
     },
     "execution_count": 3,
     "metadata": {},
     "output_type": "execute_result"
    }
   ],
   "source": [
    "a + b"
   ]
  },
  {
   "cell_type": "markdown",
   "id": "30bd6648-6a78-4439-b01c-2c5e75a7e1b7",
   "metadata": {},
   "source": [
    "Here we only see the output. We can't re-use that ouput for further calculations as we didn't define a new variable to contain it. Here we do it:"
   ]
  },
  {
   "cell_type": "code",
   "execution_count": 4,
   "id": "d8d7d721-0b21-45ac-a06d-900badb3bb25",
   "metadata": {},
   "outputs": [],
   "source": [
    "d = a + b"
   ]
  },
  {
   "cell_type": "code",
   "execution_count": 5,
   "id": "071dd223-47e3-489b-96f0-7c0745940a29",
   "metadata": {},
   "outputs": [
    {
     "data": {
      "text/plain": [
       "8"
      ]
     },
     "execution_count": 5,
     "metadata": {},
     "output_type": "execute_result"
    }
   ],
   "source": [
    "d"
   ]
  },
  {
   "cell_type": "markdown",
   "id": "09779ac4-e719-4a7d-b101-b23c68c60e70",
   "metadata": {},
   "source": [
    "```d``` is now a new variable. It is purely numerical and not a mathematical formula as the above cell could make you believe. For example if we change the value of ```a```:"
   ]
  },
  {
   "cell_type": "code",
   "execution_count": 6,
   "id": "b13f612f-f9a2-4bf0-8dae-8a9b44e29a00",
   "metadata": {},
   "outputs": [],
   "source": [
    "a = 100"
   ]
  },
  {
   "cell_type": "markdown",
   "id": "039d2d0d-7e53-4ddb-82ca-f46c6c27bfbf",
   "metadata": {},
   "source": [
    "and check the value of ```d```:"
   ]
  },
  {
   "cell_type": "code",
   "execution_count": 7,
   "id": "1c3757c0-1896-4e4c-8f62-5980198fce43",
   "metadata": {},
   "outputs": [
    {
     "data": {
      "text/plain": [
       "8"
      ]
     },
     "execution_count": 7,
     "metadata": {},
     "output_type": "execute_result"
    }
   ],
   "source": [
    "d"
   ]
  },
  {
   "cell_type": "markdown",
   "id": "af99b1fd-33ff-43f8-a0fb-c1433bba7c99",
   "metadata": {},
   "source": [
    "it has not changed. We would have to rerun the operation and assign it again to ```d``` for it to update:"
   ]
  },
  {
   "cell_type": "code",
   "execution_count": 8,
   "id": "65deff88-bef2-457d-9eef-7fe312a6552c",
   "metadata": {},
   "outputs": [
    {
     "data": {
      "text/plain": [
       "105"
      ]
     },
     "execution_count": 8,
     "metadata": {},
     "output_type": "execute_result"
    }
   ],
   "source": [
    "d = a + b\n",
    "d"
   ]
  },
  {
   "cell_type": "markdown",
   "id": "3c3871a7",
   "metadata": {},
   "source": [
    "## Type inference\n",
    "\n",
    "When we write ```a = 5``` we don't explictly say what **type** of variable we want. By type we mean: do we want an integer number, a floating type number etc. This work is done by Python, which infers what we want. We can use the ```type``` function to get the type of a variable:"
   ]
  },
  {
   "cell_type": "code",
   "execution_count": 9,
   "id": "a096c866",
   "metadata": {},
   "outputs": [
    {
     "data": {
      "text/plain": [
       "int"
      ]
     },
     "execution_count": 9,
     "metadata": {},
     "output_type": "execute_result"
    }
   ],
   "source": [
    "type(a)"
   ]
  },
  {
   "cell_type": "markdown",
   "id": "2852233b",
   "metadata": {},
   "source": [
    "Let's try to define a variable of a different type, for example a floating point number:"
   ]
  },
  {
   "cell_type": "code",
   "execution_count": 10,
   "id": "4a7bda1b",
   "metadata": {},
   "outputs": [],
   "source": [
    "e = 2.5"
   ]
  },
  {
   "cell_type": "code",
   "execution_count": 11,
   "id": "bda06064",
   "metadata": {},
   "outputs": [
    {
     "data": {
      "text/plain": [
       "float"
      ]
     },
     "execution_count": 11,
     "metadata": {},
     "output_type": "execute_result"
    }
   ],
   "source": [
    "type(e)"
   ]
  },
  {
   "cell_type": "markdown",
   "id": "a73b9c06",
   "metadata": {},
   "source": [
    "We see that now, as we have used a variable with a commma (floating point), the type of the variable is not more ```int``` but ```float```. When we combine different variables, Python assumes we want to keep the most accurate result. So if we combine an integer and a float we get a float:"
   ]
  },
  {
   "cell_type": "code",
   "execution_count": 12,
   "id": "ee09f04f",
   "metadata": {},
   "outputs": [
    {
     "data": {
      "text/plain": [
       "float"
      ]
     },
     "execution_count": 12,
     "metadata": {},
     "output_type": "execute_result"
    }
   ],
   "source": [
    "f = a + e\n",
    "type(f)"
   ]
  },
  {
   "cell_type": "markdown",
   "id": "e88067b9",
   "metadata": {},
   "source": [
    "## Simple operations\n",
    "\n",
    "We can apply all simple mathematical operations to these variables, like addition, subtraction, multiplication and division:"
   ]
  },
  {
   "cell_type": "code",
   "execution_count": 28,
   "id": "6a467126",
   "metadata": {},
   "outputs": [
    {
     "data": {
      "text/plain": [
       "20.0"
      ]
     },
     "execution_count": 28,
     "metadata": {},
     "output_type": "execute_result"
    }
   ],
   "source": [
    "a + b\n",
    "a - b\n",
    "a * b\n",
    "a / b"
   ]
  },
  {
   "cell_type": "markdown",
   "id": "304ab96a",
   "metadata": {},
   "source": [
    "In addition, we can also raise a number to a power using the `**` operator:"
   ]
  },
  {
   "cell_type": "code",
   "execution_count": 29,
   "id": "919a5eea",
   "metadata": {},
   "outputs": [
    {
     "data": {
      "text/plain": [
       "1000000"
      ]
     },
     "execution_count": 29,
     "metadata": {},
     "output_type": "execute_result"
    }
   ],
   "source": [
    "a ** 3"
   ]
  },
  {
   "cell_type": "markdown",
   "id": "af714553",
   "metadata": {},
   "source": [
    "# String variables\n",
    "\n",
    "After numbers, another very common type of variable is a string. A string is a sequence of characters, which can be letters, numbers or symbols. In Python we can define a string by using single quotes or double quotes:"
   ]
  },
  {
   "cell_type": "code",
   "execution_count": 14,
   "id": "0f036165-5fbf-420e-bbc3-7254f9206eba",
   "metadata": {},
   "outputs": [
    {
     "data": {
      "text/plain": [
       "'This is my text'"
      ]
     },
     "execution_count": 14,
     "metadata": {},
     "output_type": "execute_result"
    }
   ],
   "source": [
    "my_text = 'This is my text'\n",
    "my_text"
   ]
  },
  {
   "cell_type": "code",
   "execution_count": 15,
   "id": "45ad9a74",
   "metadata": {},
   "outputs": [
    {
     "data": {
      "text/plain": [
       "str"
      ]
     },
     "execution_count": 15,
     "metadata": {},
     "output_type": "execute_result"
    }
   ],
   "source": [
    "type(my_text)"
   ]
  },
  {
   "cell_type": "markdown",
   "id": "7504233c",
   "metadata": {},
   "source": [
    "Strings can be be combined with each other by using the ```+``` symbol:"
   ]
  },
  {
   "cell_type": "code",
   "execution_count": 18,
   "id": "760e57e7",
   "metadata": {},
   "outputs": [
    {
     "data": {
      "text/plain": [
       "'This is my text and this is more text'"
      ]
     },
     "execution_count": 18,
     "metadata": {},
     "output_type": "execute_result"
    }
   ],
   "source": [
    "my_text + ' and this is more text'"
   ]
  },
  {
   "cell_type": "markdown",
   "id": "3c32dbaf",
   "metadata": {},
   "source": [
    "We can also combine strings with numbers, but we need to convert the number to a string first:"
   ]
  },
  {
   "cell_type": "code",
   "execution_count": 20,
   "id": "74409259",
   "metadata": {},
   "outputs": [
    {
     "data": {
      "text/plain": [
       "100"
      ]
     },
     "execution_count": 20,
     "metadata": {},
     "output_type": "execute_result"
    }
   ],
   "source": [
    "a"
   ]
  },
  {
   "cell_type": "code",
   "execution_count": 22,
   "id": "0f039711",
   "metadata": {},
   "outputs": [
    {
     "data": {
      "text/plain": [
       "'This is my text100'"
      ]
     },
     "execution_count": 22,
     "metadata": {},
     "output_type": "execute_result"
    }
   ],
   "source": [
    "my_text + str(a)"
   ]
  },
  {
   "cell_type": "markdown",
   "id": "78db9f64",
   "metadata": {},
   "source": [
    "## f-strings\n",
    "\n",
    "Combining text and variables as done above can often becomes complicated depending on the type of numbers. f-strigns offere us a very simple way of combininig text and variables together. We prepend our string with ```f``` and then we can enclose any variable into curly parenthesis ```{}```:"
   ]
  },
  {
   "cell_type": "code",
   "execution_count": 23,
   "id": "7a0e4ed8",
   "metadata": {},
   "outputs": [
    {
     "data": {
      "text/plain": [
       "'the value of a is 100'"
      ]
     },
     "execution_count": 23,
     "metadata": {},
     "output_type": "execute_result"
    }
   ],
   "source": [
    "f'the value of a is {a}'"
   ]
  },
  {
   "cell_type": "markdown",
   "id": "55f65a6f-bf8f-4ae4-a4af-095978a34440",
   "metadata": {},
   "source": [
    "## Booleans\n",
    "\n",
    "The last type of variable introduced here is the boolean, a variable indicating just a binary values Yes/No, very useful for example to define conditions. In this case its value can be either ```True``` or ```False```. We can define it directly:"
   ]
  },
  {
   "cell_type": "code",
   "execution_count": 24,
   "id": "b2318542",
   "metadata": {},
   "outputs": [],
   "source": [
    "mybool = True\n",
    "mybool2 = False"
   ]
  },
  {
   "cell_type": "markdown",
   "id": "5501b0ff",
   "metadata": {},
   "source": [
    "or it can can be the value returned when doing a comparison, for example:"
   ]
  },
  {
   "cell_type": "code",
   "execution_count": 25,
   "id": "fa548c30",
   "metadata": {},
   "outputs": [
    {
     "data": {
      "text/plain": [
       "True"
      ]
     },
     "execution_count": 25,
     "metadata": {},
     "output_type": "execute_result"
    }
   ],
   "source": [
    "a > 3"
   ]
  },
  {
   "cell_type": "markdown",
   "id": "a921c5f0",
   "metadata": {},
   "source": [
    "We can save this output into a new boolan variable:"
   ]
  },
  {
   "cell_type": "code",
   "execution_count": 27,
   "id": "bc81e879",
   "metadata": {},
   "outputs": [
    {
     "data": {
      "text/plain": [
       "True"
      ]
     },
     "execution_count": 27,
     "metadata": {},
     "output_type": "execute_result"
    }
   ],
   "source": [
    "myresult = a > 3\n",
    "myresult"
   ]
  },
  {
   "cell_type": "markdown",
   "id": "1ce8009c-fa28-4cf0-93b6-2dd875b06c90",
   "metadata": {},
   "source": [
    "## Exercises\n",
    "\n",
    "1. Create a variable `x` with the value 10, and another variable `y` with the value 20.5. Create a new variable `z` that is the sum of `x` and `y`. \n",
    "2. Print the value of `z` and its type.\n",
    "3. Create a variable `name` with your name as a string and a variable `age` with your age. Print a message that says \"Hello your-name>, you are your-age years old!\" using an f-string.\n",
    "3. Create a boolean variable by checking if you are older than 25."
   ]
  }
 ],
 "metadata": {
  "kernelspec": {
   "display_name": "DSPy2025",
   "language": "python",
   "name": "python3"
  },
  "language_info": {
   "codemirror_mode": {
    "name": "ipython",
    "version": 3
   },
   "file_extension": ".py",
   "mimetype": "text/x-python",
   "name": "python",
   "nbconvert_exporter": "python",
   "pygments_lexer": "ipython3",
   "version": "3.12.11"
  }
 },
 "nbformat": 4,
 "nbformat_minor": 5
}
