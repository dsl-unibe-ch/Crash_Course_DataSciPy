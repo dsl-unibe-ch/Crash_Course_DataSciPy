{
 "cells": [
  {
   "cell_type": "markdown",
   "id": "3b2f1d66",
   "metadata": {},
   "source": [
    "# Classes\n",
    "\n",
    "In the previous chapters we have used variables that are more than just variables: for example we have seen that some functions are attached to strings like the `capitalize` function:"
   ]
  },
  {
   "cell_type": "code",
   "execution_count": 2,
   "id": "dc634956",
   "metadata": {},
   "outputs": [
    {
     "data": {
      "text/plain": [
       "'This is my text'"
      ]
     },
     "execution_count": 2,
     "metadata": {},
     "output_type": "execute_result"
    }
   ],
   "source": [
    "mystring = 'this is my text'\n",
    "mystring.capitalize()\n"
   ]
  },
  {
   "cell_type": "markdown",
   "id": "648df773",
   "metadata": {},
   "source": [
    "We have also seen the `Path` object that we use to define paths that are not just strings:"
   ]
  },
  {
   "cell_type": "code",
   "execution_count": 13,
   "id": "8849d4aa",
   "metadata": {},
   "outputs": [],
   "source": [
    "from pathlib import Path\n",
    "\n",
    "current_path = Path('../Day2').absolute()"
   ]
  },
  {
   "cell_type": "markdown",
   "id": "e50e79c5",
   "metadata": {},
   "source": [
    "The path objects have properties attached to them:"
   ]
  },
  {
   "cell_type": "code",
   "execution_count": 14,
   "id": "a74cbcb4",
   "metadata": {},
   "outputs": [
    {
     "data": {
      "text/plain": [
       "PosixPath('/Users/gw18g940/GoogleDrive/DSL/Trainings/Crash_Course_DataSciPy/Day1/..')"
      ]
     },
     "execution_count": 14,
     "metadata": {},
     "output_type": "execute_result"
    }
   ],
   "source": [
    "current_path.parent"
   ]
  },
  {
   "cell_type": "markdown",
   "id": "15dd7f05",
   "metadata": {},
   "source": [
    "and functions:"
   ]
  },
  {
   "cell_type": "code",
   "execution_count": 15,
   "id": "de0cb442",
   "metadata": {},
   "outputs": [
    {
     "data": {
      "text/plain": [
       "<generator object Path.glob at 0x106a93bc0>"
      ]
     },
     "execution_count": 15,
     "metadata": {},
     "output_type": "execute_result"
    }
   ],
   "source": [
    "current_path.glob('*')"
   ]
  },
  {
   "cell_type": "markdown",
   "id": "d127f0a1",
   "metadata": {},
   "source": [
    "Both the simple string variables and the path objects defined above are actually instances of **objects**, where **objects** can be broadly seen as variables to which multiple properties and functions, called **methods** are attached. Python has the peculiarity that *every* variable actually is an object instance! You will find many packages that provide objects with diverse functionalities, and sometimes you will even have to create your own classes or sub-classes, for example when creating deep learning models."
   ]
  },
  {
   "cell_type": "markdown",
   "id": "8350aac6",
   "metadata": {},
   "source": [
    "## Classes, instances etc.\n",
    "\n",
    "Classes are working in the following way. \n",
    "\n",
    "First, one defines an example of an object as a class, inclusing all its properties and methods. This can be seen as an \"idealized\" version of the object, like when you broadly describe a domestic animal: it has for example a species, a name, a height. You also know whether it has fur, which is the case of most domestic animals, and also how much it eats per day. This is how it's done:"
   ]
  },
  {
   "cell_type": "code",
   "execution_count": 9,
   "id": "4d81eeda",
   "metadata": {},
   "outputs": [],
   "source": [
    "class Animal:\n",
    "    def __init__(self, name, age, species, food_per_day, has_fur=True):\n",
    "        self.species = species\n",
    "        self.name = name\n",
    "        self.age = age\n",
    "        self.food_per_day = food_per_day\n",
    "        self.has_fur = has_fur\n",
    "\n",
    "    def food_period(self, days):\n",
    "        return self.food_per_day * days"
   ]
  },
  {
   "cell_type": "markdown",
   "id": "ef74ca58",
   "metadata": {},
   "source": [
    "Let's look in detail what is done here. \n",
    "1. wFirst we use the `class` keyword to indicate we want to create a class. We also give it the name `Animal`\n",
    "2. We define functions, i.e. methods, inside the class (indented). The `__init__` function is special and gets executed the first time we use the class. It takes as input all the variables we want to be able to specify for a given animal, in this case: the name, age, species, quantity of food per day. The `has_true` parameter is optional and set to `True` by default as most animals do have fur. We see that insisde the function the parameters are saved *in* the class using the notation `self.parameter`. `self` represents the class itself hence the name.\n",
    "3. Then there is a second method ```food_period```, which returns the food eaten by an animal over a given number of days. It uses internally, the parameter `food_per_day` and a parameter given by the user.\n",
    "\n",
    "Let's see now how we an use this class. For the moment it's just an abstract version of an animal. We now want to create on example, or **instance** of that class for our cat called Woody:"
   ]
  },
  {
   "cell_type": "code",
   "execution_count": 17,
   "id": "c20744c2",
   "metadata": {},
   "outputs": [],
   "source": [
    "woody = Animal(name='Woody', age=10, species='cat', food_per_day=0.2)"
   ]
  },
  {
   "cell_type": "markdown",
   "id": "6e3af642",
   "metadata": {},
   "source": [
    "We see that this works exactly like the `Path` object used above, where `Path` to a single argument as a path string. Here we just have multiple arguments and `woody` is an **instance** of the object. We can query its parameters:"
   ]
  },
  {
   "cell_type": "code",
   "execution_count": 16,
   "id": "d37d102a",
   "metadata": {},
   "outputs": [
    {
     "data": {
      "text/plain": [
       "3"
      ]
     },
     "execution_count": 16,
     "metadata": {},
     "output_type": "execute_result"
    }
   ],
   "source": [
    "woody.age"
   ]
  },
  {
   "cell_type": "markdown",
   "id": "ea90d370",
   "metadata": {},
   "source": [
    "And we can execute its functions. For example if we want to know how much food it eats during a week we can query:"
   ]
  },
  {
   "cell_type": "code",
   "execution_count": 18,
   "id": "b3f8bc58",
   "metadata": {},
   "outputs": [
    {
     "data": {
      "text/plain": [
       "1.4000000000000001"
      ]
     },
     "execution_count": 18,
     "metadata": {},
     "output_type": "execute_result"
    }
   ],
   "source": [
    "woody.food_period(7)"
   ]
  },
  {
   "cell_type": "markdown",
   "id": "51a128df",
   "metadata": {},
   "source": [
    "## Sub-classes\n",
    "\n",
    "What often happens is that we want to use an existing class that contains already a lot of interesting functionalities, but we want to specialize it for a certain application. For example, we may want to have a class specialized for birds. Birds are animals, so we don't have to redefine the same arguments as for the `Animal` class. We can just re-reuse it. However we now add some specialization to it. For example we can indicate if it's a singing bird or not, or how many eggs it currently incubates."
   ]
  },
  {
   "cell_type": "code",
   "execution_count": 19,
   "id": "e9f291a1",
   "metadata": {},
   "outputs": [],
   "source": [
    "class Bird(Animal):\n",
    "    def __init__(self, name, age, species, food_per_day, has_fur=False, singing_bird=False, number_of_eggs=0):\n",
    "        super().__init__(name, age, species, food_per_day, has_fur)\n",
    "        self.singing_bird = singing_bird\n",
    "        self.number_of_eggs = number_of_eggs\n",
    "\n",
    "    def lay_egg(self):\n",
    "        self.number_of_eggs += 1"
   ]
  },
  {
   "cell_type": "markdown",
   "id": "f4dac22c",
   "metadata": {},
   "source": [
    "To re-use the `Animal` class, we\n",
    "1. define a new normal class `Bird` and pass the main class to it as an argument. We see that we chose here to set `has_fur` to False by default. \n",
    "2. use again an `__init__` function to pass arguments, including the *old* and *new* arguments\n",
    "3. use a slightly odd function `super().__init__` that allows us to pass the *old* arguments to the main `Animal` class\n",
    "4. define a new function specific to birds that allows to to increase the numnber of eggs in case the bird is laying new ones.\n",
    "\n",
    "Let's create a bird:"
   ]
  },
  {
   "cell_type": "code",
   "execution_count": 20,
   "id": "c624c992",
   "metadata": {},
   "outputs": [],
   "source": [
    "finch = Bird(name='Finchy', age=2, species='finch', food_per_day=0.05, singing_bird=True)"
   ]
  },
  {
   "cell_type": "markdown",
   "id": "07a291f5",
   "metadata": {},
   "source": [
    "We can now query the number of eggs it has:"
   ]
  },
  {
   "cell_type": "code",
   "execution_count": 21,
   "id": "7497427a",
   "metadata": {},
   "outputs": [],
   "source": [
    "current_eggs = finch.number_of_eggs"
   ]
  },
  {
   "cell_type": "markdown",
   "id": "dd88cfdc",
   "metadata": {},
   "source": [
    "And indicate that the bird just laid an egg:"
   ]
  },
  {
   "cell_type": "code",
   "execution_count": 22,
   "id": "10c90d74",
   "metadata": {},
   "outputs": [
    {
     "data": {
      "text/plain": [
       "1"
      ]
     },
     "execution_count": 22,
     "metadata": {},
     "output_type": "execute_result"
    }
   ],
   "source": [
    "finch.lay_egg()\n",
    "finch.number_of_eggs"
   ]
  },
  {
   "cell_type": "markdown",
   "id": "e06c9559",
   "metadata": {},
   "source": [
    "## Exercise\n",
    "1. Create a Plant class with the properties `height`, `species`, `water_per_week`. Assuming the plan grows by 2cm for each watering, create a method computing the expected growth over a week.\n",
    "2. Create an instance of your favorite plant.\n",
    "3. Create a sub-class for `Flowering` plants. Add a property for the number of flowers and a method that prints \"blooming!\" if there's at least one flower."
   ]
  },
  {
   "cell_type": "markdown",
   "id": "4b77b424",
   "metadata": {},
   "source": []
  }
 ],
 "metadata": {
  "kernelspec": {
   "display_name": "DSPy2025",
   "language": "python",
   "name": "python3"
  },
  "language_info": {
   "codemirror_mode": {
    "name": "ipython",
    "version": 3
   },
   "file_extension": ".py",
   "mimetype": "text/x-python",
   "name": "python",
   "nbconvert_exporter": "python",
   "pygments_lexer": "ipython3",
   "version": "3.12.11"
  }
 },
 "nbformat": 4,
 "nbformat_minor": 5
}
