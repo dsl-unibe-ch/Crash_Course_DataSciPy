{
 "cells": [
  {
   "cell_type": "markdown",
   "id": "cfcf087d",
   "metadata": {},
   "source": [
    "# Notebooks basics\n",
    "\n",
    "In this first chapter, we just give a few hints regarding the usage of notebooks with Python. "
   ]
  },
  {
   "cell_type": "markdown",
   "id": "7a5a9ee6-911a-4f99-84b1-9a5bde1d542b",
   "metadata": {},
   "source": [
    "## What is a notebook\n",
    "\n",
    "This document is a Jupyter notebook. It is a pure text file that contains metadata recognized by VSCode or Jupyter Lab to be rendered corretyl. It is split in many parts called **cells**, which can contain simple text (like this current cell) or lines of code, like the following:"
   ]
  },
  {
   "cell_type": "code",
   "execution_count": null,
   "id": "fb4ff9e5",
   "metadata": {},
   "outputs": [],
   "source": [
    "a = 5"
   ]
  },
  {
   "cell_type": "markdown",
   "id": "c43454e6",
   "metadata": {},
   "source": [
    "## Manipulate cells\n",
    "\n",
    "You can split your code in as many cells as you want. Those cells can also be manipulated in different ways. Fo this you typically select a cell by clicking in the left margin. You can:\n",
    "- use the options on the top right of the cell e.g. to execute, suppress etc. the cell\n",
    "- use the ```...``` menu to have more advanced options e.g. to switch a cell from code to text mode (and vice-versa)\n",
    "- move a cell\n",
    "- merge multiple cells\n",
    "\n",
    "There are a few useful shortcuts to know that will make your life easier. Those shortcuts opperate at the cell level and are typically a single letter. If you are currently editing a cell (i.e. writing in it) you first need to \"get out of it\" by typing ```Esc```. Then you can:\n",
    "\n",
    "- type B to add a cell below the current one\n",
    "- type A to add a cell above the current one\n",
    "- type DD (twice D) to remove the current cell\n",
    "- type M to change the cell to Markdown (text cell)\n",
    "- type Y to change the cell to Code\n",
    "\n",
    "Note that you can also add new Code or Text cells by hovering over the bottom of the current cell and clicking on ```+Cell``` or ```+Markdown```."
   ]
  },
  {
   "cell_type": "markdown",
   "id": "649edc5d",
   "metadata": {},
   "source": [
    "## Executing code\n",
    "\n",
    "A code cell needs to be **executed** for Python to be \"aware\" of the code it contains. Executing means typically that variables like ```a``` are now stored in the computer memory so that they can be reused later. **All** variables defined in a notebook are shared within that notebook (but not in other notebooks).\n",
    "\n",
    "To exectute a cell you can hit ```Shift + Enter``` or use the **play** button on the left of the cell."
   ]
  },
  {
   "cell_type": "code",
   "execution_count": null,
   "id": "2ec839b4",
   "metadata": {},
   "outputs": [],
   "source": [
    "a = 5"
   ]
  },
  {
   "cell_type": "markdown",
   "id": "9ef8a86f",
   "metadata": {},
   "source": [
    "In addition to executing a single cell, you have the option of running all cells above or below the current cell using the options on the top right of the cell. You can also use the ```Run All``` button at the top of the notebook."
   ]
  },
  {
   "cell_type": "markdown",
   "id": "0f45adbe",
   "metadata": {},
   "source": [
    "## Warning on execution\n",
    "\n",
    "### Cleaning\n",
    "\n",
    "While your notebook is running, all commands you have run are \"remembered\". Even if you delete a cell, what was executed in there stays in memory. If you want to clean the memory you have to restart the notebook by using the ```Restart``` button.\n",
    "\n",
    "### Order of execution\n",
    "\n",
    "The order in which cells are executed is arbitrary, i.e. if you have two code cells, you can in prinicple run first the second one and then the first one. For example:"
   ]
  },
  {
   "cell_type": "code",
   "execution_count": 7,
   "id": "a5eac3c8",
   "metadata": {},
   "outputs": [],
   "source": [
    "c = a + b"
   ]
  },
  {
   "cell_type": "code",
   "execution_count": 6,
   "id": "bfdb2ff2",
   "metadata": {},
   "outputs": [],
   "source": [
    "a = 1\n",
    "b = 2"
   ]
  },
  {
   "cell_type": "code",
   "execution_count": 8,
   "id": "3ecc8521",
   "metadata": {},
   "outputs": [],
   "source": [
    "del a\n",
    "del b\n",
    "del c"
   ]
  },
  {
   "cell_type": "markdown",
   "id": "662d7a05",
   "metadata": {},
   "source": [
    "This happens sometimes when writing new code and testing various options. If you restart your notebook or if you send your notebook to someone it is however highly likely that cells will be executed in the normal order i.e.:"
   ]
  },
  {
   "cell_type": "code",
   "execution_count": 9,
   "id": "66cb307e",
   "metadata": {},
   "outputs": [
    {
     "ename": "NameError",
     "evalue": "name 'a' is not defined",
     "output_type": "error",
     "traceback": [
      "\u001b[31m---------------------------------------------------------------------------\u001b[39m",
      "\u001b[31mNameError\u001b[39m                                 Traceback (most recent call last)",
      "\u001b[36mCell\u001b[39m\u001b[36m \u001b[39m\u001b[32mIn[9]\u001b[39m\u001b[32m, line 1\u001b[39m\n\u001b[32m----> \u001b[39m\u001b[32m1\u001b[39m c = \u001b[43ma\u001b[49m + b\n",
      "\u001b[31mNameError\u001b[39m: name 'a' is not defined"
     ]
    }
   ],
   "source": [
    "c = a + b"
   ]
  },
  {
   "cell_type": "markdown",
   "id": "b8908163",
   "metadata": {},
   "source": [
    "In which case, you will see the error above: indeed ```a``` and ```b``` have not been stored in memory yet! **It is therefore strongly recommended to have notebooks run TOP to DOWN in their final form**. This will avoid many issues and misunderstandings."
   ]
  },
  {
   "cell_type": "markdown",
   "id": "f2a12d12-fe14-4655-a22b-9d0038aed30e",
   "metadata": {},
   "source": [
    "## Markdown cells\n",
    "\n",
    "Add mentioned above, there are two cell types, Code and Text. Text cells get formatted using Markdown, a simple markup language using simple signs like ```*``` or ```#``` to specify formatting. You can for example:\n",
    "\n",
    "- Format titles and subtitles using one or more ```#``` signs.\n",
    "- Write in *italic* or **bold** by surrounding text with ```*``` or ```**```, respectively.\n",
    "- Create lists using ```-```\n",
    "- Add a link by using ```[this is my text](http link)```\n",
    "\n",
    "You can also find more information in guides online such as [this one](https://docs.github.com/en/get-started/writing-on-github/getting-started-with-writing-and-formatting-on-github/basic-writing-and-formatting-syntax)."
   ]
  },
  {
   "cell_type": "markdown",
   "id": "62c245e5-9cd3-4d66-8bcc-c5ed03253cf1",
   "metadata": {},
   "source": [
    "## Exercise\n",
    "\n",
    "Open a notebook and make sure you can run simple code such as ```a = 5``` , add and remove cells, re-start the kernel, convert a cell to Markdown etc."
   ]
  },
  {
   "cell_type": "code",
   "execution_count": null,
   "id": "1ce8009c-fa28-4cf0-93b6-2dd875b06c90",
   "metadata": {},
   "outputs": [],
   "source": []
  }
 ],
 "metadata": {
  "kernelspec": {
   "display_name": "DSPy2025",
   "language": "python",
   "name": "python3"
  },
  "language_info": {
   "codemirror_mode": {
    "name": "ipython",
    "version": 3
   },
   "file_extension": ".py",
   "mimetype": "text/x-python",
   "name": "python",
   "nbconvert_exporter": "python",
   "pygments_lexer": "ipython3",
   "version": "3.12.11"
  }
 },
 "nbformat": 4,
 "nbformat_minor": 5
}
